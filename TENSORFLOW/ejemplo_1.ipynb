{
  "nbformat": 4,
  "nbformat_minor": 0,
  "metadata": {
    "colab": {
      "name": "GuiaTensorflow_1.ipynb",
      "private_outputs": true,
      "provenance": [],
      "authorship_tag": "ABX9TyMduX60qzI70wqOd0yDjmcE",
      "include_colab_link": true
    },
    "kernelspec": {
      "name": "python3",
      "display_name": "Python 3"
    },
    "language_info": {
      "name": "python"
    }
  },
  "cells": [
    {
      "cell_type": "markdown",
      "metadata": {
        "id": "view-in-github",
        "colab_type": "text"
      },
      "source": [
        "<a href=\"https://colab.research.google.com/github/fgabim19/Curso-Ciencia-de-Datos/blob/main/GuiaTensorflow_1.ipynb\" target=\"_parent\"><img src=\"https://colab.research.google.com/assets/colab-badge.svg\" alt=\"Open In Colab\"/></a>"
      ]
    },
    {
      "cell_type": "code",
      "execution_count": null,
      "metadata": {
        "id": "_KQQP9mWYqSc"
      },
      "outputs": [],
      "source": [
        "import tensorflow as tf\n",
        "from tensorflow import keras\n",
        "from tensorflow.keras import layers"
      ]
    },
    {
      "cell_type": "code",
      "source": [
        "# Define Sequential model with 3 layers\n",
        "model = keras.Sequential(\n",
        "    [\n",
        "        layers.Dense(2, activation=\"relu\", name=\"layer1\"),\n",
        "        layers.Dense(3, activation=\"relu\", name=\"layer2\"),\n",
        "        layers.Dense(4, name=\"layer3\"),\n",
        "    ]\n",
        ")\n",
        "# Call model on a test input\n",
        "x = tf.ones((3, 3))\n",
        "y = model(x)"
      ],
      "metadata": {
        "id": "NGI01fIrcOtu"
      },
      "execution_count": null,
      "outputs": []
    },
    {
      "cell_type": "code",
      "source": [
        "# forma A)\n",
        "model = keras.Sequential(\n",
        "    [\n",
        "        layers.Dense(2, activation=\"relu\"),\n",
        "        layers.Dense(3, activation=\"relu\"),\n",
        "        layers.Dense(4),\n",
        "    ]\n",
        ")"
      ],
      "metadata": {
        "id": "OQ9mnUqiYzNS"
      },
      "execution_count": null,
      "outputs": []
    },
    {
      "cell_type": "code",
      "source": [
        "# ver capas\n",
        "model.layers"
      ],
      "metadata": {
        "id": "YP-hNePOZpT9"
      },
      "execution_count": null,
      "outputs": []
    },
    {
      "cell_type": "code",
      "source": [
        "# forma B)\n",
        "model = keras.Sequential()\n",
        "model.add(layers.Dense(2, activation=\"relu\"))\n",
        "model.add(layers.Dense(3, activation=\"relu\"))\n",
        "model.add(layers.Dense(4))"
      ],
      "metadata": {
        "id": "NJju2DqKadPy"
      },
      "execution_count": null,
      "outputs": []
    },
    {
      "cell_type": "code",
      "source": [
        "# eliminar capas\n",
        "model.pop()\n",
        "print(len(model.layers)) #2"
      ],
      "metadata": {
        "id": "UpVGeDPJavVC"
      },
      "execution_count": null,
      "outputs": []
    },
    {
      "cell_type": "code",
      "source": [
        "# nombre de la secuencia\n",
        "model = keras.Sequential(name=\"my_sequential\")\n",
        "model.add(layers.Dense(2, activation=\"relu\", name=\"layer1\"))\n",
        "model.add(layers.Dense(3, activation=\"relu\", name=\"layer2\"))\n",
        "model.add(layers.Dense(4, name=\"layer3\"))"
      ],
      "metadata": {
        "id": "-fiEDMd3bKu1"
      },
      "execution_count": null,
      "outputs": []
    },
    {
      "cell_type": "code",
      "source": [
        "# cuando se crea una capa inicialmente no tiene pesos\n",
        "layer = layers.Dense(3)\n",
        "layer.weights"
      ],
      "metadata": {
        "id": "tFR_X2r0boBb"
      },
      "execution_count": null,
      "outputs": []
    },
    {
      "cell_type": "code",
      "source": [
        "# los pesos se inician cuando se llama a la funcion\n",
        "x = tf.ones((1,4))\n",
        "y = layer(x)\n",
        "layer.weights"
      ],
      "metadata": {
        "id": "nx3VxJDTcBTV"
      },
      "execution_count": null,
      "outputs": []
    },
    {
      "cell_type": "code",
      "source": [
        "# una vez que se construye el modelo, se puede usar metodo para mostrar el contenido\n",
        "model.summary()"
      ],
      "metadata": {
        "id": "Px2XTxScAxYw"
      },
      "execution_count": null,
      "outputs": []
    },
    {
      "cell_type": "code",
      "source": [
        "#forma conveniente de escribir modelo\n",
        "# Input no se muestra como parte del model.layers, ya que no es una capa \n",
        "model = keras.Sequential()\n",
        "model.add(keras.Input(shape=(4,)))\n",
        "model.add(layers.Dense(2, activation=\"relu\"))\n",
        "\n",
        "\n",
        "model.summary()"
      ],
      "metadata": {
        "id": "WQKXYL5bBmV8"
      },
      "execution_count": null,
      "outputs": []
    },
    {
      "cell_type": "code",
      "source": [
        "# una alternativa mas sensilla\n",
        "model = keras.Sequential()\n",
        "model.add(layers.Dense(2, activation=\"relu\", input_shape=(4,)))\n",
        "\n",
        "model.summary()"
      ],
      "metadata": {
        "id": "Xiloi7cxCSut"
      },
      "execution_count": null,
      "outputs": []
    },
    {
      "cell_type": "markdown",
      "source": [
        "### Extracción de características con un modelo secuencial\n",
        "Una vez que un modelo secuencial se ha construido, se comporta como un modelo funcional de la API . Esto significa que cada capa tiene una input y output de atributos. Estos atributos se pueden usar para hacer cosas interesantes, como crear rápidamente un modelo que extraiga los resultados de todas las capas intermedias en un modelo secuencial:"
      ],
      "metadata": {
        "id": "KCe6xxF3Dmt1"
      }
    },
    {
      "cell_type": "code",
      "source": [
        "initial_model = keras.Sequential(\n",
        "    [\n",
        "     keras.Input(shape=(250, 250, 3)),\n",
        "     layers.Conv2D(32, 5, strides=2, activation=\"relu\"),\n",
        "     layers.Conv2D(32, 3, activation=\"relu\"),\n",
        "     layers.Conv2D(32, 3, activation='relu'),\n",
        "    ]\n",
        ")\n",
        "\n",
        "feature_extractor = keras.Model(\n",
        "    inputs = initial_model.inputs,\n",
        "    outputs = [layer.output for layer in initial_model.layers],\n",
        ")\n",
        "\n",
        "x = tf.ones((1, 250, 250, 3))\n",
        "features = feature_extractor(x)"
      ],
      "metadata": {
        "id": "5aQ2AgPaDBge"
      },
      "execution_count": null,
      "outputs": []
    },
    {
      "cell_type": "code",
      "source": [
        "# otra forma de hacer\n",
        "initial_model = keras.Sequential(\n",
        "    [\n",
        "        keras.Input(shape=(250, 250, 3)),\n",
        "        layers.Conv2D(32, 5, strides=2, activation=\"relu\"),\n",
        "        layers.Conv2D(32, 3, activation=\"relu\", name=\"my_intermediate_layer\"),\n",
        "        layers.Conv2D(32, 3, activation=\"relu\"),\n",
        "    ]\n",
        ")\n",
        "feature_extractor = keras.Model(\n",
        "    inputs=initial_model.inputs,\n",
        "    outputs=initial_model.get_layer(name=\"my_intermediate_layer\").output,\n",
        ")\n",
        "# Call feature extractor on test input.\n",
        "x = tf.ones((1, 250, 250, 3))\n",
        "features = feature_extractor(x)"
      ],
      "metadata": {
        "id": "bXJxETM_E8xN"
      },
      "execution_count": null,
      "outputs": []
    },
    {
      "cell_type": "code",
      "source": [
        ""
      ],
      "metadata": {
        "id": "GCNUG734FPMU"
      },
      "execution_count": null,
      "outputs": []
    }
  ]
}