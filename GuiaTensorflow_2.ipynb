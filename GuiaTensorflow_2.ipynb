{
  "nbformat": 4,
  "nbformat_minor": 0,
  "metadata": {
    "colab": {
      "name": "GuiaTensorflow_2.ipynb",
      "private_outputs": true,
      "provenance": [],
      "authorship_tag": "ABX9TyPfrkvPb39mjNQgMAQsTPuk",
      "include_colab_link": true
    },
    "kernelspec": {
      "name": "python3",
      "display_name": "Python 3"
    },
    "language_info": {
      "name": "python"
    },
    "gpuClass": "standard"
  },
  "cells": [
    {
      "cell_type": "markdown",
      "metadata": {
        "id": "view-in-github",
        "colab_type": "text"
      },
      "source": [
        "<a href=\"https://colab.research.google.com/github/fgabim19/Curso-Ciencia-de-Datos/blob/main/GuiaTensorflow_2.ipynb\" target=\"_parent\"><img src=\"https://colab.research.google.com/assets/colab-badge.svg\" alt=\"Open In Colab\"/></a>"
      ]
    },
    {
      "cell_type": "code",
      "execution_count": null,
      "metadata": {
        "id": "DgmhhI__HMZS"
      },
      "outputs": [],
      "source": [
        "import tensorflow as tf\n",
        "from tensorflow import keras\n",
        "\n",
        "tf.keras.backend.clear_session()"
      ]
    },
    {
      "cell_type": "markdown",
      "source": [
        "Introduccion\n",
        "Ya estás familiarizado con el uso del metodo keras.Sequential() para crear modelos. La API funcional es una forma de crear modelos mas dinamicos que con Sequential: La API funcional puede manejar modelos con topología no lineal, modelos con capas compartidas y modelos con múltiples entradas o salidas.\n",
        "\n",
        "Se basa en la idea de que un modelo de aprendizaje profundo suele ser un gráfico acíclico dirigido (DAG) de capas. La API funcional es un conjunto de herramientas para construir gráficos de capas.\n",
        "\n",
        "Considera el siguiente modelo:"
      ],
      "metadata": {
        "id": "YxYfjfogIM7Q"
      }
    },
    {
      "cell_type": "markdown",
      "source": [
        "(input: 784-vectores dimensionales)<br>\n",
        "        ↧<br>\n",
        "[Dense (64 units, activacion relu)]<br>\n",
        "       ↧<br>\n",
        "[Dense (64 units, activacion relu)]<br>\n",
        "       ↧<br>\n",
        "[Dense (10 units, activacion softmax)]<br>\n",
        "       ↧<br>\n",
        "(output: distribución de probabilidad en 10 clases)"
      ],
      "metadata": {
        "id": "WPwcM0ApH1Jx"
      }
    },
    {
      "cell_type": "markdown",
      "source": [
        "### Entrenamiento, evaluación e inferencia."
      ],
      "metadata": {
        "id": "JMqRaugmMUNW"
      }
    },
    {
      "cell_type": "code",
      "source": [
        "from tensorflow.keras import layers"
      ],
      "metadata": {
        "id": "vgXOUxiuRumJ"
      },
      "execution_count": null,
      "outputs": []
    },
    {
      "cell_type": "code",
      "source": [
        "inputs = keras.Input(shape=(784,), name='img')\n",
        "x = layers.Dense(64, activation='relu')(inputs)\n",
        "x = layers.Dense(64, activation='relu')(x)\n",
        "outputs = layers.Dense(10, activation='softmax')(x)\n",
        "\n",
        "model = keras.Model(inputs=inputs, outputs=outputs, name='mnist_model')"
      ],
      "metadata": {
        "id": "xjxAsi-6QwFK"
      },
      "execution_count": null,
      "outputs": []
    },
    {
      "cell_type": "code",
      "source": [
        "model.summary()"
      ],
      "metadata": {
        "id": "_2JwpJonR5f2"
      },
      "execution_count": null,
      "outputs": []
    },
    {
      "cell_type": "code",
      "source": [
        "(x_train, y_train), (x_test, y_test) = keras.datasets.mnist.load_data()\n",
        "x_train = x_train.reshape(60000, 784).astype('float32') / 255\n",
        "x_test = x_test.reshape(10000, 784).astype('float32') / 255\n",
        "\n",
        "model.compile(loss = 'sparse_categorical_crossentropy',\n",
        "              optimizer = keras.optimizers.RMSprop(),\n",
        "              metrics = ['accuracy'])\n",
        "history = model.fit(\n",
        "    x_train, y_train,\n",
        "    batch_size=64,\n",
        "    epochs=5,\n",
        "    validation_split=0.2)\n",
        "\n",
        "test_score = model.evaluate(x_test, y_test, verbose=2)\n",
        "print('Test loss:', test_score[0])\n",
        "print('Test accuracy:', test_score[1])"
      ],
      "metadata": {
        "id": "vf6i-QhhH0zy"
      },
      "execution_count": null,
      "outputs": []
    },
    {
      "cell_type": "markdown",
      "source": [
        "### Almacenado y serialización"
      ],
      "metadata": {
        "id": "pnFjLYmmS77n"
      }
    },
    {
      "cell_type": "code",
      "source": [
        "model.save('path_to_my_model.h5')\n",
        "del model\n",
        "\n",
        "model = keras.models.load_model(\"path_to_my_model.h5\")"
      ],
      "metadata": {
        "id": "l3Ra26AcaE5e"
      },
      "execution_count": null,
      "outputs": []
    },
    {
      "cell_type": "markdown",
      "source": [
        "### Manipulación de topologías gráficas complejas\n",
        "\n",
        "La API funcional facilita la manipulación de múltiples entradas y salidas. Esto no se puede manejar con la API secuencial.\n",
        "\n",
        "Aquí hay un ejemplo simple.\n",
        "\n",
        "Supongamos que está creando un sistema para clasificar los tickets de emisión personalizados por prioridad y enrutarlos al departamento correcto.\n",
        "\n",
        "Tu modelo tendrá 3 entradas:\n",
        "\n",
        "* Título del ticket (entrada de texto)\n",
        "* Cuerpo del texto del ticket (entrada de texto)\n",
        "* Cualquier etiqueta agregada por el usuario (entrada categórica)\n",
        "\n",
        "Tendrá dos salidas:\n",
        "\n",
        "* Puntuación de prioridad entre 0 y 1 (salida sigmoidea escalar)\n",
        "* El departamento que debe manejar el ticket (salida softmax sobre el conjunto de departamentos)\n",
        "\n",
        "Construyamos este modelo en pocas líneas con la API funcional."
      ],
      "metadata": {
        "id": "GTABvKuwbX-S"
      }
    },
    {
      "cell_type": "code",
      "source": [
        "num_tags = 12\n",
        "num_words = 10000\n",
        "num_departments = 4\n",
        "\n",
        "title_input = keras.Input(shape=(None,), name='title')\n",
        "body_input = keras.Input(shape=(None,), name='body')\n",
        "tags_input = keras.Input(shape=(num_tags,), name='tags')\n",
        "\n",
        "title_features = layers.Embedding(num_words, 64)(title_input)\n",
        "body_features = layers.Embedding(num_words, 64)(body_input)\n",
        "\n",
        "title_features = layers.LSTM(128)(title_features)\n",
        "body_features = layers.LSTM(32)(body_features)\n",
        "\n",
        "x = layers.concatenate([title_features, body_features, tags_input])\n",
        "\n",
        "priority_pred = layers.Dense(1, activation=\"sigmoid\", name='priority')(x)\n",
        "\n",
        "departament_pred = layers.Dense(num_departments, activation='softmax', name='department')(x)\n",
        "\n",
        "model = keras.Model(inputs = [title_input, body_input, tags_input],\n",
        "                    outputs=[priority_pred, departament_pred])\n"
      ],
      "metadata": {
        "id": "mJ0M5VuIahRt"
      },
      "execution_count": null,
      "outputs": []
    },
    {
      "cell_type": "code",
      "source": [
        "keras.utils.plot_model(model, \"multi_input_and_ouput_model.png\", show_shapes=True)"
      ],
      "metadata": {
        "id": "eH-LFIDyiByq"
      },
      "execution_count": null,
      "outputs": []
    },
    {
      "cell_type": "markdown",
      "source": [
        "Al compilar este modelo, podemos asignar diferentes pérdidas a cada salida. Incluso puede asignar diferentes pesos a cada pérdida, para modular su contribución a la pérdida total de entrenamiento."
      ],
      "metadata": {
        "id": "NpA__I_BlXEn"
      }
    },
    {
      "cell_type": "code",
      "source": [
        "model.compile(optimizer=keras.optimizers.RMSprop(1e-3),\n",
        "              loss=['binary_crossentropy', 'categorical_crossentropy'],\n",
        "              loss_weights=[1., 0.2])"
      ],
      "metadata": {
        "id": "drhZwojRlA3o"
      },
      "execution_count": null,
      "outputs": []
    },
    {
      "cell_type": "code",
      "source": [
        "#Como dimos nombres a nuestras capas de salida, también podríamos especificar la pérdida de esta manera:\n",
        "model.compile(optimizer=keras.optimizers.RMSprop(1e-3),\n",
        "              loss={'priority': 'binary_crossentropy',\n",
        "                    'department': 'categorical_crossentropy'},\n",
        "              loss_weights=[1., 0.2])"
      ],
      "metadata": {
        "id": "MEz6hNOKmZz4"
      },
      "execution_count": null,
      "outputs": []
    },
    {
      "cell_type": "markdown",
      "source": [
        "### Extendiendo la API escribiendo capas personalizadas"
      ],
      "metadata": {
        "id": "i7Jsu-Aknc7g"
      }
    },
    {
      "cell_type": "code",
      "source": [
        "class CustomDense(layers.Layer):\n",
        "\n",
        "    def __init__(self, units=32):\n",
        "        super(CustomDense, self).__init__()\n",
        "        self.units = units\n",
        "\n",
        "    def build(self, input_shape):\n",
        "        self.w = self.add_weight(shape=(input_shape[-1], self.units),\n",
        "                                 initializer='random_normal',\n",
        "                                 trainable=True)\n",
        "        \n",
        "        self.b = self.add_weight(shape=(self.units,),\n",
        "                                 initializer='random_normal',\n",
        "                                 trainable=True)\n",
        "        \n",
        "    def call(self, inputs):\n",
        "        return tf.matmul(inputs, self.w) + self.b\n",
        "    \n",
        "inputs = keras.Input((4,))\n",
        "outputs = CustomDense(10)(inputs)\n",
        "\n",
        "\n",
        "model = keras.Model(inputs, outputs)"
      ],
      "metadata": {
        "id": "lyT6cQ2gmdS2"
      },
      "execution_count": null,
      "outputs": []
    },
    {
      "cell_type": "markdown",
      "source": [
        "#### Valida su modelo mientras lo está definiendo."
      ],
      "metadata": {
        "id": "U4i-NetYQCz-"
      }
    },
    {
      "cell_type": "code",
      "source": [
        ""
      ],
      "metadata": {
        "id": "A-EizvqlOgVL"
      },
      "execution_count": null,
      "outputs": []
    }
  ]
}