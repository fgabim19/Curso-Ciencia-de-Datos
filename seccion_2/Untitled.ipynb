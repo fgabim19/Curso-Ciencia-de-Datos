{
 "cells": [
  {
   "cell_type": "markdown",
   "id": "b664fc52-7400-47cb-a89b-a47200ba7b32",
   "metadata": {},
   "source": [
    "# Estadisticas: Funciones de Distribucion de Probabilidad.\n",
    "## Un poco de Probabilidad\n",
    "Primero algunas definiciones.\n",
    "\n",
    "* **Variable Aleatoria**\n",
    "En probabilidad y estadística, una variable aleatoria es una función que asigna un valor, usualmente numérico, al resultado de un experimento aleatorio.<br>\n",
    "*Por ejemplo*, los posibles resultados de tirar un dado dos veces: (1, 1), (1, 2), etc. o un número real (p.e., la temperatura máxima medida a lo largo del día en una ciudad concreta).\n",
    "\n",
    "* **Función de Distribución de Probabilidad** \n",
    "En teoría de la probabilidad y estadística, la distribución de probabilidad de una variable aleatoria es una función que asigna a cada suceso definido sobre la variable la probabilidad de que dicho suceso ocurra.\n",
    "\n",
    "* **Funcion de Distribucion Acumulada**<br>\n",
    "A función de distribución acumulada (FDA, designada también a veces simplemente como función de distribución o FD) o función de probabilidad acumulada asociada a una variable aleatoria real **X** sujeta a cierta ley de distribución de probabilidad, es una función matemática de la variable real *x* que describe la probabilidad de que *X* tenga un valor menor o igual que *x*.\n",
    "\n",
    "### Funcion de distribucion Unforme\n",
    "\n",
    "Una funcion de distribucion de probabilidad es una funcion como su nombre lo indica en la que todas las variables aleatorias en un intervalo *(a;b)* toman la misma probabilidad.\n",
    "\n",
    "![Funcion de distribucion uniforme detallada.](../recursos/seccion-2/uniforme2.png)\n",
    "\n"
   ]
  },
  {
   "cell_type": "code",
   "execution_count": 19,
   "id": "26b04414-604c-4b06-a559-5ec4ba7b7fbb",
   "metadata": {},
   "outputs": [],
   "source": [
    "import numpy as np\n",
    "import matplotlib.pyplot as plt"
   ]
  },
  {
   "cell_type": "code",
   "execution_count": 23,
   "id": "3c4d714e-1f39-44d9-992c-e371a02840b8",
   "metadata": {},
   "outputs": [],
   "source": [
    "a = 1\n",
    "b = 100\n",
    "n1 = 1000\n",
    "n2 = 10000\n",
    "n3 = 100000\n",
    "\n",
    "data1 = np.random.uniform(a, b, n1)\n",
    "data2 = np.random.uniform(a, b, n2)\n",
    "data3 = np.random.uniform(a, b, n3)"
   ]
  },
  {
   "cell_type": "code",
   "execution_count": 42,
   "id": "adabc989-bc25-4db9-af80-7793a1080bc2",
   "metadata": {},
   "outputs": [
    {
     "data": {
      "text/plain": [
       "(array([ 87., 104., 101.,  97., 112., 112.,  96.,  91.,  87., 113.]),\n",
       " array([ 1.14731986, 11.00934851, 20.87137716, 30.73340581, 40.59543446,\n",
       "        50.45746311, 60.31949175, 70.1815204 , 80.04354905, 89.9055777 ,\n",
       "        99.76760635]),\n",
       " <BarContainer object of 10 artists>)"
      ]
     },
     "execution_count": 42,
     "metadata": {},
     "output_type": "execute_result"
    },
    {
     "data": {
      "image/png": "[encoded data removed]",
      "text/plain": [
       "<Figure size 432x288 with 1 Axes>"
      ]
     },
     "metadata": {
      "needs_background": "light"
     },
     "output_type": "display_data"
    }
   ],
   "source": [
    "%matplotlib inline\n",
    "plt.hist(data1)    "
   ]
  },
  {
   "cell_type": "code",
   "execution_count": 43,
   "id": "d826796a",
   "metadata": {},
   "outputs": [
    {
     "data": {
      "text/plain": [
       "(array([1026., 1017.,  983.,  991.,  981., 1028.,  975., 1027., 1017.,\n",
       "         955.]),\n",
       " array([ 1.00199824, 10.90099135, 20.79998446, 30.69897757, 40.59797068,\n",
       "        50.49696379, 60.39595689, 70.29495   , 80.19394311, 90.09293622,\n",
       "        99.99192933]),\n",
       " <BarContainer object of 10 artists>)"
      ]
     },
     "execution_count": 43,
     "metadata": {},
     "output_type": "execute_result"
    },
    {
     "data": {
      "image/png": "[encoded data removed]",
      "text/plain": [
       "<Figure size 432x288 with 1 Axes>"
      ]
     },
     "metadata": {
      "needs_background": "light"
     },
     "output_type": "display_data"
    }
   ],
   "source": [
    "plt.hist(data2)"
   ]
  },
  {
   "cell_type": "code",
   "execution_count": 44,
   "id": "b77f78c0",
   "metadata": {},
   "outputs": [
    {
     "data": {
      "text/plain": [
       "(array([10162.,  9987., 10007.,  9999.,  9756.,  9959., 10029.,  9948.,\n",
       "        10009., 10144.]),\n",
       " array([ 1.00076962, 10.90061777, 20.80046593, 30.70031408, 40.60016223,\n",
       "        50.50001039, 60.39985854, 70.2997067 , 80.19955485, 90.09940301,\n",
       "        99.99925116]),\n",
       " <BarContainer object of 10 artists>)"
      ]
     },
     "execution_count": 44,
     "metadata": {},
     "output_type": "execute_result"
    },
    {
     "data": {
      "image/png": "[encoded data removed]",
      "text/plain": [
       "<Figure size 432x288 with 1 Axes>"
      ]
     },
     "metadata": {
      "needs_background": "light"
     },
     "output_type": "display_data"
    }
   ],
   "source": [
    "plt.hist(data3)"
   ]
  },
  {
   "cell_type": "markdown",
   "id": "9abfbdd2-a5ad-4c85-8c60-c2567920dc2d",
   "metadata": {},
   "source": [
    "Podemos ve que a si bien no es totalmente uniforme a medida que aumentamos el tamaño de la muestra mas parecido a una funcion uniforme."
   ]
  },
  {
   "cell_type": "markdown",
   "id": "de0e2bc3",
   "metadata": {},
   "source": []
  }
 ],
 "metadata": {
  "kernelspec": {
   "display_name": "Python 3",
   "language": "python",
   "name": "python3"
  },
  "language_info": {
   "codemirror_mode": {
    "name": "ipython",
    "version": 3
   },
   "file_extension": ".py",
   "mimetype": "text/x-python",
   "name": "python",
   "nbconvert_exporter": "python",
   "pygments_lexer": "ipython3",
   "version": "3.10.4"
  }
 },
 "nbformat": 4,
 "nbformat_minor": 5
}
