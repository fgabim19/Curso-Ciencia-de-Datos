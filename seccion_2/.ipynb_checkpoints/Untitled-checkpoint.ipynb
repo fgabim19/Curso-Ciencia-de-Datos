{
 "cells": [
  {
   "cell_type": "markdown",
   "id": "b664fc52-7400-47cb-a89b-a47200ba7b32",
   "metadata": {},
   "source": [
    "# Estadisticas: Funciones de Distribucion de Probabilidad.\n",
    "## Un poco de Probabilidad\n",
    "Primero algunas definiciones.\n",
    "\n",
    "* **Variable Aleatoria**\n",
    "En probabilidad y estadística, una variable aleatoria es una función que asigna un valor, usualmente numérico, al resultado de un experimento aleatorio.<br>\n",
    "*Por ejemplo*, los posibles resultados de tirar un dado dos veces: (1, 1), (1, 2), etc. o un número real (p.e., la temperatura máxima medida a lo largo del día en una ciudad concreta).\n",
    "\n",
    "* **Función de Distribución de Probabilidad** \n",
    "En teoría de la probabilidad y estadística, la distribución de probabilidad de una variable aleatoria es una función que asigna a cada suceso definido sobre la variable la probabilidad de que dicho suceso ocurra.\n",
    "\n",
    "* **Funcion de Distribucion Acumulada**<br>\n",
    "A función de distribución acumulada (FDA, designada también a veces simplemente como función de distribución o FD) o función de probabilidad acumulada asociada a una variable aleatoria real **X** sujeta a cierta ley de distribución de probabilidad, es una función matemática de la variable real *x* que describe la probabilidad de que *X* tenga un valor menor o igual que *x*.\n",
    "\n",
    "### Funcion de distribucion Unforme\n",
    "\n",
    "Una funcion de distribucion de probabilidad es una funcion como su nombre lo indica en la que todas las variables aleatorias en un intervalo *(a;b)* toman la misma probabilidad.\n",
    "\n",
    "![Funcion de distribucion uniforme detallada.](../recursos/seccion-2/uniforme2.png)\n",
    "\n"
   ]
  },
  {
   "cell_type": "code",
   "execution_count": 6,
   "id": "26b04414-604c-4b06-a559-5ec4ba7b7fbb",
   "metadata": {},
   "outputs": [],
   "source": [
    "import numpy as np\n",
    "import matplotlib.pyplot as plt"
   ]
  },
  {
   "cell_type": "code",
   "execution_count": 4,
   "id": "3c4d714e-1f39-44d9-992c-e371a02840b8",
   "metadata": {},
   "outputs": [],
   "source": [
    "a = 1\n",
    "b = 100\n",
    "n = 200\n",
    "data = np.random.uniform(a, b, n)"
   ]
  },
  {
   "cell_type": "code",
   "execution_count": 7,
   "id": "adabc989-bc25-4db9-af80-7793a1080bc2",
   "metadata": {},
   "outputs": [
    {
     "data": {
      "text/plain": [
       "(array([19., 20., 21., 27., 18., 20., 17., 19., 16., 23.]),\n",
       " array([ 1.13073936, 10.9802697 , 20.82980004, 30.67933038, 40.52886073,\n",
       "        50.37839107, 60.22792141, 70.07745175, 79.9269821 , 89.77651244,\n",
       "        99.62604278]),\n",
       " <BarContainer object of 10 artists>)"
      ]
     },
     "execution_count": 7,
     "metadata": {},
     "output_type": "execute_result"
    },
    {
     "data": {
      "image/png": "[encoded data removed]",
      "text/plain": [
       "<Figure size 432x288 with 1 Axes>"
      ]
     },
     "metadata": {
      "needs_background": "light"
     },
     "output_type": "display_data"
    }
   ],
   "source": [
    "%matplotlib inline\n",
    "plt.hist(data)"
   ]
  },
  {
   "cell_type": "code",
   "execution_count": null,
   "id": "9abfbdd2-a5ad-4c85-8c60-c2567920dc2d",
   "metadata": {},
   "outputs": [],
   "source": []
  }
 ],
 "metadata": {
  "kernelspec": {
   "display_name": "Python 3",
   "language": "python",
   "name": "python3"
  },
  "language_info": {
   "codemirror_mode": {
    "name": "ipython",
    "version": 3
   },
   "file_extension": ".py",
   "mimetype": "text/x-python",
   "name": "python",
   "nbconvert_exporter": "python",
   "pygments_lexer": "ipython3",
   "version": "3.10.4"
  }
 },
 "nbformat": 4,
 "nbformat_minor": 5
}
