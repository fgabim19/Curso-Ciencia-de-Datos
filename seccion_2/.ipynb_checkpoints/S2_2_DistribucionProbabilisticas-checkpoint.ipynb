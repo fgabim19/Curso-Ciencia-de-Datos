{
 "cells": [
  {
   "cell_type": "markdown",
   "id": "b664fc52-7400-47cb-a89b-a47200ba7b32",
   "metadata": {},
   "source": [
    "# Estadisticas: Funciones de Distribucion de Probabilidad.\n",
    "## Un poco de Probabilidad\n",
    "Primero algunas definiciones.\n",
    "\n",
    "* **Variable Aleatoria**\n",
    "En probabilidad y estadística, una variable aleatoria es una función que asigna un valor, usualmente numérico, al resultado de un experimento aleatorio.<br>\n",
    "*Por ejemplo*, los posibles resultados de tirar un dado dos veces: (1, 1), (1, 2), etc. o un número real (p.e., la temperatura máxima medida a lo largo del día en una ciudad concreta).\n",
    "\n",
    "* **Función de Distribución de Probabilidad** \n",
    "En teoría de la probabilidad y estadística, la distribución de probabilidad de una variable aleatoria es una función que asigna a cada suceso definido sobre la variable la probabilidad de que dicho suceso ocurra.\n",
    "\n",
    "* **Funcion de Distribucion Acumulada**<br>\n",
    "A función de distribución acumulada (FDA, designada también a veces simplemente como función de distribución o FD) o función de probabilidad acumulada asociada a una variable aleatoria real **X** sujeta a cierta ley de distribución de probabilidad, es una función matemática de la variable real *x* que describe la probabilidad de que *X* tenga un valor menor o igual que *x*.\n",
    "\n",
    "### Funcion de distribucion Unforme\n",
    "\n",
    "Una funcion de distribucion de probabilidad es una funcion como su nombre lo indica en la que todas las variables aleatorias en un intervalo *(a;b)* toman la misma probabilidad.\n",
    "\n",
    "![Funcion de distribucion uniforme detallada.](../recursos/seccion-2/uniforme2.png)\n",
    "\n"
   ]
  },
  {
   "cell_type": "code",
   "execution_count": 2,
   "id": "26b04414-604c-4b06-a559-5ec4ba7b7fbb",
   "metadata": {},
   "outputs": [],
   "source": [
    "import numpy as np\n",
    "import matplotlib.pyplot as plt\n",
    "import pandas as pd"
   ]
  },
  {
   "cell_type": "code",
   "execution_count": 3,
   "id": "3c4d714e-1f39-44d9-992c-e371a02840b8",
   "metadata": {},
   "outputs": [],
   "source": [
    "a = 1\n",
    "b = 100\n",
    "n1 = 1000\n",
    "n2 = 10000\n",
    "n3 = 100000\n",
    "\n",
    "data1 = np.random.uniform(a, b, n1)\n",
    "data2 = np.random.uniform(a, b, n2)\n",
    "data3 = np.random.uniform(a, b, n3)"
   ]
  },
  {
   "cell_type": "code",
   "execution_count": 4,
   "id": "adabc989-bc25-4db9-af80-7793a1080bc2",
   "metadata": {},
   "outputs": [
    {
     "data": {
      "text/plain": [
       "(array([ 95.,  89.,  92., 104., 107.,  99.,  90., 116., 107., 101.]),\n",
       " array([ 1.21075278, 11.07749166, 20.94423054, 30.81096941, 40.67770829,\n",
       "        50.54444716, 60.41118604, 70.27792491, 80.14466379, 90.01140266,\n",
       "        99.87814154]),\n",
       " <BarContainer object of 10 artists>)"
      ]
     },
     "execution_count": 4,
     "metadata": {},
     "output_type": "execute_result"
    },
    {
     "data": {
      "image/png": "[encoded data removed]",
      "text/plain": [
       "<Figure size 432x288 with 1 Axes>"
      ]
     },
     "metadata": {
      "needs_background": "light"
     },
     "output_type": "display_data"
    }
   ],
   "source": [
    "%matplotlib inline\n",
    "plt.hist(data1)    "
   ]
  },
  {
   "cell_type": "code",
   "execution_count": 5,
   "id": "d826796a",
   "metadata": {},
   "outputs": [
    {
     "data": {
      "text/plain": [
       "(array([1012.,  944.,  976., 1035., 1042., 1019.,  935., 1034., 1016.,\n",
       "         987.]),\n",
       " array([ 1.03593613, 10.93226417, 20.82859221, 30.72492025, 40.62124829,\n",
       "        50.51757633, 60.41390437, 70.31023242, 80.20656046, 90.1028885 ,\n",
       "        99.99921654]),\n",
       " <BarContainer object of 10 artists>)"
      ]
     },
     "execution_count": 5,
     "metadata": {},
     "output_type": "execute_result"
    },
    {
     "data": {
      "image/png": "[encoded data removed]",
      "text/plain": [
       "<Figure size 432x288 with 1 Axes>"
      ]
     },
     "metadata": {
      "needs_background": "light"
     },
     "output_type": "display_data"
    }
   ],
   "source": [
    "plt.hist(data2)"
   ]
  },
  {
   "cell_type": "code",
   "execution_count": 6,
   "id": "b77f78c0",
   "metadata": {},
   "outputs": [
    {
     "data": {
      "text/plain": [
       "(array([10027., 10193.,  9966.,  9872.,  9974., 10040., 10042.,  9890.,\n",
       "         9953., 10043.]),\n",
       " array([ 1.00063271, 10.90051635, 20.80039999, 30.70028363, 40.60016727,\n",
       "        50.50005091, 60.39993454, 70.29981818, 80.19970182, 90.09958546,\n",
       "        99.9994691 ]),\n",
       " <BarContainer object of 10 artists>)"
      ]
     },
     "execution_count": 6,
     "metadata": {},
     "output_type": "execute_result"
    },
    {
     "data": {
      "image/png": "[encoded data removed]",
      "text/plain": [
       "<Figure size 432x288 with 1 Axes>"
      ]
     },
     "metadata": {
      "needs_background": "light"
     },
     "output_type": "display_data"
    }
   ],
   "source": [
    "plt.hist(data3)"
   ]
  },
  {
   "cell_type": "markdown",
   "id": "9abfbdd2-a5ad-4c85-8c60-c2567920dc2d",
   "metadata": {},
   "source": [
    "Podemos ve que a si bien no es totalmente uniforme a medida que aumentamos el tamaño de la muestra mas parecido a una funcion uniforme."
   ]
  },
  {
   "cell_type": "markdown",
   "id": "8dfdec02",
   "metadata": {},
   "source": [
    "### Distribucion Normal (Cmapana de Gauss)\n",
    "\n",
    "Una funcion de distribucion Normal es una funcion de distribucion de que tiene la forma:\n",
    "\n",
    "\n",
    "El pico de la curva indica el promedio de los valores mientras que los puntos de inflecion (donde la curva de ser concava hacia arriva para pasa a ser concava hacia abajo o viceversa) son las desviaciones estandar.\n",
    "\n",
    "Una variante es la distrivucion Normal Standard, donde tiene la misma forma pero al ser Z = ()\n",
    "![Distribucion Normal Standard](../recursos/seccion-2/distribucionNormal.png)\n",
    "\n",
    "### Funcion de Distribucion Normal Standar en Python\n",
    "\n",
    "La funcion `random.randn()` genera numeros aleatorios de distribucion Normal, tambien es posible generar un array de numero aleatorios de distribucion Normal como el siguiente ejemplo."
   ]
  },
  {
   "cell_type": "code",
   "execution_count": 7,
   "id": "1c9c9081",
   "metadata": {},
   "outputs": [
    {
     "data": {
      "text/plain": [
       "array([[-0.7519758 , -0.51561225,  0.46452544, -1.61137483],\n",
       "       [ 0.00432223,  1.2029489 ,  0.70512822,  1.6560259 ]])"
      ]
     },
     "execution_count": 7,
     "metadata": {},
     "output_type": "execute_result"
    }
   ],
   "source": [
    "data0 = np.random.randn(2, 4)\n",
    "data0"
   ]
  },
  {
   "cell_type": "markdown",
   "id": "bdd63840",
   "metadata": {},
   "source": [
    "Para graficar una funcion de distribucion Normal, se puede usar la libreria 'matplotlib' y la funcion 'plot' de la misma."
   ]
  },
  {
   "cell_type": "code",
   "execution_count": 8,
   "id": "7570faf6",
   "metadata": {},
   "outputs": [],
   "source": [
    "data1 = np.random.randn(100)\n",
    "data2 = np.random.randn(10000)"
   ]
  },
  {
   "cell_type": "code",
   "execution_count": 9,
   "id": "f663ef4d",
   "metadata": {},
   "outputs": [
    {
     "data": {
      "text/plain": [
       "[<matplotlib.lines.Line2D at 0x7f2ea9564d30>]"
      ]
     },
     "execution_count": 9,
     "metadata": {},
     "output_type": "execute_result"
    },
    {
     "data": {
      "image/png": "[encoded data removed]",
      "text/plain": [
       "<Figure size 432x288 with 1 Axes>"
      ]
     },
     "metadata": {
      "needs_background": "light"
     },
     "output_type": "display_data"
    }
   ],
   "source": [
    "x1 = range(1, 101)\n",
    "x2 = range(1, 10001)\n",
    "plt.plot(x1, data1)"
   ]
  },
  {
   "cell_type": "code",
   "execution_count": 10,
   "id": "4c2e622f",
   "metadata": {},
   "outputs": [
    {
     "data": {
      "text/plain": [
       "(array([ 5.,  4., 10., 23., 22., 16.,  7.,  6.,  3.,  4.]),\n",
       " array([-1.8075552 , -1.38159634, -0.95563748, -0.52967862, -0.10371976,\n",
       "         0.32223909,  0.74819795,  1.17415681,  1.60011567,  2.02607453,\n",
       "         2.45203339]),\n",
       " <BarContainer object of 10 artists>)"
      ]
     },
     "execution_count": 10,
     "metadata": {},
     "output_type": "execute_result"
    },
    {
     "data": {
      "image/png": "[encoded data removed]",
      "text/plain": [
       "<Figure size 432x288 with 1 Axes>"
      ]
     },
     "metadata": {
      "needs_background": "light"
     },
     "output_type": "display_data"
    }
   ],
   "source": [
    "plt.hist(data1)"
   ]
  },
  {
   "cell_type": "code",
   "execution_count": 11,
   "id": "a67d67c3",
   "metadata": {},
   "outputs": [
    {
     "data": {
      "text/plain": [
       "(array([  11.,  111.,  555., 1693., 2743., 2737., 1525.,  527.,   88.,\n",
       "          10.]),\n",
       " array([-3.73307666, -2.97896238, -2.22484809, -1.4707338 , -0.71661951,\n",
       "         0.03749478,  0.79160907,  1.54572336,  2.29983764,  3.05395193,\n",
       "         3.80806622]),\n",
       " <BarContainer object of 10 artists>)"
      ]
     },
     "execution_count": 11,
     "metadata": {},
     "output_type": "execute_result"
    },
    {
     "data": {
      "image/png": "[encoded data removed]",
      "text/plain": [
       "<Figure size 432x288 with 1 Axes>"
      ]
     },
     "metadata": {
      "needs_background": "light"
     },
     "output_type": "display_data"
    }
   ],
   "source": [
    "plt.hist(data2)"
   ]
  },
  {
   "cell_type": "markdown",
   "id": "f1e795c5",
   "metadata": {},
   "source": [
    "Distribucion normal acumulada se muestra a continuacion, y se grafica con los comandos `plt.plot()' con los arguentos `x`, y `sorted(data)` para ordenar y acumular los datos."
   ]
  },
  {
   "cell_type": "code",
   "execution_count": 12,
   "id": "e67273b4",
   "metadata": {},
   "outputs": [
    {
     "data": {
      "text/plain": [
       "[<matplotlib.lines.Line2D at 0x7f2ea929af50>]"
      ]
     },
     "execution_count": 12,
     "metadata": {},
     "output_type": "execute_result"
    },
    {
     "data": {
      "image/png": "[encoded data removed]",
      "text/plain": [
       "<Figure size 432x288 with 1 Axes>"
      ]
     },
     "metadata": {
      "needs_background": "light"
     },
     "output_type": "display_data"
    }
   ],
   "source": [
    "plt.plot(x1, sorted(data1))"
   ]
  },
  {
   "cell_type": "code",
   "execution_count": 13,
   "id": "66caa521",
   "metadata": {},
   "outputs": [
    {
     "data": {
      "text/plain": [
       "[<matplotlib.lines.Line2D at 0x7f2ea93554e0>]"
      ]
     },
     "execution_count": 13,
     "metadata": {},
     "output_type": "execute_result"
    },
    {
     "data": {
      "image/png": "[encoded data removed]",
      "text/plain": [
       "<Figure size 432x288 with 1 Axes>"
      ]
     },
     "metadata": {
      "needs_background": "light"
     },
     "output_type": "display_data"
    }
   ],
   "source": [
    "plt.plot(x2, sorted(data2))"
   ]
  },
  {
   "cell_type": "markdown",
   "id": "740823dd",
   "metadata": {},
   "source": [
    "#### Teorema Central del Limite\n",
    "  El teorema del límite central o teorema central del límite indica que, en condiciones muy generales, si **Sn** es la suma de **n** variables aleatorias independientes, con media conocida y varianza no nula pero finita, entonces la función de distribución de **Sn** «se aproxima bien» a una distribución normal.<br>\n",
    "Ejemplo:"
   ]
  },
  {
   "cell_type": "code",
   "execution_count": 14,
   "id": "281be734",
   "metadata": {},
   "outputs": [
    {
     "data": {
      "text/plain": [
       "(array([1.600e+01, 1.950e+02, 9.830e+02, 2.489e+03, 3.279e+03, 2.179e+03,\n",
       "        7.100e+02, 1.420e+02, 6.000e+00, 1.000e+00]),\n",
       " array([-3.75986864, -1.65180747,  0.4562537 ,  2.56431487,  4.67237604,\n",
       "         6.78043721,  8.88849837, 10.99655954, 13.10462071, 15.21268188,\n",
       "        17.32074305]),\n",
       " <BarContainer object of 10 artists>)"
      ]
     },
     "execution_count": 14,
     "metadata": {},
     "output_type": "execute_result"
    },
    {
     "data": {
      "image/png": "[encoded data removed]",
      "text/plain": [
       "<Figure size 432x288 with 1 Axes>"
      ]
     },
     "metadata": {
      "needs_background": "light"
     },
     "output_type": "display_data"
    }
   ],
   "source": [
    "\n",
    "mu = 5.5\n",
    "sd = 2.5\n",
    "z_10000 = np.random.randn(10000)\n",
    "data3 = mu + sd * z_10000    #z = (X - mu) / sd ==>N(0,1), X = mu + sd * z ==> N(mu, sd^2)\n",
    "plt.hist(data3)"
   ]
  },
  {
   "cell_type": "markdown",
   "id": "b2d1a51e",
   "metadata": {},
   "source": [
    "### Dummy Data Sets"
   ]
  },
  {
   "cell_type": "code",
   "execution_count": 23,
   "id": "ca126b95",
   "metadata": {},
   "outputs": [],
   "source": [
    "n = 100000000\n",
    "data = pd.DataFrame(\n",
    "    {\n",
    "        'A' : np.random.rand(n),\n",
    "        'B' : 1.5 + 2.5 * np.random.rand(n),\n",
    "        'C' : np.random.uniform(5, 32, n)\n",
    "    }\n",
    ")"
   ]
  },
  {
   "cell_type": "code",
   "execution_count": 21,
   "id": "880f73f6",
   "metadata": {},
   "outputs": [
    {
     "data": {
      "text/html": [
       "<div>\n",
       "<style scoped>\n",
       "    .dataframe tbody tr th:only-of-type {\n",
       "        vertical-align: middle;\n",
       "    }\n",
       "\n",
       "    .dataframe tbody tr th {\n",
       "        vertical-align: top;\n",
       "    }\n",
       "\n",
       "    .dataframe thead th {\n",
       "        text-align: right;\n",
       "    }\n",
       "</style>\n",
       "<table border=\"1\" class=\"dataframe\">\n",
       "  <thead>\n",
       "    <tr style=\"text-align: right;\">\n",
       "      <th></th>\n",
       "      <th>A</th>\n",
       "      <th>B</th>\n",
       "      <th>C</th>\n",
       "    </tr>\n",
       "  </thead>\n",
       "  <tbody>\n",
       "    <tr>\n",
       "      <th>count</th>\n",
       "      <td>1.000000e+06</td>\n",
       "      <td>1000000.000000</td>\n",
       "      <td>1000000.000000</td>\n",
       "    </tr>\n",
       "    <tr>\n",
       "      <th>mean</th>\n",
       "      <td>5.001488e-01</td>\n",
       "      <td>2.750108</td>\n",
       "      <td>18.494517</td>\n",
       "    </tr>\n",
       "    <tr>\n",
       "      <th>std</th>\n",
       "      <td>2.887379e-01</td>\n",
       "      <td>0.721574</td>\n",
       "      <td>7.794887</td>\n",
       "    </tr>\n",
       "    <tr>\n",
       "      <th>min</th>\n",
       "      <td>1.722708e-07</td>\n",
       "      <td>1.500007</td>\n",
       "      <td>5.000006</td>\n",
       "    </tr>\n",
       "    <tr>\n",
       "      <th>25%</th>\n",
       "      <td>2.500582e-01</td>\n",
       "      <td>2.125732</td>\n",
       "      <td>11.744450</td>\n",
       "    </tr>\n",
       "    <tr>\n",
       "      <th>50%</th>\n",
       "      <td>5.006962e-01</td>\n",
       "      <td>2.750383</td>\n",
       "      <td>18.493525</td>\n",
       "    </tr>\n",
       "    <tr>\n",
       "      <th>75%</th>\n",
       "      <td>7.502594e-01</td>\n",
       "      <td>3.373815</td>\n",
       "      <td>25.241037</td>\n",
       "    </tr>\n",
       "    <tr>\n",
       "      <th>max</th>\n",
       "      <td>9.999989e-01</td>\n",
       "      <td>3.999997</td>\n",
       "      <td>31.999993</td>\n",
       "    </tr>\n",
       "  </tbody>\n",
       "</table>\n",
       "</div>"
      ],
      "text/plain": [
       "                  A               B               C\n",
       "count  1.000000e+06  1000000.000000  1000000.000000\n",
       "mean   5.001488e-01        2.750108       18.494517\n",
       "std    2.887379e-01        0.721574        7.794887\n",
       "min    1.722708e-07        1.500007        5.000006\n",
       "25%    2.500582e-01        2.125732       11.744450\n",
       "50%    5.006962e-01        2.750383       18.493525\n",
       "75%    7.502594e-01        3.373815       25.241037\n",
       "max    9.999989e-01        3.999997       31.999993"
      ]
     },
     "execution_count": 21,
     "metadata": {},
     "output_type": "execute_result"
    }
   ],
   "source": [
    "data.describe()"
   ]
  },
  {
   "cell_type": "code",
   "execution_count": 22,
   "id": "5c7c2014",
   "metadata": {},
   "outputs": [
    {
     "data": {
      "text/plain": [
       "(array([100407.,  99458.,  99865.,  99666.,  99879., 100450., 100083.,\n",
       "         99966., 100227.,  99999.]),\n",
       " array([1.72270803e-07, 1.00000042e-01, 1.99999912e-01, 2.99999782e-01,\n",
       "        3.99999652e-01, 4.99999522e-01, 5.99999391e-01, 6.99999261e-01,\n",
       "        7.99999131e-01, 8.99999001e-01, 9.99998871e-01]),\n",
       " <BarContainer object of 10 artists>)"
      ]
     },
     "execution_count": 22,
     "metadata": {},
     "output_type": "execute_result"
    },
    {
     "data": {
      "image/png": "[encoded data removed]",
      "text/plain": [
       "<Figure size 432x288 with 1 Axes>"
      ]
     },
     "metadata": {
      "needs_background": "light"
     },
     "output_type": "display_data"
    }
   ],
   "source": [
    "plt.hist(data['A'])"
   ]
  },
  {
   "cell_type": "code",
   "execution_count": null,
   "id": "82a3af0a",
   "metadata": {},
   "outputs": [],
   "source": []
  }
 ],
 "metadata": {
  "interpreter": {
   "hash": "e7370f93d1d0cde622a1f8e1c04877d8463912d04d973331ad4851f04de6915a"
  },
  "kernelspec": {
   "display_name": "Python 3.10.4 64-bit",
   "language": "python",
   "name": "python3"
  },
  "language_info": {
   "codemirror_mode": {
    "name": "ipython",
    "version": 3
   },
   "file_extension": ".py",
   "mimetype": "text/x-python",
   "name": "python",
   "nbconvert_exporter": "python",
   "pygments_lexer": "ipython3",
   "version": "3.10.4"
  }
 },
 "nbformat": 4,
 "nbformat_minor": 5
}
