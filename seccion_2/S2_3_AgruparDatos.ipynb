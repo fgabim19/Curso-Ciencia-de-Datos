{
 "cells": [
  {
   "cell_type": "markdown",
   "metadata": {},
   "source": [
    "# Agrupacion de Datos"
   ]
  },
  {
   "cell_type": "code",
   "execution_count": 1,
   "metadata": {},
   "outputs": [],
   "source": [
    "import pandas as pd\n",
    "import numpy as np\n",
    "import matplotlib.pyplot as plt"
   ]
  },
  {
   "cell_type": "markdown",
   "metadata": {},
   "source": [
    "Vamos a crear un dataset a partir de numeros aleatorios"
   ]
  },
  {
   "cell_type": "code",
   "execution_count": 2,
   "metadata": {},
   "outputs": [],
   "source": [
    "gender = [\"Male\", \"Female\"]\n",
    "income = [\"Poor\", \"Middie Class\", \"Rich\"]"
   ]
  },
  {
   "cell_type": "code",
   "execution_count": 3,
   "metadata": {},
   "outputs": [],
   "source": [
    "n = 500\n",
    "gender_data = []\n",
    "income_data = []\n",
    "\n",
    "for i in range(0, n):\n",
    "    gender_data.append(np.random.choice(gender))\n",
    "    income_data.append(np.random.choice(income))"
   ]
  },
  {
   "cell_type": "code",
   "execution_count": 4,
   "metadata": {},
   "outputs": [
    {
     "data": {
      "text/plain": [
       "['Female', 'Male', 'Male', 'Male', 'Female', 'Male', 'Male', 'Male', 'Female']"
      ]
     },
     "execution_count": 4,
     "metadata": {},
     "output_type": "execute_result"
    }
   ],
   "source": [
    "gender_data[1:10]"
   ]
  },
  {
   "cell_type": "code",
   "execution_count": 5,
   "metadata": {},
   "outputs": [
    {
     "data": {
      "text/plain": [
       "['Middie Class',\n",
       " 'Poor',\n",
       " 'Poor',\n",
       " 'Middie Class',\n",
       " 'Rich',\n",
       " 'Middie Class',\n",
       " 'Poor',\n",
       " 'Rich',\n",
       " 'Rich']"
      ]
     },
     "execution_count": 5,
     "metadata": {},
     "output_type": "execute_result"
    }
   ],
   "source": [
    "income_data[1:10]"
   ]
  },
  {
   "cell_type": "code",
   "execution_count": 6,
   "metadata": {},
   "outputs": [],
   "source": [
    "#N(0,1)\n",
    "#N(m, s) -> m + s * z\n",
    "\n",
    "height = 160 + 30 * np.random.randn(n)\n",
    "weight = 65 +25 * np.random.randn(n)\n",
    "age = 30 + 12 * np.random.randn(n)\n",
    "income = 30000 + 6500 * np.random.randn(n)"
   ]
  },
  {
   "cell_type": "code",
   "execution_count": 7,
   "metadata": {},
   "outputs": [],
   "source": [
    "data = pd.DataFrame(\n",
    "    {\n",
    "        \"Gender\": gender_data,\n",
    "        \"Economic Status\": income_data,\n",
    "        \"Height\": height,\n",
    "        \"Weight\": weight,\n",
    "        \"Age\": age,\n",
    "        \"Income\": income\n",
    "    \n",
    "    }\n",
    ")"
   ]
  },
  {
   "cell_type": "code",
   "execution_count": 8,
   "metadata": {},
   "outputs": [
    {
     "data": {
      "text/html": [
       "<div>\n",
       "<style scoped>\n",
       "    .dataframe tbody tr th:only-of-type {\n",
       "        vertical-align: middle;\n",
       "    }\n",
       "\n",
       "    .dataframe tbody tr th {\n",
       "        vertical-align: top;\n",
       "    }\n",
       "\n",
       "    .dataframe thead th {\n",
       "        text-align: right;\n",
       "    }\n",
       "</style>\n",
       "<table border=\"1\" class=\"dataframe\">\n",
       "  <thead>\n",
       "    <tr style=\"text-align: right;\">\n",
       "      <th></th>\n",
       "      <th>Gender</th>\n",
       "      <th>Economic Status</th>\n",
       "      <th>Height</th>\n",
       "      <th>Weight</th>\n",
       "      <th>Age</th>\n",
       "      <th>Income</th>\n",
       "    </tr>\n",
       "  </thead>\n",
       "  <tbody>\n",
       "    <tr>\n",
       "      <th>0</th>\n",
       "      <td>Female</td>\n",
       "      <td>Middie Class</td>\n",
       "      <td>162.624895</td>\n",
       "      <td>65.966914</td>\n",
       "      <td>46.904714</td>\n",
       "      <td>45401.360317</td>\n",
       "    </tr>\n",
       "    <tr>\n",
       "      <th>1</th>\n",
       "      <td>Female</td>\n",
       "      <td>Middie Class</td>\n",
       "      <td>185.598739</td>\n",
       "      <td>30.908960</td>\n",
       "      <td>4.014047</td>\n",
       "      <td>25335.880285</td>\n",
       "    </tr>\n",
       "    <tr>\n",
       "      <th>2</th>\n",
       "      <td>Male</td>\n",
       "      <td>Poor</td>\n",
       "      <td>180.353708</td>\n",
       "      <td>45.625829</td>\n",
       "      <td>23.947072</td>\n",
       "      <td>23376.906289</td>\n",
       "    </tr>\n",
       "    <tr>\n",
       "      <th>3</th>\n",
       "      <td>Male</td>\n",
       "      <td>Poor</td>\n",
       "      <td>180.480225</td>\n",
       "      <td>7.265537</td>\n",
       "      <td>36.880804</td>\n",
       "      <td>17487.380555</td>\n",
       "    </tr>\n",
       "    <tr>\n",
       "      <th>4</th>\n",
       "      <td>Male</td>\n",
       "      <td>Middie Class</td>\n",
       "      <td>133.184464</td>\n",
       "      <td>49.409376</td>\n",
       "      <td>28.752780</td>\n",
       "      <td>27619.751124</td>\n",
       "    </tr>\n",
       "  </tbody>\n",
       "</table>\n",
       "</div>"
      ],
      "text/plain": [
       "   Gender Economic Status      Height     Weight        Age        Income\n",
       "0  Female    Middie Class  162.624895  65.966914  46.904714  45401.360317\n",
       "1  Female    Middie Class  185.598739  30.908960   4.014047  25335.880285\n",
       "2    Male            Poor  180.353708  45.625829  23.947072  23376.906289\n",
       "3    Male            Poor  180.480225   7.265537  36.880804  17487.380555\n",
       "4    Male    Middie Class  133.184464  49.409376  28.752780  27619.751124"
      ]
     },
     "execution_count": 8,
     "metadata": {},
     "output_type": "execute_result"
    }
   ],
   "source": [
    "data.head()"
   ]
  },
  {
   "cell_type": "markdown",
   "metadata": {},
   "source": [
    "### Agregacion de datos por categorias\n",
    "La agrupacion se puede llevar a cabo mediante una veriable categorica mediante una funcion llama `groupby`, pasando como parametro el nombre de la columna.\n"
   ]
  },
  {
   "cell_type": "code",
   "execution_count": 9,
   "metadata": {},
   "outputs": [],
   "source": [
    "grouped_gender = data.groupby(\"Gender\")\n"
   ]
  },
  {
   "cell_type": "markdown",
   "metadata": {},
   "source": [
    "Lo que obtenemos es un **objeto**, es un objeto interno de *pandas*, la funcion `groupby` no rompe o divide los datos originales en diferentes grupos sino lo que hace es *crear un objeto llamado groupby que tendra dos atributos, uno sera el nombre y otro sera el grupo.\n"
   ]
  },
  {
   "cell_type": "code",
   "execution_count": 10,
   "metadata": {},
   "outputs": [
    {
     "name": "stdout",
     "output_type": "stream",
     "text": [
      "Female\n",
      "     Gender Economic Status      Height      Weight        Age        Income\n",
      "0    Female    Middie Class  162.624895   65.966914  46.904714  45401.360317\n",
      "1    Female    Middie Class  185.598739   30.908960   4.014047  25335.880285\n",
      "5    Female            Rich  146.740179  112.686838  27.178201  32285.979105\n",
      "9    Female            Rich   75.332754   30.937597  53.504619  28867.630613\n",
      "15   Female            Rich  185.263276   40.282245  11.036771  29512.798792\n",
      "..      ...             ...         ...         ...        ...           ...\n",
      "490  Female    Middie Class  135.176686   35.309297  12.011459  38002.206928\n",
      "491  Female    Middie Class  148.850301   51.783631  25.424827  37962.637954\n",
      "493  Female    Middie Class  180.523659   85.327141  26.256180  38455.559726\n",
      "496  Female            Poor  137.137070   74.386877  31.960292  22659.293333\n",
      "498  Female            Rich  116.290608   71.944574  25.388169  40053.626980\n",
      "\n",
      "[242 rows x 6 columns]\n",
      "Male\n",
      "    Gender Economic Status      Height     Weight        Age        Income\n",
      "2     Male            Poor  180.353708  45.625829  23.947072  23376.906289\n",
      "3     Male            Poor  180.480225   7.265537  36.880804  17487.380555\n",
      "4     Male    Middie Class  133.184464  49.409376  28.752780  27619.751124\n",
      "6     Male    Middie Class  164.074617  47.139531  48.984139  39281.991493\n",
      "7     Male            Poor  176.189978  60.538956  34.102126  28827.020474\n",
      "..     ...             ...         ...        ...        ...           ...\n",
      "492   Male            Rich  168.114422  54.930446  36.768996  22070.373669\n",
      "494   Male    Middie Class   96.338481  73.083526  34.357928  37950.148051\n",
      "495   Male            Poor  131.431971  95.992523  35.151192  27166.024183\n",
      "497   Male            Poor  200.225122  36.236218  31.616402  47581.504449\n",
      "499   Male            Rich  134.310635  57.006383  28.817670  23035.348212\n",
      "\n",
      "[258 rows x 6 columns]\n"
     ]
    }
   ],
   "source": [
    "grouped_gender.groups\n",
    "\n",
    "for names, groups in grouped_gender:\n",
    "    print(names)\n",
    "    print(groups)\n",
    "    \n"
   ]
  },
  {
   "cell_type": "markdown",
   "metadata": {},
   "source": [
    "Si solo se quiere acceder a una sola columna del grupo.\n"
   ]
  },
  {
   "cell_type": "code",
   "execution_count": 11,
   "metadata": {},
   "outputs": [
    {
     "data": {
      "text/html": [
       "<div>\n",
       "<style scoped>\n",
       "    .dataframe tbody tr th:only-of-type {\n",
       "        vertical-align: middle;\n",
       "    }\n",
       "\n",
       "    .dataframe tbody tr th {\n",
       "        vertical-align: top;\n",
       "    }\n",
       "\n",
       "    .dataframe thead th {\n",
       "        text-align: right;\n",
       "    }\n",
       "</style>\n",
       "<table border=\"1\" class=\"dataframe\">\n",
       "  <thead>\n",
       "    <tr style=\"text-align: right;\">\n",
       "      <th></th>\n",
       "      <th>Gender</th>\n",
       "      <th>Economic Status</th>\n",
       "      <th>Height</th>\n",
       "      <th>Weight</th>\n",
       "      <th>Age</th>\n",
       "      <th>Income</th>\n",
       "    </tr>\n",
       "  </thead>\n",
       "  <tbody>\n",
       "    <tr>\n",
       "      <th>0</th>\n",
       "      <td>Female</td>\n",
       "      <td>Middie Class</td>\n",
       "      <td>162.624895</td>\n",
       "      <td>65.966914</td>\n",
       "      <td>46.904714</td>\n",
       "      <td>45401.360317</td>\n",
       "    </tr>\n",
       "    <tr>\n",
       "      <th>1</th>\n",
       "      <td>Female</td>\n",
       "      <td>Middie Class</td>\n",
       "      <td>185.598739</td>\n",
       "      <td>30.908960</td>\n",
       "      <td>4.014047</td>\n",
       "      <td>25335.880285</td>\n",
       "    </tr>\n",
       "    <tr>\n",
       "      <th>5</th>\n",
       "      <td>Female</td>\n",
       "      <td>Rich</td>\n",
       "      <td>146.740179</td>\n",
       "      <td>112.686838</td>\n",
       "      <td>27.178201</td>\n",
       "      <td>32285.979105</td>\n",
       "    </tr>\n",
       "    <tr>\n",
       "      <th>9</th>\n",
       "      <td>Female</td>\n",
       "      <td>Rich</td>\n",
       "      <td>75.332754</td>\n",
       "      <td>30.937597</td>\n",
       "      <td>53.504619</td>\n",
       "      <td>28867.630613</td>\n",
       "    </tr>\n",
       "    <tr>\n",
       "      <th>15</th>\n",
       "      <td>Female</td>\n",
       "      <td>Rich</td>\n",
       "      <td>185.263276</td>\n",
       "      <td>40.282245</td>\n",
       "      <td>11.036771</td>\n",
       "      <td>29512.798792</td>\n",
       "    </tr>\n",
       "    <tr>\n",
       "      <th>...</th>\n",
       "      <td>...</td>\n",
       "      <td>...</td>\n",
       "      <td>...</td>\n",
       "      <td>...</td>\n",
       "      <td>...</td>\n",
       "      <td>...</td>\n",
       "    </tr>\n",
       "    <tr>\n",
       "      <th>490</th>\n",
       "      <td>Female</td>\n",
       "      <td>Middie Class</td>\n",
       "      <td>135.176686</td>\n",
       "      <td>35.309297</td>\n",
       "      <td>12.011459</td>\n",
       "      <td>38002.206928</td>\n",
       "    </tr>\n",
       "    <tr>\n",
       "      <th>491</th>\n",
       "      <td>Female</td>\n",
       "      <td>Middie Class</td>\n",
       "      <td>148.850301</td>\n",
       "      <td>51.783631</td>\n",
       "      <td>25.424827</td>\n",
       "      <td>37962.637954</td>\n",
       "    </tr>\n",
       "    <tr>\n",
       "      <th>493</th>\n",
       "      <td>Female</td>\n",
       "      <td>Middie Class</td>\n",
       "      <td>180.523659</td>\n",
       "      <td>85.327141</td>\n",
       "      <td>26.256180</td>\n",
       "      <td>38455.559726</td>\n",
       "    </tr>\n",
       "    <tr>\n",
       "      <th>496</th>\n",
       "      <td>Female</td>\n",
       "      <td>Poor</td>\n",
       "      <td>137.137070</td>\n",
       "      <td>74.386877</td>\n",
       "      <td>31.960292</td>\n",
       "      <td>22659.293333</td>\n",
       "    </tr>\n",
       "    <tr>\n",
       "      <th>498</th>\n",
       "      <td>Female</td>\n",
       "      <td>Rich</td>\n",
       "      <td>116.290608</td>\n",
       "      <td>71.944574</td>\n",
       "      <td>25.388169</td>\n",
       "      <td>40053.626980</td>\n",
       "    </tr>\n",
       "  </tbody>\n",
       "</table>\n",
       "<p>242 rows × 6 columns</p>\n",
       "</div>"
      ],
      "text/plain": [
       "     Gender Economic Status      Height      Weight        Age        Income\n",
       "0    Female    Middie Class  162.624895   65.966914  46.904714  45401.360317\n",
       "1    Female    Middie Class  185.598739   30.908960   4.014047  25335.880285\n",
       "5    Female            Rich  146.740179  112.686838  27.178201  32285.979105\n",
       "9    Female            Rich   75.332754   30.937597  53.504619  28867.630613\n",
       "15   Female            Rich  185.263276   40.282245  11.036771  29512.798792\n",
       "..      ...             ...         ...         ...        ...           ...\n",
       "490  Female    Middie Class  135.176686   35.309297  12.011459  38002.206928\n",
       "491  Female    Middie Class  148.850301   51.783631  25.424827  37962.637954\n",
       "493  Female    Middie Class  180.523659   85.327141  26.256180  38455.559726\n",
       "496  Female            Poor  137.137070   74.386877  31.960292  22659.293333\n",
       "498  Female            Rich  116.290608   71.944574  25.388169  40053.626980\n",
       "\n",
       "[242 rows x 6 columns]"
      ]
     },
     "execution_count": 11,
     "metadata": {},
     "output_type": "execute_result"
    }
   ],
   "source": [
    "\n",
    "grouped_gender.get_group(\"Female\")\n"
   ]
  },
  {
   "cell_type": "markdown",
   "metadata": {},
   "source": [
    "\n",
    "Si se desea hacer una agrupacion con mas de una columna, tenemos que hacerlo con un array.\n"
   ]
  },
  {
   "cell_type": "code",
   "execution_count": 12,
   "metadata": {},
   "outputs": [],
   "source": [
    "\n",
    "double_group = data.groupby([\"Gender\", \"Economic Status\"])\n"
   ]
  },
  {
   "cell_type": "code",
   "execution_count": 13,
   "metadata": {},
   "outputs": [
    {
     "data": {
      "text/plain": [
       "6"
      ]
     },
     "execution_count": 13,
     "metadata": {},
     "output_type": "execute_result"
    }
   ],
   "source": [
    "\n",
    "len(double_group)\n"
   ]
  },
  {
   "cell_type": "code",
   "execution_count": 14,
   "metadata": {},
   "outputs": [
    {
     "name": "stdout",
     "output_type": "stream",
     "text": [
      "('Female', 'Middie Class')\n",
      "     Gender Economic Status      Height      Weight        Age        Income\n",
      "0    Female    Middie Class  162.624895   65.966914  46.904714  45401.360317\n",
      "1    Female    Middie Class  185.598739   30.908960   4.014047  25335.880285\n",
      "16   Female    Middie Class  166.533401   39.284557  27.952471  26923.156964\n",
      "24   Female    Middie Class  141.766979   34.019950  38.024633  44932.580431\n",
      "27   Female    Middie Class  124.668246   63.641042  45.853563  32766.535908\n",
      "..      ...             ...         ...         ...        ...           ...\n",
      "480  Female    Middie Class  183.655712   60.782474  41.089446  34027.872723\n",
      "486  Female    Middie Class  145.691186  118.242816  27.534639  23128.155335\n",
      "490  Female    Middie Class  135.176686   35.309297  12.011459  38002.206928\n",
      "491  Female    Middie Class  148.850301   51.783631  25.424827  37962.637954\n",
      "493  Female    Middie Class  180.523659   85.327141  26.256180  38455.559726\n",
      "\n",
      "[89 rows x 6 columns]\n",
      "('Female', 'Poor')\n",
      "     Gender Economic Status      Height      Weight        Age        Income\n",
      "18   Female            Poor  141.557097  117.841429  14.579366  36122.905611\n",
      "19   Female            Poor  127.289078   77.161236  14.873782  25961.983704\n",
      "23   Female            Poor  143.107545   51.515620  23.283898  27916.037873\n",
      "26   Female            Poor  213.573493   43.364471  20.685076  20003.105333\n",
      "34   Female            Poor  196.694476   50.286998  32.787886  26514.921325\n",
      "..      ...             ...         ...         ...        ...           ...\n",
      "476  Female            Poor  133.596659   59.101944  29.420021  33276.534305\n",
      "478  Female            Poor  206.632053   80.433180  18.991852  32523.202292\n",
      "482  Female            Poor  107.511241   54.191248  38.720343  23301.536930\n",
      "485  Female            Poor  165.790123   43.582765  23.718547  30600.953591\n",
      "496  Female            Poor  137.137070   74.386877  31.960292  22659.293333\n",
      "\n",
      "[77 rows x 6 columns]\n",
      "('Female', 'Rich')\n",
      "     Gender Economic Status      Height      Weight        Age        Income\n",
      "5    Female            Rich  146.740179  112.686838  27.178201  32285.979105\n",
      "9    Female            Rich   75.332754   30.937597  53.504619  28867.630613\n",
      "15   Female            Rich  185.263276   40.282245  11.036771  29512.798792\n",
      "21   Female            Rich  134.541962   16.315147  34.186928  23573.115776\n",
      "39   Female            Rich  217.455298   59.767242  35.496582  21123.352670\n",
      "..      ...             ...         ...         ...        ...           ...\n",
      "456  Female            Rich  123.056104   84.897858  21.311826  35106.300678\n",
      "461  Female            Rich  209.922775   69.107874  18.144298  22734.534466\n",
      "473  Female            Rich  195.755302  106.419234  42.953439  27684.701990\n",
      "484  Female            Rich  188.255976   92.468305  31.332058  31749.222601\n",
      "498  Female            Rich  116.290608   71.944574  25.388169  40053.626980\n",
      "\n",
      "[76 rows x 6 columns]\n",
      "('Male', 'Middie Class')\n",
      "    Gender Economic Status      Height     Weight        Age        Income\n",
      "4     Male    Middie Class  133.184464  49.409376  28.752780  27619.751124\n",
      "6     Male    Middie Class  164.074617  47.139531  48.984139  39281.991493\n",
      "13    Male    Middie Class  177.582504  97.266109  30.166397  23164.044724\n",
      "14    Male    Middie Class  150.066810  68.470347  53.275791  29331.553840\n",
      "28    Male    Middie Class  159.128279  80.404062  38.974765  26793.366032\n",
      "..     ...             ...         ...        ...        ...           ...\n",
      "467   Male    Middie Class  126.117884  56.757950  28.037091  35064.649083\n",
      "470   Male    Middie Class  209.438776  49.161014  51.390154  30559.697675\n",
      "483   Male    Middie Class  167.302882  37.877337  22.543038  39362.359257\n",
      "488   Male    Middie Class  125.036205  91.517217  38.570853  24088.626767\n",
      "494   Male    Middie Class   96.338481  73.083526  34.357928  37950.148051\n",
      "\n",
      "[84 rows x 6 columns]\n",
      "('Male', 'Poor')\n",
      "    Gender Economic Status      Height      Weight        Age        Income\n",
      "2     Male            Poor  180.353708   45.625829  23.947072  23376.906289\n",
      "3     Male            Poor  180.480225    7.265537  36.880804  17487.380555\n",
      "7     Male            Poor  176.189978   60.538956  34.102126  28827.020474\n",
      "10    Male            Poor  187.280519  114.214632   9.537602  28291.235742\n",
      "11    Male            Poor   97.603946   56.036740  27.742734  28482.750111\n",
      "..     ...             ...         ...         ...        ...           ...\n",
      "466   Male            Poor  120.061099   77.057084  37.595752  45277.113607\n",
      "472   Male            Poor  128.225989   94.459541  15.064379  34376.954067\n",
      "481   Male            Poor  114.386870   70.837277  29.320764  37744.627006\n",
      "495   Male            Poor  131.431971   95.992523  35.151192  27166.024183\n",
      "497   Male            Poor  200.225122   36.236218  31.616402  47581.504449\n",
      "\n",
      "[84 rows x 6 columns]\n",
      "('Male', 'Rich')\n",
      "    Gender Economic Status      Height     Weight        Age        Income\n",
      "8     Male            Rich  208.845450  80.508147  45.120820  36815.474077\n",
      "17    Male            Rich  158.067284  69.779120  34.976533  34604.260234\n",
      "20    Male            Rich  153.245083  28.833546  23.517747  30313.407824\n",
      "22    Male            Rich  197.435630  57.261413  23.970995  40867.858011\n",
      "45    Male            Rich  111.249193  72.522657  26.873451  38268.209772\n",
      "..     ...             ...         ...        ...        ...           ...\n",
      "474   Male            Rich  120.975085  75.894793  41.628154  31037.469755\n",
      "487   Male            Rich  149.676306  69.839333  27.585535  16558.569612\n",
      "489   Male            Rich  185.824029  67.638372  30.263366  37486.395639\n",
      "492   Male            Rich  168.114422  54.930446  36.768996  22070.373669\n",
      "499   Male            Rich  134.310635  57.006383  28.817670  23035.348212\n",
      "\n",
      "[90 rows x 6 columns]\n"
     ]
    }
   ],
   "source": [
    "for names, groups in double_group:\n",
    "    print(names)\n",
    "    print(groups)\n"
   ]
  },
  {
   "cell_type": "markdown",
   "metadata": {},
   "source": [
    "## Operaciones sore datos agrupados\n",
    "1. Suma: `sum()`\n",
    "double_group.sum()\n",
    "2. Promedio: `mean()`\n",
    "double_group.mean()\n",
    "3. Tamaño: `size()`\n",
    "double_group.size()\n",
    "4. Descripcion: describe()\n",
    "double_group.describe()\n"
   ]
  },
  {
   "cell_type": "markdown",
   "metadata": {},
   "source": [
    "\n",
    "### Trabajo para una para un sola columna\n"
   ]
  },
  {
   "cell_type": "code",
   "execution_count": 15,
   "metadata": {},
   "outputs": [
    {
     "data": {
      "text/html": [
       "<div>\n",
       "<style scoped>\n",
       "    .dataframe tbody tr th:only-of-type {\n",
       "        vertical-align: middle;\n",
       "    }\n",
       "\n",
       "    .dataframe tbody tr th {\n",
       "        vertical-align: top;\n",
       "    }\n",
       "\n",
       "    .dataframe thead th {\n",
       "        text-align: right;\n",
       "    }\n",
       "</style>\n",
       "<table border=\"1\" class=\"dataframe\">\n",
       "  <thead>\n",
       "    <tr style=\"text-align: right;\">\n",
       "      <th></th>\n",
       "      <th></th>\n",
       "      <th>count</th>\n",
       "      <th>mean</th>\n",
       "      <th>std</th>\n",
       "      <th>min</th>\n",
       "      <th>25%</th>\n",
       "      <th>50%</th>\n",
       "      <th>75%</th>\n",
       "      <th>max</th>\n",
       "    </tr>\n",
       "    <tr>\n",
       "      <th>Gender</th>\n",
       "      <th>Economic Status</th>\n",
       "      <th></th>\n",
       "      <th></th>\n",
       "      <th></th>\n",
       "      <th></th>\n",
       "      <th></th>\n",
       "      <th></th>\n",
       "      <th></th>\n",
       "      <th></th>\n",
       "    </tr>\n",
       "  </thead>\n",
       "  <tbody>\n",
       "    <tr>\n",
       "      <th rowspan=\"3\" valign=\"top\">Female</th>\n",
       "      <th>Middie Class</th>\n",
       "      <td>89.0</td>\n",
       "      <td>30727.558939</td>\n",
       "      <td>6723.130140</td>\n",
       "      <td>16141.989903</td>\n",
       "      <td>24899.582271</td>\n",
       "      <td>31438.988325</td>\n",
       "      <td>35994.890948</td>\n",
       "      <td>45401.360317</td>\n",
       "    </tr>\n",
       "    <tr>\n",
       "      <th>Poor</th>\n",
       "      <td>77.0</td>\n",
       "      <td>29484.599398</td>\n",
       "      <td>6192.729940</td>\n",
       "      <td>16068.488877</td>\n",
       "      <td>25611.599111</td>\n",
       "      <td>28980.738226</td>\n",
       "      <td>33757.131438</td>\n",
       "      <td>45781.729948</td>\n",
       "    </tr>\n",
       "    <tr>\n",
       "      <th>Rich</th>\n",
       "      <td>76.0</td>\n",
       "      <td>29285.635932</td>\n",
       "      <td>6134.145661</td>\n",
       "      <td>14839.431550</td>\n",
       "      <td>24739.680848</td>\n",
       "      <td>29738.438942</td>\n",
       "      <td>33960.736106</td>\n",
       "      <td>43302.222899</td>\n",
       "    </tr>\n",
       "    <tr>\n",
       "      <th rowspan=\"3\" valign=\"top\">Male</th>\n",
       "      <th>Middie Class</th>\n",
       "      <td>84.0</td>\n",
       "      <td>30168.343344</td>\n",
       "      <td>6076.935908</td>\n",
       "      <td>12573.088027</td>\n",
       "      <td>26458.999631</td>\n",
       "      <td>29762.439743</td>\n",
       "      <td>34986.004101</td>\n",
       "      <td>41424.568722</td>\n",
       "    </tr>\n",
       "    <tr>\n",
       "      <th>Poor</th>\n",
       "      <td>84.0</td>\n",
       "      <td>29374.369821</td>\n",
       "      <td>6690.393085</td>\n",
       "      <td>13722.690942</td>\n",
       "      <td>24634.832627</td>\n",
       "      <td>29381.382219</td>\n",
       "      <td>34407.022221</td>\n",
       "      <td>47581.504449</td>\n",
       "    </tr>\n",
       "    <tr>\n",
       "      <th>Rich</th>\n",
       "      <td>90.0</td>\n",
       "      <td>29343.238954</td>\n",
       "      <td>7326.013593</td>\n",
       "      <td>9239.920588</td>\n",
       "      <td>24044.370968</td>\n",
       "      <td>29532.506882</td>\n",
       "      <td>34925.390904</td>\n",
       "      <td>44294.799354</td>\n",
       "    </tr>\n",
       "  </tbody>\n",
       "</table>\n",
       "</div>"
      ],
      "text/plain": [
       "                        count          mean          std           min  \\\n",
       "Gender Economic Status                                                   \n",
       "Female Middie Class      89.0  30727.558939  6723.130140  16141.989903   \n",
       "       Poor              77.0  29484.599398  6192.729940  16068.488877   \n",
       "       Rich              76.0  29285.635932  6134.145661  14839.431550   \n",
       "Male   Middie Class      84.0  30168.343344  6076.935908  12573.088027   \n",
       "       Poor              84.0  29374.369821  6690.393085  13722.690942   \n",
       "       Rich              90.0  29343.238954  7326.013593   9239.920588   \n",
       "\n",
       "                                 25%           50%           75%           max  \n",
       "Gender Economic Status                                                          \n",
       "Female Middie Class     24899.582271  31438.988325  35994.890948  45401.360317  \n",
       "       Poor             25611.599111  28980.738226  33757.131438  45781.729948  \n",
       "       Rich             24739.680848  29738.438942  33960.736106  43302.222899  \n",
       "Male   Middie Class     26458.999631  29762.439743  34986.004101  41424.568722  \n",
       "       Poor             24634.832627  29381.382219  34407.022221  47581.504449  \n",
       "       Rich             24044.370968  29532.506882  34925.390904  44294.799354  "
      ]
     },
     "execution_count": 15,
     "metadata": {},
     "output_type": "execute_result"
    }
   ],
   "source": [
    "grouped_income = double_group[\"Income\"]\n",
    "\n",
    "grouped_income.describe()"
   ]
  },
  {
   "cell_type": "markdown",
   "metadata": {},
   "source": [
    "\n",
    "## Aggregate()\n",
    "\n",
    "Podemos tomar las columnas que queremos y agregar las operaciones que queremos que se apliquen a cada columna.\n"
   ]
  },
  {
   "cell_type": "code",
   "execution_count": 16,
   "metadata": {},
   "outputs": [
    {
     "data": {
      "text/html": [
       "<div>\n",
       "<style scoped>\n",
       "    .dataframe tbody tr th:only-of-type {\n",
       "        vertical-align: middle;\n",
       "    }\n",
       "\n",
       "    .dataframe tbody tr th {\n",
       "        vertical-align: top;\n",
       "    }\n",
       "\n",
       "    .dataframe thead th {\n",
       "        text-align: right;\n",
       "    }\n",
       "</style>\n",
       "<table border=\"1\" class=\"dataframe\">\n",
       "  <thead>\n",
       "    <tr style=\"text-align: right;\">\n",
       "      <th></th>\n",
       "      <th></th>\n",
       "      <th>Age</th>\n",
       "      <th>Height</th>\n",
       "    </tr>\n",
       "    <tr>\n",
       "      <th>Gender</th>\n",
       "      <th>Economic Status</th>\n",
       "      <th></th>\n",
       "      <th></th>\n",
       "    </tr>\n",
       "  </thead>\n",
       "  <tbody>\n",
       "    <tr>\n",
       "      <th rowspan=\"3\" valign=\"top\">Female</th>\n",
       "      <th>Middie Class</th>\n",
       "      <td>29.280931</td>\n",
       "      <td>5.160182</td>\n",
       "    </tr>\n",
       "    <tr>\n",
       "      <th>Poor</th>\n",
       "      <td>31.506583</td>\n",
       "      <td>5.283326</td>\n",
       "    </tr>\n",
       "    <tr>\n",
       "      <th>Rich</th>\n",
       "      <td>29.137873</td>\n",
       "      <td>4.693147</td>\n",
       "    </tr>\n",
       "    <tr>\n",
       "      <th rowspan=\"3\" valign=\"top\">Male</th>\n",
       "      <th>Middie Class</th>\n",
       "      <td>29.358795</td>\n",
       "      <td>5.343519</td>\n",
       "    </tr>\n",
       "    <tr>\n",
       "      <th>Poor</th>\n",
       "      <td>29.377714</td>\n",
       "      <td>5.383490</td>\n",
       "    </tr>\n",
       "    <tr>\n",
       "      <th>Rich</th>\n",
       "      <td>29.669774</td>\n",
       "      <td>5.732120</td>\n",
       "    </tr>\n",
       "  </tbody>\n",
       "</table>\n",
       "</div>"
      ],
      "text/plain": [
       "                              Age    Height\n",
       "Gender Economic Status                     \n",
       "Female Middie Class     29.280931  5.160182\n",
       "       Poor             31.506583  5.283326\n",
       "       Rich             29.137873  4.693147\n",
       "Male   Middie Class     29.358795  5.343519\n",
       "       Poor             29.377714  5.383490\n",
       "       Rich             29.669774  5.732120"
      ]
     },
     "execution_count": 16,
     "metadata": {},
     "output_type": "execute_result"
    }
   ],
   "source": [
    "\n",
    "double_group.aggregate(\n",
    "    {\n",
    "        \"Income\": np.sum,\n",
    "        \"Age\": np.mean,\n",
    "        \"Height\": np.std\n",
    "    }\n",
    ")\n",
    "double_group.aggregate(\n",
    "    {\n",
    "        \"Age\": np.mean,\n",
    "        \"Height\": lambda h: np.mean(h)/np.std(h)\n",
    "    }\n",
    "\n",
    ")\n"
   ]
  },
  {
   "cell_type": "markdown",
   "metadata": {},
   "source": [
    "\n",
    "Podemos pasarle las operaciones que se desean que se le aplique a todas las columna.\n"
   ]
  },
  {
   "cell_type": "code",
   "execution_count": 17,
   "metadata": {},
   "outputs": [
    {
     "data": {
      "text/html": [
       "<div>\n",
       "<style scoped>\n",
       "    .dataframe tbody tr th:only-of-type {\n",
       "        vertical-align: middle;\n",
       "    }\n",
       "\n",
       "    .dataframe tbody tr th {\n",
       "        vertical-align: top;\n",
       "    }\n",
       "\n",
       "    .dataframe thead th {\n",
       "        text-align: right;\n",
       "    }\n",
       "</style>\n",
       "<table border=\"1\" class=\"dataframe\">\n",
       "  <thead>\n",
       "    <tr style=\"text-align: right;\">\n",
       "      <th></th>\n",
       "      <th></th>\n",
       "      <th>Height</th>\n",
       "      <th>Weight</th>\n",
       "      <th>Age</th>\n",
       "      <th>Income</th>\n",
       "    </tr>\n",
       "    <tr>\n",
       "      <th>Gender</th>\n",
       "      <th>Economic Status</th>\n",
       "      <th></th>\n",
       "      <th></th>\n",
       "      <th></th>\n",
       "      <th></th>\n",
       "    </tr>\n",
       "  </thead>\n",
       "  <tbody>\n",
       "    <tr>\n",
       "      <th rowspan=\"3\" valign=\"top\">Female</th>\n",
       "      <th>Middie Class</th>\n",
       "      <td>5.160182</td>\n",
       "      <td>2.825026</td>\n",
       "      <td>2.375626</td>\n",
       "      <td>4.596319</td>\n",
       "    </tr>\n",
       "    <tr>\n",
       "      <th>Poor</th>\n",
       "      <td>5.283326</td>\n",
       "      <td>2.796424</td>\n",
       "      <td>2.904081</td>\n",
       "      <td>4.792385</td>\n",
       "    </tr>\n",
       "    <tr>\n",
       "      <th>Rich</th>\n",
       "      <td>4.693147</td>\n",
       "      <td>2.451297</td>\n",
       "      <td>2.322274</td>\n",
       "      <td>4.805922</td>\n",
       "    </tr>\n",
       "    <tr>\n",
       "      <th rowspan=\"3\" valign=\"top\">Male</th>\n",
       "      <th>Middie Class</th>\n",
       "      <td>5.343519</td>\n",
       "      <td>2.301661</td>\n",
       "      <td>2.497278</td>\n",
       "      <td>4.994217</td>\n",
       "    </tr>\n",
       "    <tr>\n",
       "      <th>Poor</th>\n",
       "      <td>5.383490</td>\n",
       "      <td>2.213967</td>\n",
       "      <td>2.661547</td>\n",
       "      <td>4.416900</td>\n",
       "    </tr>\n",
       "    <tr>\n",
       "      <th>Rich</th>\n",
       "      <td>5.732120</td>\n",
       "      <td>2.789080</td>\n",
       "      <td>2.488281</td>\n",
       "      <td>4.027788</td>\n",
       "    </tr>\n",
       "  </tbody>\n",
       "</table>\n",
       "</div>"
      ],
      "text/plain": [
       "                          Height    Weight       Age    Income\n",
       "Gender Economic Status                                        \n",
       "Female Middie Class     5.160182  2.825026  2.375626  4.596319\n",
       "       Poor             5.283326  2.796424  2.904081  4.792385\n",
       "       Rich             4.693147  2.451297  2.322274  4.805922\n",
       "Male   Middie Class     5.343519  2.301661  2.497278  4.994217\n",
       "       Poor             5.383490  2.213967  2.661547  4.416900\n",
       "       Rich             5.732120  2.789080  2.488281  4.027788"
      ]
     },
     "execution_count": 17,
     "metadata": {},
     "output_type": "execute_result"
    }
   ],
   "source": [
    "\n",
    "double_group.aggregate([np.sum, np.mean, np.std])\n",
    "double_group.aggregate(lambda x: np.mean(x)/np.std(x))\n"
   ]
  },
  {
   "cell_type": "code",
   "execution_count": 18,
   "metadata": {},
   "outputs": [
    {
     "ename": "SyntaxError",
     "evalue": "invalid syntax (3559777051.py, line 3)",
     "output_type": "error",
     "traceback": [
      "\u001b[0;36m  Input \u001b[0;32mIn [18]\u001b[0;36m\u001b[0m\n\u001b[0;31m    Los grupos tambien pueden ser filtrados.\u001b[0m\n\u001b[0m        ^\u001b[0m\n\u001b[0;31mSyntaxError\u001b[0m\u001b[0;31m:\u001b[0m invalid syntax\n"
     ]
    }
   ],
   "source": [
    "\n",
    "### Filtedo de Datos\n",
    "\n",
    "Los grupos tambien pueden ser filtrados.\n",
    "+ Con `nombre_grupo[\"Columna\"]` seleccionamos la columna con la que queremos trabajar.\n",
    "+ Con `filter('parametro')` tenemos el filtrado segun el parametro que coloquemos.\n",
    "double_group[\"Age\"].filter(lambda x: x.sum()>2400)\n",
    "En este caso caso para una categoria de generos y estado economico nos devuelve los elementos cuya suma sea mayor a 2400.\n",
    "## Transformacion de Variables\n",
    "zscore = lambda x: (x - x.mean())/x.std()\n",
    "z_groups = double_group.transform(zscore)\n",
    "plt.hist(z_groups[\"Age\"])"
   ]
  },
  {
   "cell_type": "code",
   "execution_count": null,
   "metadata": {},
   "outputs": [],
   "source": [
    "\n",
    "double_group.aggregate([np.sum, np.mean, np.std])\n",
    "double_group.aggregate(lambda x: np.mean(x)/np.std(x))\n",
    "\n"
   ]
  },
  {
   "cell_type": "markdown",
   "metadata": {},
   "source": [
    "\n",
    "### Filtedo de Datos\n",
    "\n",
    "Los grupos tambien pueden ser filtrados.\n",
    "+ Con `nombre_grupo[\"Columna\"]` seleccionamos la columna con la que queremos trabajar.\n",
    "+ Con `filter('parametro')` tenemos el filtrado segun el parametro que coloquemos.\n"
   ]
  },
  {
   "cell_type": "code",
   "execution_count": null,
   "metadata": {},
   "outputs": [
    {
     "data": {
      "text/plain": [
       "1      21.090988\n",
       "3      41.038150\n",
       "4      47.340944\n",
       "5      24.703602\n",
       "6      25.775448\n",
       "         ...    \n",
       "494    31.191314\n",
       "495    34.634118\n",
       "497    24.431362\n",
       "498    39.852788\n",
       "499    32.030657\n",
       "Name: Age, Length: 348, dtype: float64"
      ]
     },
     "execution_count": 31,
     "metadata": {},
     "output_type": "execute_result"
    }
   ],
   "source": [
    "\n",
    "double_group[\"Age\"].filter(lambda x: x.sum()>2400)\n",
    "#En este caso caso para una categoria de generos y estado economico nos devuelve los elementos cuya suma sea mayor a 2400.\n"
   ]
  },
  {
   "cell_type": "markdown",
   "metadata": {},
   "source": [
    "\n",
    "## Transformacion de Variables\n"
   ]
  },
  {
   "cell_type": "code",
   "execution_count": null,
   "metadata": {},
   "outputs": [
    {
     "data": {
      "text/plain": [
       "(array([ 10.,  18.,  45.,  88., 112., 100.,  68.,  43.,  13.,   3.]),\n",
       " array([-2.6904598 , -2.13325677, -1.57605374, -1.01885071, -0.46164768,\n",
       "         0.09555535,  0.65275837,  1.2099614 ,  1.76716443,  2.32436746,\n",
       "         2.88157049]),\n",
       " <BarContainer object of 10 artists>)"
      ]
     },
     "execution_count": 52,
     "metadata": {},
     "output_type": "execute_result"
    },
    {
     "data": {
      "image/png": "[encoded data removed]",
      "text/plain": [
       "<Figure size 432x288 with 1 Axes>"
      ]
     },
     "metadata": {
      "needs_background": "light"
     },
     "output_type": "display_data"
    }
   ],
   "source": [
    "zscore = lambda x: (x - x.mean())/x.std()\n",
    "z_groups = double_group.transform(zscore)\n",
    "plt.hist(z_groups[\"Age\"])"
   ]
  },
  {
   "cell_type": "markdown",
   "metadata": {},
   "source": [
    "### Relleno con la media utilizando transformaciones"
   ]
  },
  {
   "cell_type": "code",
   "execution_count": null,
   "metadata": {},
   "outputs": [],
   "source": [
    "fill_na_mean = lambda x: x.fillna(x.mean())"
   ]
  },
  {
   "cell_type": "code",
   "execution_count": null,
   "metadata": {},
   "outputs": [
    {
     "data": {
      "text/html": [
       "<div>\n",
       "<style scoped>\n",
       "    .dataframe tbody tr th:only-of-type {\n",
       "        vertical-align: middle;\n",
       "    }\n",
       "\n",
       "    .dataframe tbody tr th {\n",
       "        vertical-align: top;\n",
       "    }\n",
       "\n",
       "    .dataframe thead th {\n",
       "        text-align: right;\n",
       "    }\n",
       "</style>\n",
       "<table border=\"1\" class=\"dataframe\">\n",
       "  <thead>\n",
       "    <tr style=\"text-align: right;\">\n",
       "      <th></th>\n",
       "      <th>Height</th>\n",
       "      <th>Weight</th>\n",
       "      <th>Age</th>\n",
       "      <th>Income</th>\n",
       "    </tr>\n",
       "  </thead>\n",
       "  <tbody>\n",
       "    <tr>\n",
       "      <th>0</th>\n",
       "      <td>106.003962</td>\n",
       "      <td>22.256354</td>\n",
       "      <td>35.541621</td>\n",
       "      <td>33026.181438</td>\n",
       "    </tr>\n",
       "    <tr>\n",
       "      <th>1</th>\n",
       "      <td>150.501501</td>\n",
       "      <td>59.809477</td>\n",
       "      <td>14.420658</td>\n",
       "      <td>28661.081968</td>\n",
       "    </tr>\n",
       "    <tr>\n",
       "      <th>2</th>\n",
       "      <td>152.325514</td>\n",
       "      <td>61.722966</td>\n",
       "      <td>28.510718</td>\n",
       "      <td>26418.024035</td>\n",
       "    </tr>\n",
       "    <tr>\n",
       "      <th>3</th>\n",
       "      <td>170.072346</td>\n",
       "      <td>63.285258</td>\n",
       "      <td>24.231337</td>\n",
       "      <td>27440.849756</td>\n",
       "    </tr>\n",
       "    <tr>\n",
       "      <th>4</th>\n",
       "      <td>175.847902</td>\n",
       "      <td>19.142239</td>\n",
       "      <td>6.500955</td>\n",
       "      <td>27905.125634</td>\n",
       "    </tr>\n",
       "    <tr>\n",
       "      <th>...</th>\n",
       "      <td>...</td>\n",
       "      <td>...</td>\n",
       "      <td>...</td>\n",
       "      <td>...</td>\n",
       "    </tr>\n",
       "    <tr>\n",
       "      <th>495</th>\n",
       "      <td>158.509576</td>\n",
       "      <td>57.418588</td>\n",
       "      <td>44.748160</td>\n",
       "      <td>32744.029154</td>\n",
       "    </tr>\n",
       "    <tr>\n",
       "      <th>496</th>\n",
       "      <td>216.158341</td>\n",
       "      <td>52.323133</td>\n",
       "      <td>21.173592</td>\n",
       "      <td>33182.748232</td>\n",
       "    </tr>\n",
       "    <tr>\n",
       "      <th>497</th>\n",
       "      <td>201.444737</td>\n",
       "      <td>49.893108</td>\n",
       "      <td>34.560105</td>\n",
       "      <td>40798.303915</td>\n",
       "    </tr>\n",
       "    <tr>\n",
       "      <th>498</th>\n",
       "      <td>142.746230</td>\n",
       "      <td>97.012030</td>\n",
       "      <td>22.794418</td>\n",
       "      <td>24614.480940</td>\n",
       "    </tr>\n",
       "    <tr>\n",
       "      <th>499</th>\n",
       "      <td>205.897589</td>\n",
       "      <td>65.979277</td>\n",
       "      <td>46.673038</td>\n",
       "      <td>36244.153269</td>\n",
       "    </tr>\n",
       "  </tbody>\n",
       "</table>\n",
       "<p>500 rows × 4 columns</p>\n",
       "</div>"
      ],
      "text/plain": [
       "         Height     Weight        Age        Income\n",
       "0    106.003962  22.256354  35.541621  33026.181438\n",
       "1    150.501501  59.809477  14.420658  28661.081968\n",
       "2    152.325514  61.722966  28.510718  26418.024035\n",
       "3    170.072346  63.285258  24.231337  27440.849756\n",
       "4    175.847902  19.142239   6.500955  27905.125634\n",
       "..          ...        ...        ...           ...\n",
       "495  158.509576  57.418588  44.748160  32744.029154\n",
       "496  216.158341  52.323133  21.173592  33182.748232\n",
       "497  201.444737  49.893108  34.560105  40798.303915\n",
       "498  142.746230  97.012030  22.794418  24614.480940\n",
       "499  205.897589  65.979277  46.673038  36244.153269\n",
       "\n",
       "[500 rows x 4 columns]"
      ]
     },
     "execution_count": 56,
     "metadata": {},
     "output_type": "execute_result"
    }
   ],
   "source": [
    "double_group.transform(fill_na_mean)"
   ]
  },
  {
   "cell_type": "markdown",
   "metadata": {},
   "source": [
    "### Operaciones diversas muy Utiles\n",
    "+ Si hacemos `.head(1)` nos devolvera la primera fila de cada uno de los grupos."
   ]
  },
  {
   "cell_type": "code",
   "execution_count": null,
   "metadata": {},
   "outputs": [
    {
     "data": {
      "text/html": [
       "<div>\n",
       "<style scoped>\n",
       "    .dataframe tbody tr th:only-of-type {\n",
       "        vertical-align: middle;\n",
       "    }\n",
       "\n",
       "    .dataframe tbody tr th {\n",
       "        vertical-align: top;\n",
       "    }\n",
       "\n",
       "    .dataframe thead th {\n",
       "        text-align: right;\n",
       "    }\n",
       "</style>\n",
       "<table border=\"1\" class=\"dataframe\">\n",
       "  <thead>\n",
       "    <tr style=\"text-align: right;\">\n",
       "      <th></th>\n",
       "      <th>Gender</th>\n",
       "      <th>Economic Status</th>\n",
       "      <th>Height</th>\n",
       "      <th>Weight</th>\n",
       "      <th>Age</th>\n",
       "      <th>Income</th>\n",
       "    </tr>\n",
       "  </thead>\n",
       "  <tbody>\n",
       "    <tr>\n",
       "      <th>0</th>\n",
       "      <td>Female</td>\n",
       "      <td>Rich</td>\n",
       "      <td>106.003962</td>\n",
       "      <td>22.256354</td>\n",
       "      <td>35.541621</td>\n",
       "      <td>33026.181438</td>\n",
       "    </tr>\n",
       "    <tr>\n",
       "      <th>1</th>\n",
       "      <td>Male</td>\n",
       "      <td>Poor</td>\n",
       "      <td>150.501501</td>\n",
       "      <td>59.809477</td>\n",
       "      <td>14.420658</td>\n",
       "      <td>28661.081968</td>\n",
       "    </tr>\n",
       "    <tr>\n",
       "      <th>3</th>\n",
       "      <td>Male</td>\n",
       "      <td>Middie Class</td>\n",
       "      <td>170.072346</td>\n",
       "      <td>63.285258</td>\n",
       "      <td>24.231337</td>\n",
       "      <td>27440.849756</td>\n",
       "    </tr>\n",
       "    <tr>\n",
       "      <th>4</th>\n",
       "      <td>Male</td>\n",
       "      <td>Rich</td>\n",
       "      <td>175.847902</td>\n",
       "      <td>19.142239</td>\n",
       "      <td>6.500955</td>\n",
       "      <td>27905.125634</td>\n",
       "    </tr>\n",
       "    <tr>\n",
       "      <th>6</th>\n",
       "      <td>Female</td>\n",
       "      <td>Poor</td>\n",
       "      <td>175.110268</td>\n",
       "      <td>51.866695</td>\n",
       "      <td>36.441566</td>\n",
       "      <td>33784.575127</td>\n",
       "    </tr>\n",
       "    <tr>\n",
       "      <th>7</th>\n",
       "      <td>Female</td>\n",
       "      <td>Middie Class</td>\n",
       "      <td>117.113874</td>\n",
       "      <td>81.067444</td>\n",
       "      <td>29.422028</td>\n",
       "      <td>22898.865757</td>\n",
       "    </tr>\n",
       "  </tbody>\n",
       "</table>\n",
       "</div>"
      ],
      "text/plain": [
       "   Gender Economic Status      Height     Weight        Age        Income\n",
       "0  Female            Rich  106.003962  22.256354  35.541621  33026.181438\n",
       "1    Male            Poor  150.501501  59.809477  14.420658  28661.081968\n",
       "3    Male    Middie Class  170.072346  63.285258  24.231337  27440.849756\n",
       "4    Male            Rich  175.847902  19.142239   6.500955  27905.125634\n",
       "6  Female            Poor  175.110268  51.866695  36.441566  33784.575127\n",
       "7  Female    Middie Class  117.113874  81.067444  29.422028  22898.865757"
      ]
     },
     "execution_count": 58,
     "metadata": {},
     "output_type": "execute_result"
    }
   ],
   "source": [
    "double_group.head(1)"
   ]
  },
  {
   "cell_type": "markdown",
   "metadata": {},
   "source": [
    "+ Si hacemos `.tail(1)` nos devolvera la ultima fila de cada uno de los grupos."
   ]
  },
  {
   "cell_type": "code",
   "execution_count": null,
   "metadata": {},
   "outputs": [
    {
     "data": {
      "text/html": [
       "<div>\n",
       "<style scoped>\n",
       "    .dataframe tbody tr th:only-of-type {\n",
       "        vertical-align: middle;\n",
       "    }\n",
       "\n",
       "    .dataframe tbody tr th {\n",
       "        vertical-align: top;\n",
       "    }\n",
       "\n",
       "    .dataframe thead th {\n",
       "        text-align: right;\n",
       "    }\n",
       "</style>\n",
       "<table border=\"1\" class=\"dataframe\">\n",
       "  <thead>\n",
       "    <tr style=\"text-align: right;\">\n",
       "      <th></th>\n",
       "      <th>Gender</th>\n",
       "      <th>Economic Status</th>\n",
       "      <th>Height</th>\n",
       "      <th>Weight</th>\n",
       "      <th>Age</th>\n",
       "      <th>Income</th>\n",
       "    </tr>\n",
       "  </thead>\n",
       "  <tbody>\n",
       "    <tr>\n",
       "      <th>475</th>\n",
       "      <td>Male</td>\n",
       "      <td>Rich</td>\n",
       "      <td>237.258376</td>\n",
       "      <td>114.370475</td>\n",
       "      <td>15.163252</td>\n",
       "      <td>17274.828656</td>\n",
       "    </tr>\n",
       "    <tr>\n",
       "      <th>490</th>\n",
       "      <td>Male</td>\n",
       "      <td>Poor</td>\n",
       "      <td>100.828111</td>\n",
       "      <td>41.299597</td>\n",
       "      <td>23.529084</td>\n",
       "      <td>23507.157579</td>\n",
       "    </tr>\n",
       "    <tr>\n",
       "      <th>496</th>\n",
       "      <td>Female</td>\n",
       "      <td>Poor</td>\n",
       "      <td>216.158341</td>\n",
       "      <td>52.323133</td>\n",
       "      <td>21.173592</td>\n",
       "      <td>33182.748232</td>\n",
       "    </tr>\n",
       "    <tr>\n",
       "      <th>497</th>\n",
       "      <td>Female</td>\n",
       "      <td>Rich</td>\n",
       "      <td>201.444737</td>\n",
       "      <td>49.893108</td>\n",
       "      <td>34.560105</td>\n",
       "      <td>40798.303915</td>\n",
       "    </tr>\n",
       "    <tr>\n",
       "      <th>498</th>\n",
       "      <td>Female</td>\n",
       "      <td>Middie Class</td>\n",
       "      <td>142.746230</td>\n",
       "      <td>97.012030</td>\n",
       "      <td>22.794418</td>\n",
       "      <td>24614.480940</td>\n",
       "    </tr>\n",
       "    <tr>\n",
       "      <th>499</th>\n",
       "      <td>Male</td>\n",
       "      <td>Middie Class</td>\n",
       "      <td>205.897589</td>\n",
       "      <td>65.979277</td>\n",
       "      <td>46.673038</td>\n",
       "      <td>36244.153269</td>\n",
       "    </tr>\n",
       "  </tbody>\n",
       "</table>\n",
       "</div>"
      ],
      "text/plain": [
       "     Gender Economic Status      Height      Weight        Age        Income\n",
       "475    Male            Rich  237.258376  114.370475  15.163252  17274.828656\n",
       "490    Male            Poor  100.828111   41.299597  23.529084  23507.157579\n",
       "496  Female            Poor  216.158341   52.323133  21.173592  33182.748232\n",
       "497  Female            Rich  201.444737   49.893108  34.560105  40798.303915\n",
       "498  Female    Middie Class  142.746230   97.012030  22.794418  24614.480940\n",
       "499    Male    Middie Class  205.897589   65.979277  46.673038  36244.153269"
      ]
     },
     "execution_count": 59,
     "metadata": {},
     "output_type": "execute_result"
    }
   ],
   "source": [
    "double_group.tail(1)"
   ]
  },
  {
   "cell_type": "markdown",
   "metadata": {},
   "source": [
    "+ Si hacemos `.nth(n)` nos devolvera los elementos de la fila n."
   ]
  },
  {
   "cell_type": "code",
   "execution_count": null,
   "metadata": {},
   "outputs": [
    {
     "data": {
      "text/html": [
       "<div>\n",
       "<style scoped>\n",
       "    .dataframe tbody tr th:only-of-type {\n",
       "        vertical-align: middle;\n",
       "    }\n",
       "\n",
       "    .dataframe tbody tr th {\n",
       "        vertical-align: top;\n",
       "    }\n",
       "\n",
       "    .dataframe thead th {\n",
       "        text-align: right;\n",
       "    }\n",
       "</style>\n",
       "<table border=\"1\" class=\"dataframe\">\n",
       "  <thead>\n",
       "    <tr style=\"text-align: right;\">\n",
       "      <th></th>\n",
       "      <th></th>\n",
       "      <th>Height</th>\n",
       "      <th>Weight</th>\n",
       "      <th>Age</th>\n",
       "      <th>Income</th>\n",
       "    </tr>\n",
       "    <tr>\n",
       "      <th>Gender</th>\n",
       "      <th>Economic Status</th>\n",
       "      <th></th>\n",
       "      <th></th>\n",
       "      <th></th>\n",
       "      <th></th>\n",
       "    </tr>\n",
       "  </thead>\n",
       "  <tbody>\n",
       "    <tr>\n",
       "      <th rowspan=\"3\" valign=\"top\">Female</th>\n",
       "      <th>Middie Class</th>\n",
       "      <td>115.520152</td>\n",
       "      <td>98.602757</td>\n",
       "      <td>13.243625</td>\n",
       "      <td>29947.244933</td>\n",
       "    </tr>\n",
       "    <tr>\n",
       "      <th>Poor</th>\n",
       "      <td>95.292722</td>\n",
       "      <td>63.629477</td>\n",
       "      <td>43.932662</td>\n",
       "      <td>32209.001167</td>\n",
       "    </tr>\n",
       "    <tr>\n",
       "      <th>Rich</th>\n",
       "      <td>137.491922</td>\n",
       "      <td>65.806421</td>\n",
       "      <td>11.651366</td>\n",
       "      <td>20016.483562</td>\n",
       "    </tr>\n",
       "    <tr>\n",
       "      <th rowspan=\"3\" valign=\"top\">Male</th>\n",
       "      <th>Middie Class</th>\n",
       "      <td>172.395452</td>\n",
       "      <td>72.094443</td>\n",
       "      <td>32.291106</td>\n",
       "      <td>40622.822542</td>\n",
       "    </tr>\n",
       "    <tr>\n",
       "      <th>Poor</th>\n",
       "      <td>179.518827</td>\n",
       "      <td>77.691715</td>\n",
       "      <td>25.545110</td>\n",
       "      <td>36002.213936</td>\n",
       "    </tr>\n",
       "    <tr>\n",
       "      <th>Rich</th>\n",
       "      <td>195.126510</td>\n",
       "      <td>15.901933</td>\n",
       "      <td>31.552942</td>\n",
       "      <td>14407.195205</td>\n",
       "    </tr>\n",
       "  </tbody>\n",
       "</table>\n",
       "</div>"
      ],
      "text/plain": [
       "                            Height     Weight        Age        Income\n",
       "Gender Economic Status                                                \n",
       "Female Middie Class     115.520152  98.602757  13.243625  29947.244933\n",
       "       Poor              95.292722  63.629477  43.932662  32209.001167\n",
       "       Rich             137.491922  65.806421  11.651366  20016.483562\n",
       "Male   Middie Class     172.395452  72.094443  32.291106  40622.822542\n",
       "       Poor             179.518827  77.691715  25.545110  36002.213936\n",
       "       Rich             195.126510  15.901933  31.552942  14407.195205"
      ]
     },
     "execution_count": 60,
     "metadata": {},
     "output_type": "execute_result"
    }
   ],
   "source": [
    "double_group.nth(32)"
   ]
  },
  {
   "cell_type": "markdown",
   "metadata": {},
   "source": [
    "+ Si queresmos ordenar por ejemplo primero por edad y luego por ingreso."
   ]
  },
  {
   "cell_type": "code",
   "execution_count": null,
   "metadata": {},
   "outputs": [],
   "source": [
    "data_sorted = data.sort_values([\"Age\", \"Income\"])"
   ]
  },
  {
   "cell_type": "markdown",
   "metadata": {},
   "source": [
    "+ Si queremos ordenar por los mas jovenes primero."
   ]
  },
  {
   "cell_type": "code",
   "execution_count": null,
   "metadata": {},
   "outputs": [],
   "source": [
    "age_grouped = data_sorted.groupby(\"Gender\")"
   ]
  },
  {
   "cell_type": "code",
   "execution_count": null,
   "metadata": {},
   "outputs": [
    {
     "data": {
      "text/html": [
       "<div>\n",
       "<style scoped>\n",
       "    .dataframe tbody tr th:only-of-type {\n",
       "        vertical-align: middle;\n",
       "    }\n",
       "\n",
       "    .dataframe tbody tr th {\n",
       "        vertical-align: top;\n",
       "    }\n",
       "\n",
       "    .dataframe thead th {\n",
       "        text-align: right;\n",
       "    }\n",
       "</style>\n",
       "<table border=\"1\" class=\"dataframe\">\n",
       "  <thead>\n",
       "    <tr style=\"text-align: right;\">\n",
       "      <th></th>\n",
       "      <th>Gender</th>\n",
       "      <th>Economic Status</th>\n",
       "      <th>Height</th>\n",
       "      <th>Weight</th>\n",
       "      <th>Age</th>\n",
       "      <th>Income</th>\n",
       "    </tr>\n",
       "  </thead>\n",
       "  <tbody>\n",
       "    <tr>\n",
       "      <th>175</th>\n",
       "      <td>Male</td>\n",
       "      <td>Poor</td>\n",
       "      <td>123.170108</td>\n",
       "      <td>18.128724</td>\n",
       "      <td>-5.787750</td>\n",
       "      <td>23962.696875</td>\n",
       "    </tr>\n",
       "    <tr>\n",
       "      <th>445</th>\n",
       "      <td>Female</td>\n",
       "      <td>Poor</td>\n",
       "      <td>112.825240</td>\n",
       "      <td>34.558551</td>\n",
       "      <td>-2.906195</td>\n",
       "      <td>28634.163610</td>\n",
       "    </tr>\n",
       "    <tr>\n",
       "      <th>401</th>\n",
       "      <td>Female</td>\n",
       "      <td>Middie Class</td>\n",
       "      <td>142.273850</td>\n",
       "      <td>44.698805</td>\n",
       "      <td>-2.305830</td>\n",
       "      <td>34387.837692</td>\n",
       "    </tr>\n",
       "    <tr>\n",
       "      <th>130</th>\n",
       "      <td>Female</td>\n",
       "      <td>Poor</td>\n",
       "      <td>219.423463</td>\n",
       "      <td>40.766175</td>\n",
       "      <td>-1.127503</td>\n",
       "      <td>27509.869977</td>\n",
       "    </tr>\n",
       "    <tr>\n",
       "      <th>282</th>\n",
       "      <td>Female</td>\n",
       "      <td>Middie Class</td>\n",
       "      <td>106.529076</td>\n",
       "      <td>63.851889</td>\n",
       "      <td>2.484493</td>\n",
       "      <td>28596.687739</td>\n",
       "    </tr>\n",
       "    <tr>\n",
       "      <th>313</th>\n",
       "      <td>Female</td>\n",
       "      <td>Rich</td>\n",
       "      <td>168.149571</td>\n",
       "      <td>108.638506</td>\n",
       "      <td>2.626798</td>\n",
       "      <td>44775.772052</td>\n",
       "    </tr>\n",
       "    <tr>\n",
       "      <th>480</th>\n",
       "      <td>Male</td>\n",
       "      <td>Middie Class</td>\n",
       "      <td>221.141425</td>\n",
       "      <td>59.031862</td>\n",
       "      <td>2.802598</td>\n",
       "      <td>20477.174105</td>\n",
       "    </tr>\n",
       "    <tr>\n",
       "      <th>341</th>\n",
       "      <td>Male</td>\n",
       "      <td>Middie Class</td>\n",
       "      <td>167.452862</td>\n",
       "      <td>34.015741</td>\n",
       "      <td>3.475122</td>\n",
       "      <td>22421.939093</td>\n",
       "    </tr>\n",
       "    <tr>\n",
       "      <th>383</th>\n",
       "      <td>Male</td>\n",
       "      <td>Poor</td>\n",
       "      <td>171.120959</td>\n",
       "      <td>73.748715</td>\n",
       "      <td>3.795229</td>\n",
       "      <td>33876.821173</td>\n",
       "    </tr>\n",
       "    <tr>\n",
       "      <th>340</th>\n",
       "      <td>Male</td>\n",
       "      <td>Rich</td>\n",
       "      <td>134.965019</td>\n",
       "      <td>72.589745</td>\n",
       "      <td>5.429485</td>\n",
       "      <td>27582.271285</td>\n",
       "    </tr>\n",
       "  </tbody>\n",
       "</table>\n",
       "</div>"
      ],
      "text/plain": [
       "     Gender Economic Status      Height      Weight       Age        Income\n",
       "175    Male            Poor  123.170108   18.128724 -5.787750  23962.696875\n",
       "445  Female            Poor  112.825240   34.558551 -2.906195  28634.163610\n",
       "401  Female    Middie Class  142.273850   44.698805 -2.305830  34387.837692\n",
       "130  Female            Poor  219.423463   40.766175 -1.127503  27509.869977\n",
       "282  Female    Middie Class  106.529076   63.851889  2.484493  28596.687739\n",
       "313  Female            Rich  168.149571  108.638506  2.626798  44775.772052\n",
       "480    Male    Middie Class  221.141425   59.031862  2.802598  20477.174105\n",
       "341    Male    Middie Class  167.452862   34.015741  3.475122  22421.939093\n",
       "383    Male            Poor  171.120959   73.748715  3.795229  33876.821173\n",
       "340    Male            Rich  134.965019   72.589745  5.429485  27582.271285"
      ]
     },
     "execution_count": 67,
     "metadata": {},
     "output_type": "execute_result"
    }
   ],
   "source": [
    "age_grouped.head()"
   ]
  },
  {
   "cell_type": "markdown",
   "metadata": {},
   "source": [
    "Atualización: cómo dividir conjunto de entrenamiento y test\n",
    "En vez de utilizar la librería ya no existe:\n",
    "\n",
    "from sklearn.cross_validation import train_test_split\n",
    "\n",
    "ahora es mejor utilizar:\n",
    "\n",
    "from sklearn.model_selection import train_test_split\n",
    "\n",
    "\n",
    "\n",
    "También cuidado si quieres representar un vector de variables booleanas, ya que al hacer un histograma obtendrás un error. Ahora debes añadir un casting con .astype(int) al final de la lista de python para poderlo representar.\n",
    "\n",
    "Antes: plt.hist(check)\n",
    "Después plt.hist(check.astype(int))"
   ]
  },
  {
   "cell_type": "markdown",
   "metadata": {},
   "source": [
    "## Conjunto de entrenamiento y conjunto de testing"
   ]
  },
  {
   "cell_type": "code",
   "execution_count": null,
   "metadata": {},
   "outputs": [],
   "source": [
    "data = pd.read_csv(\"../data/customer-churn-model/Customer Churn Model.txt\")"
   ]
  },
  {
   "cell_type": "code",
   "execution_count": null,
   "metadata": {},
   "outputs": [
    {
     "data": {
      "text/plain": [
       "3333"
      ]
     },
     "execution_count": 32,
     "metadata": {},
     "output_type": "execute_result"
    }
   ],
   "source": [
    "len(data)"
   ]
  },
  {
   "cell_type": "markdown",
   "metadata": {},
   "source": [
    "### Dividir utilizando la distribucion normal"
   ]
  },
  {
   "cell_type": "code",
   "execution_count": null,
   "metadata": {},
   "outputs": [],
   "source": [
    "a = np.random.randn(len(data))"
   ]
  },
  {
   "cell_type": "code",
   "execution_count": null,
   "metadata": {},
   "outputs": [],
   "source": [
    "check = (a<0.8)"
   ]
  },
  {
   "cell_type": "code",
   "execution_count": null,
   "metadata": {},
   "outputs": [
    {
     "data": {
      "text/plain": [
       "array([ True,  True,  True, ...,  True,  True,  True])"
      ]
     },
     "execution_count": 36,
     "metadata": {},
     "output_type": "execute_result"
    }
   ],
   "source": [
    "check"
   ]
  },
  {
   "cell_type": "code",
   "execution_count": null,
   "metadata": {},
   "outputs": [
    {
     "data": {
      "text/plain": [
       "(array([ 747.,    0.,    0.,    0.,    0.,    0.,    0.,    0.,    0.,\n",
       "        2586.]),\n",
       " array([0. , 0.1, 0.2, 0.3, 0.4, 0.5, 0.6, 0.7, 0.8, 0.9, 1. ]),\n",
       " <BarContainer object of 10 artists>)"
      ]
     },
     "execution_count": 38,
     "metadata": {},
     "output_type": "execute_result"
    },
    {
     "data": {
      "image/png": "[encoded data removed]",
      "text/plain": [
       "<Figure size 432x288 with 1 Axes>"
      ]
     },
     "metadata": {
      "needs_background": "light"
     },
     "output_type": "display_data"
    }
   ],
   "source": [
    "plt.hist(check.astype(int))"
   ]
  },
  {
   "cell_type": "code",
   "execution_count": null,
   "metadata": {},
   "outputs": [],
   "source": [
    "training = data[check]\n",
    "testing = data[~check]"
   ]
  },
  {
   "cell_type": "code",
   "execution_count": null,
   "metadata": {},
   "outputs": [
    {
     "data": {
      "text/plain": [
       "2586"
      ]
     },
     "execution_count": 40,
     "metadata": {},
     "output_type": "execute_result"
    }
   ],
   "source": [
    "len(training)"
   ]
  },
  {
   "cell_type": "code",
   "execution_count": null,
   "metadata": {},
   "outputs": [
    {
     "data": {
      "text/plain": [
       "747"
      ]
     },
     "execution_count": 41,
     "metadata": {},
     "output_type": "execute_result"
    }
   ],
   "source": [
    "len(testing)"
   ]
  },
  {
   "cell_type": "markdown",
   "metadata": {},
   "source": [
    "## Con libreria sklearn"
   ]
  },
  {
   "cell_type": "code",
   "execution_count": null,
   "metadata": {},
   "outputs": [],
   "source": [
    "from sklearn.model_selection import train_test_split"
   ]
  },
  {
   "cell_type": "code",
   "execution_count": null,
   "metadata": {},
   "outputs": [],
   "source": [
    "train, test = train_test_split(data, test_size=0.2)"
   ]
  },
  {
   "cell_type": "code",
   "execution_count": null,
   "metadata": {},
   "outputs": [
    {
     "data": {
      "text/plain": [
       "2666"
      ]
     },
     "execution_count": 47,
     "metadata": {},
     "output_type": "execute_result"
    }
   ],
   "source": [
    "len(train)"
   ]
  },
  {
   "cell_type": "code",
   "execution_count": null,
   "metadata": {},
   "outputs": [
    {
     "data": {
      "text/plain": [
       "667"
      ]
     },
     "execution_count": 48,
     "metadata": {},
     "output_type": "execute_result"
    }
   ],
   "source": [
    "len(test)"
   ]
  },
  {
   "cell_type": "markdown",
   "metadata": {},
   "source": [
    "### Utilizando una funcion de Shuffle"
   ]
  },
  {
   "cell_type": "code",
   "execution_count": null,
   "metadata": {},
   "outputs": [
    {
     "data": {
      "text/html": [
       "<div>\n",
       "<style scoped>\n",
       "    .dataframe tbody tr th:only-of-type {\n",
       "        vertical-align: middle;\n",
       "    }\n",
       "\n",
       "    .dataframe tbody tr th {\n",
       "        vertical-align: top;\n",
       "    }\n",
       "\n",
       "    .dataframe thead th {\n",
       "        text-align: right;\n",
       "    }\n",
       "</style>\n",
       "<table border=\"1\" class=\"dataframe\">\n",
       "  <thead>\n",
       "    <tr style=\"text-align: right;\">\n",
       "      <th></th>\n",
       "      <th>State</th>\n",
       "      <th>Account Length</th>\n",
       "      <th>Area Code</th>\n",
       "      <th>Phone</th>\n",
       "      <th>Int'l Plan</th>\n",
       "      <th>VMail Plan</th>\n",
       "      <th>VMail Message</th>\n",
       "      <th>Day Mins</th>\n",
       "      <th>Day Calls</th>\n",
       "      <th>Day Charge</th>\n",
       "      <th>...</th>\n",
       "      <th>Eve Calls</th>\n",
       "      <th>Eve Charge</th>\n",
       "      <th>Night Mins</th>\n",
       "      <th>Night Calls</th>\n",
       "      <th>Night Charge</th>\n",
       "      <th>Intl Mins</th>\n",
       "      <th>Intl Calls</th>\n",
       "      <th>Intl Charge</th>\n",
       "      <th>CustServ Calls</th>\n",
       "      <th>Churn?</th>\n",
       "    </tr>\n",
       "  </thead>\n",
       "  <tbody>\n",
       "    <tr>\n",
       "      <th>0</th>\n",
       "      <td>KS</td>\n",
       "      <td>128</td>\n",
       "      <td>415</td>\n",
       "      <td>382-4657</td>\n",
       "      <td>no</td>\n",
       "      <td>yes</td>\n",
       "      <td>25</td>\n",
       "      <td>265.1</td>\n",
       "      <td>110</td>\n",
       "      <td>45.07</td>\n",
       "      <td>...</td>\n",
       "      <td>99</td>\n",
       "      <td>16.78</td>\n",
       "      <td>244.7</td>\n",
       "      <td>91</td>\n",
       "      <td>11.01</td>\n",
       "      <td>10.0</td>\n",
       "      <td>3</td>\n",
       "      <td>2.70</td>\n",
       "      <td>1</td>\n",
       "      <td>False.</td>\n",
       "    </tr>\n",
       "    <tr>\n",
       "      <th>1</th>\n",
       "      <td>OH</td>\n",
       "      <td>107</td>\n",
       "      <td>415</td>\n",
       "      <td>371-7191</td>\n",
       "      <td>no</td>\n",
       "      <td>yes</td>\n",
       "      <td>26</td>\n",
       "      <td>161.6</td>\n",
       "      <td>123</td>\n",
       "      <td>27.47</td>\n",
       "      <td>...</td>\n",
       "      <td>103</td>\n",
       "      <td>16.62</td>\n",
       "      <td>254.4</td>\n",
       "      <td>103</td>\n",
       "      <td>11.45</td>\n",
       "      <td>13.7</td>\n",
       "      <td>3</td>\n",
       "      <td>3.70</td>\n",
       "      <td>1</td>\n",
       "      <td>False.</td>\n",
       "    </tr>\n",
       "    <tr>\n",
       "      <th>2</th>\n",
       "      <td>NJ</td>\n",
       "      <td>137</td>\n",
       "      <td>415</td>\n",
       "      <td>358-1921</td>\n",
       "      <td>no</td>\n",
       "      <td>no</td>\n",
       "      <td>0</td>\n",
       "      <td>243.4</td>\n",
       "      <td>114</td>\n",
       "      <td>41.38</td>\n",
       "      <td>...</td>\n",
       "      <td>110</td>\n",
       "      <td>10.30</td>\n",
       "      <td>162.6</td>\n",
       "      <td>104</td>\n",
       "      <td>7.32</td>\n",
       "      <td>12.2</td>\n",
       "      <td>5</td>\n",
       "      <td>3.29</td>\n",
       "      <td>0</td>\n",
       "      <td>False.</td>\n",
       "    </tr>\n",
       "    <tr>\n",
       "      <th>3</th>\n",
       "      <td>OH</td>\n",
       "      <td>84</td>\n",
       "      <td>408</td>\n",
       "      <td>375-9999</td>\n",
       "      <td>yes</td>\n",
       "      <td>no</td>\n",
       "      <td>0</td>\n",
       "      <td>299.4</td>\n",
       "      <td>71</td>\n",
       "      <td>50.90</td>\n",
       "      <td>...</td>\n",
       "      <td>88</td>\n",
       "      <td>5.26</td>\n",
       "      <td>196.9</td>\n",
       "      <td>89</td>\n",
       "      <td>8.86</td>\n",
       "      <td>6.6</td>\n",
       "      <td>7</td>\n",
       "      <td>1.78</td>\n",
       "      <td>2</td>\n",
       "      <td>False.</td>\n",
       "    </tr>\n",
       "    <tr>\n",
       "      <th>4</th>\n",
       "      <td>OK</td>\n",
       "      <td>75</td>\n",
       "      <td>415</td>\n",
       "      <td>330-6626</td>\n",
       "      <td>yes</td>\n",
       "      <td>no</td>\n",
       "      <td>0</td>\n",
       "      <td>166.7</td>\n",
       "      <td>113</td>\n",
       "      <td>28.34</td>\n",
       "      <td>...</td>\n",
       "      <td>122</td>\n",
       "      <td>12.61</td>\n",
       "      <td>186.9</td>\n",
       "      <td>121</td>\n",
       "      <td>8.41</td>\n",
       "      <td>10.1</td>\n",
       "      <td>3</td>\n",
       "      <td>2.73</td>\n",
       "      <td>3</td>\n",
       "      <td>False.</td>\n",
       "    </tr>\n",
       "  </tbody>\n",
       "</table>\n",
       "<p>5 rows × 21 columns</p>\n",
       "</div>"
      ],
      "text/plain": [
       "  State  Account Length  Area Code     Phone Int'l Plan VMail Plan  \\\n",
       "0    KS             128        415  382-4657         no        yes   \n",
       "1    OH             107        415  371-7191         no        yes   \n",
       "2    NJ             137        415  358-1921         no         no   \n",
       "3    OH              84        408  375-9999        yes         no   \n",
       "4    OK              75        415  330-6626        yes         no   \n",
       "\n",
       "   VMail Message  Day Mins  Day Calls  Day Charge  ...  Eve Calls  Eve Charge  \\\n",
       "0             25     265.1        110       45.07  ...         99       16.78   \n",
       "1             26     161.6        123       27.47  ...        103       16.62   \n",
       "2              0     243.4        114       41.38  ...        110       10.30   \n",
       "3              0     299.4         71       50.90  ...         88        5.26   \n",
       "4              0     166.7        113       28.34  ...        122       12.61   \n",
       "\n",
       "   Night Mins  Night Calls  Night Charge  Intl Mins  Intl Calls  Intl Charge  \\\n",
       "0       244.7           91         11.01       10.0           3         2.70   \n",
       "1       254.4          103         11.45       13.7           3         3.70   \n",
       "2       162.6          104          7.32       12.2           5         3.29   \n",
       "3       196.9           89          8.86        6.6           7         1.78   \n",
       "4       186.9          121          8.41       10.1           3         2.73   \n",
       "\n",
       "   CustServ Calls  Churn?  \n",
       "0               1  False.  \n",
       "1               1  False.  \n",
       "2               0  False.  \n",
       "3               2  False.  \n",
       "4               3  False.  \n",
       "\n",
       "[5 rows x 21 columns]"
      ]
     },
     "execution_count": 49,
     "metadata": {},
     "output_type": "execute_result"
    }
   ],
   "source": [
    "data.head()"
   ]
  },
  {
   "cell_type": "code",
   "execution_count": null,
   "metadata": {},
   "outputs": [],
   "source": [
    "import sklearn\n"
   ]
  },
  {
   "cell_type": "code",
   "execution_count": null,
   "metadata": {},
   "outputs": [],
   "source": [
    "data = sklearn.utils.shuffle(data)"
   ]
  },
  {
   "cell_type": "code",
   "execution_count": null,
   "metadata": {},
   "outputs": [],
   "source": [
    "cut_id = int(len(data)*0.8)\n",
    "train_data = data[:cut_id]\n",
    "test_data = data[cut_id+1:]"
   ]
  },
  {
   "cell_type": "code",
   "execution_count": null,
   "metadata": {},
   "outputs": [
    {
     "data": {
      "text/plain": [
       "2666"
      ]
     },
     "execution_count": 55,
     "metadata": {},
     "output_type": "execute_result"
    }
   ],
   "source": [
    "len(train_data)"
   ]
  },
  {
   "cell_type": "code",
   "execution_count": null,
   "metadata": {},
   "outputs": [
    {
     "data": {
      "text/plain": [
       "666"
      ]
     },
     "execution_count": 56,
     "metadata": {},
     "output_type": "execute_result"
    }
   ],
   "source": [
    "len(test_data)"
   ]
  },
  {
   "cell_type": "code",
   "execution_count": null,
   "metadata": {},
   "outputs": [],
   "source": []
  }
 ],
 "metadata": {
  "interpreter": {
   "hash": "e7370f93d1d0cde622a1f8e1c04877d8463912d04d973331ad4851f04de6915a"
  },
  "kernelspec": {
   "display_name": "Python 3.10.4 64-bit",
   "language": "python",
   "name": "python3"
  },
  "language_info": {
   "codemirror_mode": {
    "name": "ipython",
    "version": 3
   },
   "file_extension": ".py",
   "mimetype": "text/x-python",
   "name": "python",
   "nbconvert_exporter": "python",
   "pygments_lexer": "ipython3",
   "version": "3.10.4"
  },
  "orig_nbformat": 4
 },
 "nbformat": 4,
 "nbformat_minor": 2
}
