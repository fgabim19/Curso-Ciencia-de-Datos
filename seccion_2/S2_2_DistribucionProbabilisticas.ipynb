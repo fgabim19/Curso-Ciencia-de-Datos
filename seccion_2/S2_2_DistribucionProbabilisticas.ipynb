{
 "cells": [
  {
   "cell_type": "markdown",
   "id": "b664fc52-7400-47cb-a89b-a47200ba7b32",
   "metadata": {},
   "source": [
    "# Estadisticas: Funciones de Distribucion de Probabilidad.\n",
    "## Un poco de Probabilidad\n",
    "Primero algunas definiciones.\n",
    "\n",
    "* **Variable Aleatoria**\n",
    "En probabilidad y estadística, una variable aleatoria es una función que asigna un valor, usualmente numérico, al resultado de un experimento aleatorio.<br>\n",
    "*Por ejemplo*, los posibles resultados de tirar un dado dos veces: (1, 1), (1, 2), etc. o un número real (p.e., la temperatura máxima medida a lo largo del día en una ciudad concreta).\n",
    "\n",
    "* **Función de Distribución de Probabilidad** \n",
    "En teoría de la probabilidad y estadística, la distribución de probabilidad de una variable aleatoria es una función que asigna a cada suceso definido sobre la variable la probabilidad de que dicho suceso ocurra.\n",
    "\n",
    "* **Funcion de Distribucion Acumulada**<br>\n",
    "A función de distribución acumulada (FDA, designada también a veces simplemente como función de distribución o FD) o función de probabilidad acumulada asociada a una variable aleatoria real **X** sujeta a cierta ley de distribución de probabilidad, es una función matemática de la variable real *x* que describe la probabilidad de que *X* tenga un valor menor o igual que *x*.\n",
    "\n",
    "### Funcion de distribucion Unforme\n",
    "\n",
    "Una funcion de distribucion de probabilidad es una funcion como su nombre lo indica en la que todas las variables aleatorias en un intervalo *(a;b)* toman la misma probabilidad.\n",
    "\n",
    "![Funcion de distribucion uniforme detallada.](../recursos/seccion-2/uniforme2.png)\n",
    "\n"
   ]
  },
  {
   "cell_type": "code",
   "execution_count": 1,
   "id": "26b04414-604c-4b06-a559-5ec4ba7b7fbb",
   "metadata": {},
   "outputs": [],
   "source": [
    "import numpy as np\n",
    "import matplotlib.pyplot as plt\n",
    "import pandas as pd"
   ]
  },
  {
   "cell_type": "code",
   "execution_count": 2,
   "id": "3c4d714e-1f39-44d9-992c-e371a02840b8",
   "metadata": {},
   "outputs": [],
   "source": [
    "a = 1\n",
    "b = 100\n",
    "n1 = 1000\n",
    "n2 = 10000\n",
    "n3 = 100000\n",
    "\n",
    "data1 = np.random.uniform(a, b, n1)\n",
    "data2 = np.random.uniform(a, b, n2)\n",
    "data3 = np.random.uniform(a, b, n3)"
   ]
  },
  {
   "cell_type": "code",
   "execution_count": 3,
   "id": "adabc989-bc25-4db9-af80-7793a1080bc2",
   "metadata": {},
   "outputs": [
    {
     "data": {
      "text/plain": [
       "(array([119., 100., 103., 108.,  91., 102., 103.,  86.,  99.,  89.]),\n",
       " array([ 1.04266907, 10.92616213, 20.80965519, 30.69314826, 40.57664132,\n",
       "        50.46013438, 60.34362744, 70.22712051, 80.11061357, 89.99410663,\n",
       "        99.8775997 ]),\n",
       " <BarContainer object of 10 artists>)"
      ]
     },
     "execution_count": 3,
     "metadata": {},
     "output_type": "execute_result"
    },
    {
     "data": {
      "image/png": "[encoded data removed]",
      "text/plain": [
       "<Figure size 432x288 with 1 Axes>"
      ]
     },
     "metadata": {
      "needs_background": "light"
     },
     "output_type": "display_data"
    }
   ],
   "source": [
    "%matplotlib inline\n",
    "plt.hist(data1)    "
   ]
  },
  {
   "cell_type": "code",
   "execution_count": 4,
   "id": "d826796a",
   "metadata": {},
   "outputs": [
    {
     "data": {
      "text/plain": [
       "(array([1008.,  988., 1064., 1010., 1002.,  986., 1011., 1018.,  961.,\n",
       "         952.]),\n",
       " array([ 1.02829678, 10.9240202 , 20.81974362, 30.71546705, 40.61119047,\n",
       "        50.50691389, 60.40263732, 70.29836074, 80.19408416, 90.08980758,\n",
       "        99.98553101]),\n",
       " <BarContainer object of 10 artists>)"
      ]
     },
     "execution_count": 4,
     "metadata": {},
     "output_type": "execute_result"
    },
    {
     "data": {
      "image/png": "[encoded data removed]",
      "text/plain": [
       "<Figure size 432x288 with 1 Axes>"
      ]
     },
     "metadata": {
      "needs_background": "light"
     },
     "output_type": "display_data"
    }
   ],
   "source": [
    "plt.hist(data2)"
   ]
  },
  {
   "cell_type": "code",
   "execution_count": 5,
   "id": "b77f78c0",
   "metadata": {},
   "outputs": [
    {
     "data": {
      "text/plain": [
       "(array([ 9949., 10110., 10000.,  9934., 10048.,  9995.,  9992.,  9936.,\n",
       "        10047.,  9989.]),\n",
       " array([ 1.00163954, 10.90135473, 20.80106992, 30.70078511, 40.6005003 ,\n",
       "        50.50021549, 60.39993068, 70.29964588, 80.19936107, 90.09907626,\n",
       "        99.99879145]),\n",
       " <BarContainer object of 10 artists>)"
      ]
     },
     "execution_count": 5,
     "metadata": {},
     "output_type": "execute_result"
    },
    {
     "data": {
      "image/png": "[encoded data removed]",
      "text/plain": [
       "<Figure size 432x288 with 1 Axes>"
      ]
     },
     "metadata": {
      "needs_background": "light"
     },
     "output_type": "display_data"
    }
   ],
   "source": [
    "plt.hist(data3)"
   ]
  },
  {
   "cell_type": "markdown",
   "id": "9abfbdd2-a5ad-4c85-8c60-c2567920dc2d",
   "metadata": {},
   "source": [
    "Podemos ve que a si bien no es totalmente uniforme a medida que aumentamos el tamaño de la muestra mas parecido a una funcion uniforme."
   ]
  },
  {
   "cell_type": "markdown",
   "id": "8dfdec02",
   "metadata": {},
   "source": [
    "### Distribucion Normal (Cmapana de Gauss)\n",
    "\n",
    "Una funcion de distribucion Normal es una funcion de distribucion de que tiene la forma:\n",
    "\n",
    "\n",
    "El pico de la curva indica el promedio de los valores mientras que los puntos de inflecion (donde la curva de ser concava hacia arriva para pasa a ser concava hacia abajo o viceversa) son las desviaciones estandar.\n",
    "\n",
    "Una variante es la distrivucion Normal Standard, donde tiene la misma forma pero al ser Z = ()\n",
    "![Distribucion Normal Standard](../recursos/seccion-2/distribucionNormal.png)\n",
    "\n",
    "### Funcion de Distribucion Normal Standar en Python\n",
    "\n",
    "La funcion `random.randn()` genera numeros aleatorios de distribucion Normal, tambien es posible generar un array de numero aleatorios de distribucion Normal como el siguiente ejemplo."
   ]
  },
  {
   "cell_type": "code",
   "execution_count": 6,
   "id": "1c9c9081",
   "metadata": {},
   "outputs": [
    {
     "data": {
      "text/plain": [
       "array([[ 1.0044558 ,  0.01056352, -0.53963551,  1.96660823],\n",
       "       [ 0.00489224, -0.76559751, -0.98919017, -0.15264812]])"
      ]
     },
     "execution_count": 6,
     "metadata": {},
     "output_type": "execute_result"
    }
   ],
   "source": [
    "data0 = np.random.randn(2, 4)\n",
    "data0"
   ]
  },
  {
   "cell_type": "markdown",
   "id": "bdd63840",
   "metadata": {},
   "source": [
    "Para graficar una funcion de distribucion Normal, se puede usar la libreria 'matplotlib' y la funcion 'plot' de la misma."
   ]
  },
  {
   "cell_type": "code",
   "execution_count": 7,
   "id": "7570faf6",
   "metadata": {},
   "outputs": [],
   "source": [
    "data1 = np.random.randn(100)\n",
    "data2 = np.random.randn(10000)"
   ]
  },
  {
   "cell_type": "code",
   "execution_count": 8,
   "id": "f663ef4d",
   "metadata": {},
   "outputs": [
    {
     "data": {
      "text/plain": [
       "[<matplotlib.lines.Line2D at 0x7f04592adc00>]"
      ]
     },
     "execution_count": 8,
     "metadata": {},
     "output_type": "execute_result"
    },
    {
     "data": {
      "image/png": "[encoded data removed]",
      "text/plain": [
       "<Figure size 432x288 with 1 Axes>"
      ]
     },
     "metadata": {
      "needs_background": "light"
     },
     "output_type": "display_data"
    }
   ],
   "source": [
    "x1 = range(1, 101)\n",
    "x2 = range(1, 10001)\n",
    "plt.plot(x1, data1)"
   ]
  },
  {
   "cell_type": "code",
   "execution_count": 9,
   "id": "4c2e622f",
   "metadata": {},
   "outputs": [
    {
     "data": {
      "text/plain": [
       "(array([ 1.,  5.,  7., 19., 24., 18., 18.,  6.,  1.,  1.]),\n",
       " array([-3.07746193, -2.480838  , -1.88421407, -1.28759014, -0.69096621,\n",
       "        -0.09434228,  0.50228165,  1.09890559,  1.69552952,  2.29215345,\n",
       "         2.88877738]),\n",
       " <BarContainer object of 10 artists>)"
      ]
     },
     "execution_count": 9,
     "metadata": {},
     "output_type": "execute_result"
    },
    {
     "data": {
      "image/png": "[encoded data removed]",
      "text/plain": [
       "<Figure size 432x288 with 1 Axes>"
      ]
     },
     "metadata": {
      "needs_background": "light"
     },
     "output_type": "display_data"
    }
   ],
   "source": [
    "plt.hist(data1)"
   ]
  },
  {
   "cell_type": "code",
   "execution_count": 10,
   "id": "a67d67c3",
   "metadata": {},
   "outputs": [
    {
     "data": {
      "text/plain": [
       "(array([  13.,  114.,  538., 1559., 2691., 2774., 1609.,  558.,  132.,\n",
       "          12.]),\n",
       " array([-3.75597706, -3.00815883, -2.26034061, -1.51252239, -0.76470417,\n",
       "        -0.01688595,  0.73093228,  1.4787505 ,  2.22656872,  2.97438694,\n",
       "         3.72220516]),\n",
       " <BarContainer object of 10 artists>)"
      ]
     },
     "execution_count": 10,
     "metadata": {},
     "output_type": "execute_result"
    },
    {
     "data": {
      "image/png": "[encoded data removed]",
      "text/plain": [
       "<Figure size 432x288 with 1 Axes>"
      ]
     },
     "metadata": {
      "needs_background": "light"
     },
     "output_type": "display_data"
    }
   ],
   "source": [
    "plt.hist(data2)"
   ]
  },
  {
   "cell_type": "markdown",
   "id": "f1e795c5",
   "metadata": {},
   "source": [
    "Distribucion normal acumulada se muestra a continuacion, y se grafica con los comandos `plt.plot()' con los arguentos `x`, y `sorted(data)` para ordenar y acumular los datos."
   ]
  },
  {
   "cell_type": "code",
   "execution_count": 11,
   "id": "e67273b4",
   "metadata": {},
   "outputs": [
    {
     "data": {
      "text/plain": [
       "[<matplotlib.lines.Line2D at 0x7f0459209810>]"
      ]
     },
     "execution_count": 11,
     "metadata": {},
     "output_type": "execute_result"
    },
    {
     "data": {
      "image/png": "[encoded data removed]",
      "text/plain": [
       "<Figure size 432x288 with 1 Axes>"
      ]
     },
     "metadata": {
      "needs_background": "light"
     },
     "output_type": "display_data"
    }
   ],
   "source": [
    "plt.plot(x1, sorted(data1))"
   ]
  },
  {
   "cell_type": "code",
   "execution_count": 12,
   "id": "66caa521",
   "metadata": {},
   "outputs": [
    {
     "data": {
      "text/plain": [
       "[<matplotlib.lines.Line2D at 0x7f04590c8cd0>]"
      ]
     },
     "execution_count": 12,
     "metadata": {},
     "output_type": "execute_result"
    },
    {
     "data": {
      "image/png": "[encoded data removed]",
      "text/plain": [
       "<Figure size 432x288 with 1 Axes>"
      ]
     },
     "metadata": {
      "needs_background": "light"
     },
     "output_type": "display_data"
    }
   ],
   "source": [
    "plt.plot(x2, sorted(data2))"
   ]
  },
  {
   "cell_type": "markdown",
   "id": "740823dd",
   "metadata": {},
   "source": [
    "#### Teorema Central del Limite\n",
    "  El teorema del límite central o teorema central del límite indica que, en condiciones muy generales, si **Sn** es la suma de **n** variables aleatorias independientes, con media conocida y varianza no nula pero finita, entonces la función de distribución de **Sn** «se aproxima bien» a una distribución normal.<br>\n",
    "Ejemplo:"
   ]
  },
  {
   "cell_type": "code",
   "execution_count": 13,
   "id": "281be734",
   "metadata": {},
   "outputs": [
    {
     "data": {
      "text/plain": [
       "(array([  25.,  174.,  667., 1803., 2675., 2611., 1433.,  493.,  107.,\n",
       "          12.]),\n",
       " array([-3.28610468, -1.48343095,  0.31924278,  2.12191651,  3.92459024,\n",
       "         5.72726397,  7.52993771,  9.33261144, 11.13528517, 12.9379589 ,\n",
       "        14.74063263]),\n",
       " <BarContainer object of 10 artists>)"
      ]
     },
     "execution_count": 13,
     "metadata": {},
     "output_type": "execute_result"
    },
    {
     "data": {
      "image/png": "[encoded data removed]",
      "text/plain": [
       "<Figure size 432x288 with 1 Axes>"
      ]
     },
     "metadata": {
      "needs_background": "light"
     },
     "output_type": "display_data"
    }
   ],
   "source": [
    "\n",
    "mu = 5.5\n",
    "sd = 2.5\n",
    "z_10000 = np.random.randn(10000)\n",
    "data3 = mu + sd * z_10000    #z = (X - mu) / sd ==>N(0,1), X = mu + sd * z ==> N(mu, sd^2)\n",
    "plt.hist(data3)"
   ]
  },
  {
   "cell_type": "markdown",
   "id": "b2d1a51e",
   "metadata": {},
   "source": [
    "### Dummy Data Sets"
   ]
  },
  {
   "cell_type": "code",
   "execution_count": 14,
   "id": "ca126b95",
   "metadata": {},
   "outputs": [],
   "source": [
    "n = 1000000\n",
    "data = pd.DataFrame(\n",
    "    {\n",
    "        'A' : np.random.randn(n),\n",
    "        'B' : 1.5 + 2.5 * np.random.randn(n),\n",
    "        'C' : np.random.uniform(5, 32, n)\n",
    "    }\n",
    ")"
   ]
  },
  {
   "cell_type": "code",
   "execution_count": 15,
   "id": "880f73f6",
   "metadata": {},
   "outputs": [
    {
     "data": {
      "text/html": [
       "<div>\n",
       "<style scoped>\n",
       "    .dataframe tbody tr th:only-of-type {\n",
       "        vertical-align: middle;\n",
       "    }\n",
       "\n",
       "    .dataframe tbody tr th {\n",
       "        vertical-align: top;\n",
       "    }\n",
       "\n",
       "    .dataframe thead th {\n",
       "        text-align: right;\n",
       "    }\n",
       "</style>\n",
       "<table border=\"1\" class=\"dataframe\">\n",
       "  <thead>\n",
       "    <tr style=\"text-align: right;\">\n",
       "      <th></th>\n",
       "      <th>A</th>\n",
       "      <th>B</th>\n",
       "      <th>C</th>\n",
       "    </tr>\n",
       "  </thead>\n",
       "  <tbody>\n",
       "    <tr>\n",
       "      <th>count</th>\n",
       "      <td>1000000.000000</td>\n",
       "      <td>1000000.000000</td>\n",
       "      <td>1000000.000000</td>\n",
       "    </tr>\n",
       "    <tr>\n",
       "      <th>mean</th>\n",
       "      <td>0.000402</td>\n",
       "      <td>1.498818</td>\n",
       "      <td>18.502116</td>\n",
       "    </tr>\n",
       "    <tr>\n",
       "      <th>std</th>\n",
       "      <td>0.999407</td>\n",
       "      <td>2.500299</td>\n",
       "      <td>7.792430</td>\n",
       "    </tr>\n",
       "    <tr>\n",
       "      <th>min</th>\n",
       "      <td>-4.538564</td>\n",
       "      <td>-10.616527</td>\n",
       "      <td>5.000001</td>\n",
       "    </tr>\n",
       "    <tr>\n",
       "      <th>25%</th>\n",
       "      <td>-0.674308</td>\n",
       "      <td>-0.184768</td>\n",
       "      <td>11.759177</td>\n",
       "    </tr>\n",
       "    <tr>\n",
       "      <th>50%</th>\n",
       "      <td>0.001428</td>\n",
       "      <td>1.496761</td>\n",
       "      <td>18.499279</td>\n",
       "    </tr>\n",
       "    <tr>\n",
       "      <th>75%</th>\n",
       "      <td>0.674786</td>\n",
       "      <td>3.183592</td>\n",
       "      <td>25.248447</td>\n",
       "    </tr>\n",
       "    <tr>\n",
       "      <th>max</th>\n",
       "      <td>5.009449</td>\n",
       "      <td>13.697234</td>\n",
       "      <td>31.999994</td>\n",
       "    </tr>\n",
       "  </tbody>\n",
       "</table>\n",
       "</div>"
      ],
      "text/plain": [
       "                    A               B               C\n",
       "count  1000000.000000  1000000.000000  1000000.000000\n",
       "mean         0.000402        1.498818       18.502116\n",
       "std          0.999407        2.500299        7.792430\n",
       "min         -4.538564      -10.616527        5.000001\n",
       "25%         -0.674308       -0.184768       11.759177\n",
       "50%          0.001428        1.496761       18.499279\n",
       "75%          0.674786        3.183592       25.248447\n",
       "max          5.009449       13.697234       31.999994"
      ]
     },
     "execution_count": 15,
     "metadata": {},
     "output_type": "execute_result"
    }
   ],
   "source": [
    "data.describe()"
   ]
  },
  {
   "cell_type": "code",
   "execution_count": 16,
   "id": "5c7c2014",
   "metadata": {},
   "outputs": [
    {
     "data": {
      "text/plain": [
       "(array([1.58000e+02, 4.15400e+03, 4.26110e+04, 1.89096e+05, 3.56414e+05,\n",
       "        2.91068e+05, 1.00536e+05, 1.50020e+04, 9.33000e+02, 2.80000e+01]),\n",
       " array([-4.53856378, -3.58376253, -2.62896127, -1.67416001, -0.71935876,\n",
       "         0.2354425 ,  1.19024376,  2.14504502,  3.09984627,  4.05464753,\n",
       "         5.00944879]),\n",
       " <BarContainer object of 10 artists>)"
      ]
     },
     "execution_count": 16,
     "metadata": {},
     "output_type": "execute_result"
    },
    {
     "data": {
      "image/png": "[encoded data removed]",
      "text/plain": [
       "<Figure size 432x288 with 1 Axes>"
      ]
     },
     "metadata": {
      "needs_background": "light"
     },
     "output_type": "display_data"
    }
   ],
   "source": [
    "plt.hist(data['A'])"
   ]
  },
  {
   "cell_type": "code",
   "execution_count": 17,
   "id": "8c652f87",
   "metadata": {},
   "outputs": [
    {
     "data": {
      "text/plain": [
       "(array([5.00000e+01, 1.87400e+03, 2.49670e+04, 1.42584e+05, 3.37438e+05,\n",
       "        3.31703e+05, 1.36512e+05, 2.32290e+04, 1.58400e+03, 5.90000e+01]),\n",
       " array([-10.61652704,  -8.18515091,  -5.75377478,  -3.32239865,\n",
       "         -0.89102252,   1.5403536 ,   3.97172973,   6.40310586,\n",
       "          8.83448199,  11.26585812,  13.69723425]),\n",
       " <BarContainer object of 10 artists>)"
      ]
     },
     "execution_count": 17,
     "metadata": {},
     "output_type": "execute_result"
    },
    {
     "data": {
      "image/png": "[encoded data removed]",
      "text/plain": [
       "<Figure size 432x288 with 1 Axes>"
      ]
     },
     "metadata": {
      "needs_background": "light"
     },
     "output_type": "display_data"
    }
   ],
   "source": [
    "plt.hist(data['B'])"
   ]
  },
  {
   "cell_type": "code",
   "execution_count": 18,
   "id": "4b275332",
   "metadata": {},
   "outputs": [
    {
     "data": {
      "text/plain": [
       "(array([ 99404., 100355., 100168., 100117.,  99983., 100271.,  99754.,\n",
       "         99934.,  99719., 100295.]),\n",
       " array([ 5.00000088,  7.70000017, 10.39999947, 13.09999877, 15.79999807,\n",
       "        18.49999737, 21.19999666, 23.89999596, 26.59999526, 29.29999456,\n",
       "        31.99999386]),\n",
       " <BarContainer object of 10 artists>)"
      ]
     },
     "execution_count": 18,
     "metadata": {},
     "output_type": "execute_result"
    },
    {
     "data": {
      "image/png": "[encoded data removed]",
      "text/plain": [
       "<Figure size 432x288 with 1 Axes>"
      ]
     },
     "metadata": {
      "needs_background": "light"
     },
     "output_type": "display_data"
    }
   ],
   "source": [
    "plt.hist(data['C'])"
   ]
  },
  {
   "cell_type": "code",
   "execution_count": 19,
   "id": "c0cbfc0b-4b76-4288-b6ed-16b4df2cc2f5",
   "metadata": {},
   "outputs": [],
   "source": [
    "data = pd.read_csv(\"../data/customer-churn-model/Customer Churn Model.txt\")"
   ]
  },
  {
   "cell_type": "code",
   "execution_count": 20,
   "id": "b6f41a57-3725-45d5-b41f-14df88ed0f63",
   "metadata": {},
   "outputs": [],
   "source": [
    "colum_names = data.columns.values.tolist()\n"
   ]
  },
  {
   "cell_type": "code",
   "execution_count": 21,
   "id": "1b3b8ecf",
   "metadata": {},
   "outputs": [
    {
     "data": {
      "text/plain": [
       "21"
      ]
     },
     "execution_count": 21,
     "metadata": {},
     "output_type": "execute_result"
    }
   ],
   "source": [
    "a = len(colum_names)\n",
    "a"
   ]
  },
  {
   "cell_type": "markdown",
   "id": "6ee61604-8287-4306-afd3-a08b5405dacb",
   "metadata": {},
   "source": [
    "Creacion de nuevo dataframe a partir de un set de datos, donde unimos las variables dummys random y el dataframe que ya teniamos para crear otro.\n",
    "En este caso vemos que el dataframe tiene un valor de 20 filas es por que leimos **a** que era el de las columnas del dataframe, ahora si queremos que nuestro nuevo dataframe comiense en la el orden "
   ]
  },
  {
   "cell_type": "code",
   "execution_count": 27,
   "id": "63c69e08",
   "metadata": {},
   "outputs": [],
   "source": [
    "new_data = pd.DataFrame(\n",
    "    {\n",
    "        'Column Name': colum_names,\n",
    "        'A': np.random.randn(a),\n",
    "        'B': np.random.uniform(0,1, a),\n",
    "    }, index = range(42, 42+a)\n",
    ")"
   ]
  },
  {
   "cell_type": "code",
   "execution_count": 23,
   "id": "d1584bb5",
   "metadata": {},
   "outputs": [
    {
     "data": {
      "text/html": [
       "<div>\n",
       "<style scoped>\n",
       "    .dataframe tbody tr th:only-of-type {\n",
       "        vertical-align: middle;\n",
       "    }\n",
       "\n",
       "    .dataframe tbody tr th {\n",
       "        vertical-align: top;\n",
       "    }\n",
       "\n",
       "    .dataframe thead th {\n",
       "        text-align: right;\n",
       "    }\n",
       "</style>\n",
       "<table border=\"1\" class=\"dataframe\">\n",
       "  <thead>\n",
       "    <tr style=\"text-align: right;\">\n",
       "      <th></th>\n",
       "      <th>A</th>\n",
       "      <th>B</th>\n",
       "    </tr>\n",
       "  </thead>\n",
       "  <tbody>\n",
       "    <tr>\n",
       "      <th>count</th>\n",
       "      <td>21.000000</td>\n",
       "      <td>21.000000</td>\n",
       "    </tr>\n",
       "    <tr>\n",
       "      <th>mean</th>\n",
       "      <td>-0.145591</td>\n",
       "      <td>0.665724</td>\n",
       "    </tr>\n",
       "    <tr>\n",
       "      <th>std</th>\n",
       "      <td>0.852929</td>\n",
       "      <td>0.308371</td>\n",
       "    </tr>\n",
       "    <tr>\n",
       "      <th>min</th>\n",
       "      <td>-1.524199</td>\n",
       "      <td>0.016972</td>\n",
       "    </tr>\n",
       "    <tr>\n",
       "      <th>25%</th>\n",
       "      <td>-0.602494</td>\n",
       "      <td>0.418869</td>\n",
       "    </tr>\n",
       "    <tr>\n",
       "      <th>50%</th>\n",
       "      <td>-0.163575</td>\n",
       "      <td>0.750219</td>\n",
       "    </tr>\n",
       "    <tr>\n",
       "      <th>75%</th>\n",
       "      <td>0.289569</td>\n",
       "      <td>0.906020</td>\n",
       "    </tr>\n",
       "    <tr>\n",
       "      <th>max</th>\n",
       "      <td>1.890501</td>\n",
       "      <td>0.997509</td>\n",
       "    </tr>\n",
       "  </tbody>\n",
       "</table>\n",
       "</div>"
      ],
      "text/plain": [
       "               A          B\n",
       "count  21.000000  21.000000\n",
       "mean   -0.145591   0.665724\n",
       "std     0.852929   0.308371\n",
       "min    -1.524199   0.016972\n",
       "25%    -0.602494   0.418869\n",
       "50%    -0.163575   0.750219\n",
       "75%     0.289569   0.906020\n",
       "max     1.890501   0.997509"
      ]
     },
     "execution_count": 23,
     "metadata": {},
     "output_type": "execute_result"
    }
   ],
   "source": [
    "new_data.describe()"
   ]
  },
  {
   "cell_type": "code",
   "execution_count": 28,
   "id": "791c7e7d",
   "metadata": {},
   "outputs": [
    {
     "data": {
      "text/html": [
       "<div>\n",
       "<style scoped>\n",
       "    .dataframe tbody tr th:only-of-type {\n",
       "        vertical-align: middle;\n",
       "    }\n",
       "\n",
       "    .dataframe tbody tr th {\n",
       "        vertical-align: top;\n",
       "    }\n",
       "\n",
       "    .dataframe thead th {\n",
       "        text-align: right;\n",
       "    }\n",
       "</style>\n",
       "<table border=\"1\" class=\"dataframe\">\n",
       "  <thead>\n",
       "    <tr style=\"text-align: right;\">\n",
       "      <th></th>\n",
       "      <th>Column Name</th>\n",
       "      <th>A</th>\n",
       "      <th>B</th>\n",
       "    </tr>\n",
       "  </thead>\n",
       "  <tbody>\n",
       "    <tr>\n",
       "      <th>42</th>\n",
       "      <td>State</td>\n",
       "      <td>1.730143</td>\n",
       "      <td>0.040934</td>\n",
       "    </tr>\n",
       "    <tr>\n",
       "      <th>43</th>\n",
       "      <td>Account Length</td>\n",
       "      <td>0.252887</td>\n",
       "      <td>0.227372</td>\n",
       "    </tr>\n",
       "    <tr>\n",
       "      <th>44</th>\n",
       "      <td>Area Code</td>\n",
       "      <td>0.227261</td>\n",
       "      <td>0.061583</td>\n",
       "    </tr>\n",
       "    <tr>\n",
       "      <th>45</th>\n",
       "      <td>Phone</td>\n",
       "      <td>-0.059653</td>\n",
       "      <td>0.940485</td>\n",
       "    </tr>\n",
       "    <tr>\n",
       "      <th>46</th>\n",
       "      <td>Int'l Plan</td>\n",
       "      <td>-0.044763</td>\n",
       "      <td>0.992508</td>\n",
       "    </tr>\n",
       "    <tr>\n",
       "      <th>47</th>\n",
       "      <td>VMail Plan</td>\n",
       "      <td>1.096847</td>\n",
       "      <td>0.977105</td>\n",
       "    </tr>\n",
       "    <tr>\n",
       "      <th>48</th>\n",
       "      <td>VMail Message</td>\n",
       "      <td>-0.215802</td>\n",
       "      <td>0.214080</td>\n",
       "    </tr>\n",
       "    <tr>\n",
       "      <th>49</th>\n",
       "      <td>Day Mins</td>\n",
       "      <td>1.466401</td>\n",
       "      <td>0.810023</td>\n",
       "    </tr>\n",
       "    <tr>\n",
       "      <th>50</th>\n",
       "      <td>Day Calls</td>\n",
       "      <td>1.205467</td>\n",
       "      <td>0.238651</td>\n",
       "    </tr>\n",
       "    <tr>\n",
       "      <th>51</th>\n",
       "      <td>Day Charge</td>\n",
       "      <td>-0.267989</td>\n",
       "      <td>0.377187</td>\n",
       "    </tr>\n",
       "    <tr>\n",
       "      <th>52</th>\n",
       "      <td>Eve Mins</td>\n",
       "      <td>0.684028</td>\n",
       "      <td>0.082821</td>\n",
       "    </tr>\n",
       "    <tr>\n",
       "      <th>53</th>\n",
       "      <td>Eve Calls</td>\n",
       "      <td>-1.257328</td>\n",
       "      <td>0.645121</td>\n",
       "    </tr>\n",
       "    <tr>\n",
       "      <th>54</th>\n",
       "      <td>Eve Charge</td>\n",
       "      <td>0.158614</td>\n",
       "      <td>0.078139</td>\n",
       "    </tr>\n",
       "    <tr>\n",
       "      <th>55</th>\n",
       "      <td>Night Mins</td>\n",
       "      <td>1.006349</td>\n",
       "      <td>0.523810</td>\n",
       "    </tr>\n",
       "    <tr>\n",
       "      <th>56</th>\n",
       "      <td>Night Calls</td>\n",
       "      <td>0.557710</td>\n",
       "      <td>0.430315</td>\n",
       "    </tr>\n",
       "    <tr>\n",
       "      <th>57</th>\n",
       "      <td>Night Charge</td>\n",
       "      <td>-0.470815</td>\n",
       "      <td>0.444112</td>\n",
       "    </tr>\n",
       "    <tr>\n",
       "      <th>58</th>\n",
       "      <td>Intl Mins</td>\n",
       "      <td>-1.679889</td>\n",
       "      <td>0.428928</td>\n",
       "    </tr>\n",
       "    <tr>\n",
       "      <th>59</th>\n",
       "      <td>Intl Calls</td>\n",
       "      <td>0.756991</td>\n",
       "      <td>0.869149</td>\n",
       "    </tr>\n",
       "    <tr>\n",
       "      <th>60</th>\n",
       "      <td>Intl Charge</td>\n",
       "      <td>-0.906330</td>\n",
       "      <td>0.538119</td>\n",
       "    </tr>\n",
       "    <tr>\n",
       "      <th>61</th>\n",
       "      <td>CustServ Calls</td>\n",
       "      <td>-0.586630</td>\n",
       "      <td>0.008260</td>\n",
       "    </tr>\n",
       "    <tr>\n",
       "      <th>62</th>\n",
       "      <td>Churn?</td>\n",
       "      <td>1.925196</td>\n",
       "      <td>0.868770</td>\n",
       "    </tr>\n",
       "  </tbody>\n",
       "</table>\n",
       "</div>"
      ],
      "text/plain": [
       "       Column Name         A         B\n",
       "42           State  1.730143  0.040934\n",
       "43  Account Length  0.252887  0.227372\n",
       "44       Area Code  0.227261  0.061583\n",
       "45           Phone -0.059653  0.940485\n",
       "46      Int'l Plan -0.044763  0.992508\n",
       "47      VMail Plan  1.096847  0.977105\n",
       "48   VMail Message -0.215802  0.214080\n",
       "49        Day Mins  1.466401  0.810023\n",
       "50       Day Calls  1.205467  0.238651\n",
       "51      Day Charge -0.267989  0.377187\n",
       "52        Eve Mins  0.684028  0.082821\n",
       "53       Eve Calls -1.257328  0.645121\n",
       "54      Eve Charge  0.158614  0.078139\n",
       "55      Night Mins  1.006349  0.523810\n",
       "56     Night Calls  0.557710  0.430315\n",
       "57    Night Charge -0.470815  0.444112\n",
       "58       Intl Mins -1.679889  0.428928\n",
       "59      Intl Calls  0.756991  0.869149\n",
       "60     Intl Charge -0.906330  0.538119\n",
       "61  CustServ Calls -0.586630  0.008260\n",
       "62          Churn?  1.925196  0.868770"
      ]
     },
     "execution_count": 28,
     "metadata": {},
     "output_type": "execute_result"
    }
   ],
   "source": [
    "new_data"
   ]
  },
  {
   "cell_type": "markdown",
   "id": "44d9a4d6",
   "metadata": {},
   "source": []
  },
  {
   "cell_type": "code",
   "execution_count": null,
   "id": "313c3dc7-ded1-40a6-ae99-5648b03aa213",
   "metadata": {},
   "outputs": [],
   "source": []
  }
 ],
 "metadata": {
  "interpreter": {
   "hash": "e7370f93d1d0cde622a1f8e1c04877d8463912d04d973331ad4851f04de6915a"
  },
  "kernelspec": {
   "display_name": "Python 3",
   "language": "python",
   "name": "python3"
  },
  "language_info": {
   "codemirror_mode": {
    "name": "ipython",
    "version": 3
   },
   "file_extension": ".py",
   "mimetype": "text/x-python",
   "name": "python",
   "nbconvert_exporter": "python",
   "pygments_lexer": "ipython3",
   "version": "3.10.4"
  },
  "toc-showmarkdowntxt": true,
  "toc-showtags": false
 },
 "nbformat": 4,
 "nbformat_minor": 5
}
