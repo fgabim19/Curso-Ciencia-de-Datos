{
 "cells": [
  {
   "cell_type": "markdown",
   "id": "fa1e08ae",
   "metadata": {},
   "source": [
    "<h1>Carga de datos a travez de la funcion read_csv</h1>"
   ]
  },
  {
   "cell_type": "code",
   "execution_count": null,
   "id": "663387b6",
   "metadata": {},
   "outputs": [],
   "source": [
    "import pandas as pd\n",
    "import os"
   ]
  },
  {
   "cell_type": "code",
   "execution_count": null,
   "id": "1dfa673b",
   "metadata": {},
   "outputs": [],
   "source": [
    "mainpath = r\"C:\\Users\\fgmol\\curso-data-science\\datasets\"\n",
    "filename = \"titanic\\\\titanic3.csv\"\n",
    "fullpath = os.path.join(mainpath, filename)\n",
    "print(fullpath)\n"
   ]
  },
  {
   "cell_type": "code",
   "execution_count": null,
   "id": "c16bdabc",
   "metadata": {},
   "outputs": [],
   "source": [
    "data = pd.read_csv(fullpath)"
   ]
  },
  {
   "cell_type": "code",
   "execution_count": null,
   "id": "18e9a0c5",
   "metadata": {},
   "outputs": [],
   "source": [
    "#data = pd.read_csv(filepath_or_buffer = r\"..\\\\datasets\\titanic\\titanic3.csv\")"
   ]
  },
  {
   "cell_type": "code",
   "execution_count": null,
   "id": "aef091c1",
   "metadata": {},
   "outputs": [],
   "source": [
    "data.head()"
   ]
  },
  {
   "cell_type": "code",
   "execution_count": null,
   "id": "2e22986b",
   "metadata": {},
   "outputs": [],
   "source": [
    "data2 = pd.read_csv(mainpath + '\\\\' + 'customer-churn-model\\\\Customer Churn Model.txt')"
   ]
  },
  {
   "cell_type": "code",
   "execution_count": null,
   "id": "b4c34568",
   "metadata": {},
   "outputs": [],
   "source": [
    "data2.head()"
   ]
  },
  {
   "cell_type": "code",
   "execution_count": null,
   "id": "c9adf52a",
   "metadata": {},
   "outputs": [],
   "source": [
    "data2.columns.values"
   ]
  },
  {
   "cell_type": "code",
   "execution_count": null,
   "id": "436bb7d0",
   "metadata": {},
   "outputs": [],
   "source": [
    "data_cols = pd.read_csv(mainpath + '\\\\' + 'customer-churn-model\\\\Customer Churn Columns.csv')\n",
    "data_col_list = data_cols['Column_Names'].tolist()\n",
    "data_col_list\n",
    "data2 = pd.read_csv(mainpath + '\\\\' + 'customer-churn-model\\\\Customer Churn Model.txt', header = None, names = data_col_list)\n",
    "data2.columns.values"
   ]
  },
  {
   "cell_type": "markdown",
   "id": "8d005b43",
   "metadata": {},
   "source": [
    "<h1>Carga de datos a través de la función open</h1>\n",
    "\n",
    "<p>Open es una funcion de python que lo que hace es leer el fichero de a trosos, a diferencia de pandas que lee de forma completa y conlleva un consumo de ram mmucho mayor.</p>"
   ]
  },
  {
   "cell_type": "code",
   "execution_count": null,
   "id": "a53e4d89",
   "metadata": {},
   "outputs": [],
   "source": [
    "fullpath2 = mainpath + \"\\\\\" + \"customer-churn-model\\\\Customer Churn Model.txt\"\n",
    "print(fullpath2)\n",
    "data3 = open(fullpath2, \"r\")\n"
   ]
  },
  {
   "cell_type": "code",
   "execution_count": null,
   "id": "98b4989e",
   "metadata": {},
   "outputs": [],
   "source": [
    "cols = data3.readline().strip().split(\",\")\n",
    "n_cols = len(cols)"
   ]
  },
  {
   "cell_type": "markdown",
   "id": "3bde22ad",
   "metadata": {},
   "source": [
    "<div>\n",
    "<li>Con el realine() solo se lee una sola linea.\n",
    "<li>Con strip() se eliminan los espacio en blanco entre cadenas.\n",
    "<li>Con split(\" \") estable el delimitador que se usara.\n",
    "</div>"
   ]
  },
  {
   "cell_type": "code",
   "execution_count": null,
   "id": "dca09cef",
   "metadata": {},
   "outputs": [],
   "source": [
    "counter = 0\n",
    "main_dict = {}\n",
    "for col in cols:\n",
    "    main_dict[col] = []"
   ]
  },
  {
   "cell_type": "code",
   "execution_count": null,
   "id": "344278a2",
   "metadata": {},
   "outputs": [],
   "source": [
    "for line in data3:\n",
    "    values = line.strip().split(\",\")\n",
    "    for i in range(n_cols):\n",
    "        main_dict[cols[i]].append(values[i])\n",
    "    counter += 1\n",
    "\n",
    "print(f\"El data set tiene {counter} filas y {n_cols} columnas\")"
   ]
  },
  {
   "cell_type": "code",
   "execution_count": null,
   "id": "a01f22da",
   "metadata": {},
   "outputs": [],
   "source": [
    "df3 = pd.DataFrame(main_dict)\n",
    "df3.head()"
   ]
  },
  {
   "cell_type": "markdown",
   "id": "1eb695fe",
   "metadata": {},
   "source": [
    "# Lectura y Esctitura de Ficheros"
   ]
  },
  {
   "cell_type": "code",
   "execution_count": null,
   "id": "58a00b20",
   "metadata": {},
   "outputs": [],
   "source": [
    "infile = mainpath + \"\\\\\" + \"customer-churn-model\\\\Customer Churn Model.txt\"\n",
    "outfile = mainpath + \"\\\\\" + \"customer-churn-model\\\\Tab Customer Churn Model.txt\""
   ]
  },
  {
   "cell_type": "code",
   "execution_count": null,
   "id": "b312e7d6",
   "metadata": {},
   "outputs": [],
   "source": [
    "with open(infile, \"r\") as infile1:\n",
    "    with open(outfile, \"w\") as outfile1:\n",
    "        for line in infile1:\n",
    "            fileds = line.strip().split(\",\")\n",
    "            outfile1.write(\"\\t\".join(fileds) + \"\\n\")"
   ]
  },
  {
   "cell_type": "markdown",
   "id": "bf0b031e",
   "metadata": {},
   "source": [
    "<p>\n",
    "Lo que se hizo aqui es, cuando se lee un fichero de entrada(infile), se escribira uno de salida(outfile)\n",
    "para cada linea que se lea, se escribira otra con un \\t que es equivalente a un TAB.\n",
    "El archivo puede verse y el nombre es el mismo pero con Tab al comienzo.\n",
    "</p>"
   ]
  },
  {
   "cell_type": "code",
   "execution_count": null,
   "id": "67cbd8ed",
   "metadata": {},
   "outputs": [],
   "source": [
    "df4 = pd.read_csv(outfile, sep = \"\\t\")\n",
    "df4.head()"
   ]
  },
  {
   "cell_type": "markdown",
   "id": "584ffc95",
   "metadata": {},
   "source": [
    "# Leer datos de una URL"
   ]
  },
  {
   "cell_type": "code",
   "execution_count": null,
   "id": "def84930",
   "metadata": {},
   "outputs": [],
   "source": [
    "medals_url = \"https://raw.githubusercontent.com/joanby/python-ml-course/master/datasets/athletes/downloaded_medals.csv\"\t"
   ]
  },
  {
   "cell_type": "code",
   "execution_count": null,
   "id": "6f5341c9",
   "metadata": {},
   "outputs": [],
   "source": [
    "medals_data = pd.read_csv(medals_url)\n",
    "medals_data.head()"
   ]
  },
  {
   "cell_type": "code",
   "execution_count": null,
   "id": "ecde3637",
   "metadata": {},
   "outputs": [],
   "source": [
    "import csv\n",
    "import urllib3\n",
    "response = urllib3.PoolManager().request('GET', medals_url)\n",
    "response_csv = csv.reader(response.data.decode('utf-8').split('\\n'))\n",
    "#response_csv.__next__()\n",
    "# se puede usar el metodo next() de la clase csv.reader como en el ejemplo anterior o como se muestra a continuacion.\n",
    "medals_cols = next(response_csv)\n",
    "medals_n_cols = len(medals_cols)\n",
    "print(medals_cols)\n",
    "print(medals_n_cols)\n",
    "\n"
   ]
  },
  {
   "cell_type": "code",
   "execution_count": null,
   "id": "87285605",
   "metadata": {},
   "outputs": [],
   "source": [
    "counter_medals = 0\n",
    "medals_dist = {}\n",
    "for col in medals_cols:\n",
    "    medals_dist[col] = []\n"
   ]
  },
  {
   "cell_type": "code",
   "execution_count": null,
   "id": "3b5c0d70",
   "metadata": {},
   "outputs": [],
   "source": [
    "    \n",
    "for line in response_csv:\n",
    "    for i in range(medals_n_cols):\n",
    "        medals_dist[medals_cols[i]].append(line[i])\n",
    "    counter_medals += 1\n",
    "\n",
    "print(f\"El data set tiene {counter_medals} filas y {medals_n_cols} columnas\")"
   ]
  },
  {
   "cell_type": "code",
   "execution_count": null,
   "id": "e6aaf6f9",
   "metadata": {},
   "outputs": [],
   "source": [
    "df5 = pd.DataFrame(medals_dist)\n",
    "df5.head()"
   ]
  }
 ],
 "metadata": {
  "kernelspec": {
   "display_name": "Python 3 (ipykernel)",
   "language": "python",
   "name": "python3"
  },
  "language_info": {
   "codemirror_mode": {
    "name": "ipython",
    "version": 3
   },
   "file_extension": ".py",
   "mimetype": "text/x-python",
   "name": "python",
   "nbconvert_exporter": "python",
   "pygments_lexer": "ipython3",
   "version": "3.9.7"
  }
 },
 "nbformat": 4,
 "nbformat_minor": 5
}
