{
  "nbformat": 4,
  "nbformat_minor": 0,
  "metadata": {
    "colab": {
      "name": "A0_introduccion_pytorch.ipynb",
      "private_outputs": true,
      "provenance": [],
      "authorship_tag": "ABX9TyM1Ybx5u3Z32/O8+GLkNy54",
      "include_colab_link": true
    },
    "kernelspec": {
      "name": "python3",
      "display_name": "Python 3"
    },
    "language_info": {
      "name": "python"
    }
  },
  "cells": [
    {
      "cell_type": "markdown",
      "metadata": {
        "id": "view-in-github",
        "colab_type": "text"
      },
      "source": [
        "<a href=\"https://colab.research.google.com/github/fgabim19/Curso-Ciencia-de-Datos/blob/main/A0_introduccion_pytorch.ipynb\" target=\"_parent\"><img src=\"https://colab.research.google.com/assets/colab-badge.svg\" alt=\"Open In Colab\"/></a>"
      ]
    },
    {
      "cell_type": "code",
      "execution_count": null,
      "metadata": {
        "id": "MAgBwKk3tGAR"
      },
      "outputs": [],
      "source": [
        "import numpy as np\n",
        "import matplotlib.pyplot as plt\n",
        "%matplotlib inline\n",
        "import torch"
      ]
    },
    {
      "cell_type": "markdown",
      "source": [
        "`torch.arrange()` lo que hace es crear una clase tensor para un arreglo que va desde sero hasta el numero que especifiquemos."
      ],
      "metadata": {
        "id": "TtIwiBU3xGrH"
      }
    },
    {
      "cell_type": "code",
      "source": [
        "x = torch.arange(12)\n",
        "x"
      ],
      "metadata": {
        "id": "v_zxAfVEtlCU"
      },
      "execution_count": null,
      "outputs": []
    },
    {
      "cell_type": "markdown",
      "source": [
        "Para saber las dimensiones de la variable utilizamos `.shape`.<br> Al ser un vector de 12x1."
      ],
      "metadata": {
        "id": "QvLOpibdxFGI"
      }
    },
    {
      "cell_type": "code",
      "source": [
        "x.shape"
      ],
      "metadata": {
        "id": "JUDM3qSLxVX-"
      },
      "execution_count": null,
      "outputs": []
    },
    {
      "cell_type": "markdown",
      "source": [
        "`.numel()` para saber cantidad de elementos del vector."
      ],
      "metadata": {
        "id": "S2tF4X5XyFx9"
      }
    },
    {
      "cell_type": "code",
      "source": [
        "x.numel()"
      ],
      "metadata": {
        "id": "0BltSdMaxzqO"
      },
      "execution_count": null,
      "outputs": []
    },
    {
      "cell_type": "markdown",
      "source": [
        "`.reshape(n, m)` Si queremos reformar el vector para que tenga **n** filas y **m** columna.<br>\n",
        "Si queremos tener 4 filas y no nos interesa el numero de columnas, ponemos `.reshape(4, -1)`"
      ],
      "metadata": {
        "id": "Y_CXZzyNybiU"
      }
    },
    {
      "cell_type": "code",
      "source": [
        "x = x.reshape(3, 4)\n",
        "x"
      ],
      "metadata": {
        "id": "nFb4WBCfyTYV"
      },
      "execution_count": null,
      "outputs": []
    },
    {
      "cell_type": "code",
      "source": [
        "x = x.reshape(4, -1)\n",
        "x"
      ],
      "metadata": {
        "id": "DiubJOdjytBB"
      },
      "execution_count": null,
      "outputs": []
    },
    {
      "cell_type": "markdown",
      "source": [
        "Muchas veces no tenenmos los datos y queremos generar la estructura del tensor, para eso usamos `torch.zeros()` o `torch.ones()`, en lo que le especificamos como seria el tensor.<br>\n",
        "En el caso que se muestra es un tensor de grado 2, donde se tiene dos matrices de 3x4, siendo las matrices como las capas."
      ],
      "metadata": {
        "id": "hige1CV00EBP"
      }
    },
    {
      "cell_type": "code",
      "source": [
        "torch.zeros((2, 3, 4))"
      ],
      "metadata": {
        "id": "GV6RGfZ00Sjx"
      },
      "execution_count": null,
      "outputs": []
    },
    {
      "cell_type": "code",
      "source": [
        "torch.ones((2,3,4))"
      ],
      "metadata": {
        "id": "KteWeMjp0YI4"
      },
      "execution_count": null,
      "outputs": []
    },
    {
      "cell_type": "markdown",
      "source": [
        "tambien podemos poner aleatorios desde una distribucion Normal"
      ],
      "metadata": {
        "id": "_9L3mgGs1COj"
      }
    },
    {
      "cell_type": "code",
      "source": [
        "torch.randn(3,4)"
      ],
      "metadata": {
        "id": "9VEo3k6101-8"
      },
      "execution_count": null,
      "outputs": []
    },
    {
      "cell_type": "markdown",
      "source": [
        "Si queremos ponerlos uno por uno los valores de los elementos."
      ],
      "metadata": {
        "id": "IhDsxAwg1PoV"
      }
    },
    {
      "cell_type": "code",
      "source": [
        "torch.tensor([[2, 1, 3, 4], [1, 4, 4, 5], [4, 7, 4, 5]])"
      ],
      "metadata": {
        "id": "88dmLdsB1A66"
      },
      "execution_count": null,
      "outputs": []
    },
    {
      "cell_type": "markdown",
      "source": [
        "### Operaciones"
      ],
      "metadata": {
        "id": "ahvH2Qb91-L1"
      }
    },
    {
      "cell_type": "code",
      "source": [
        "x = torch.tensor([1, 2, 4, 7])\n",
        "y = torch.tensor([2, 2, 3, 5])\n"
      ],
      "metadata": {
        "id": "CsaNjdU_1lJH"
      },
      "execution_count": null,
      "outputs": []
    },
    {
      "cell_type": "markdown",
      "source": [
        "operaciones elemento a elemento."
      ],
      "metadata": {
        "id": "t-wLmAkp2bU0"
      }
    },
    {
      "cell_type": "code",
      "source": [
        "x + y, x - y, x * y, x/y, x**y"
      ],
      "metadata": {
        "id": "bWfw43Zy2YjI"
      },
      "execution_count": null,
      "outputs": []
    },
    {
      "cell_type": "markdown",
      "source": [
        "operaciones matriciales."
      ],
      "metadata": {
        "id": "pJ8M7SBf2s-O"
      }
    },
    {
      "cell_type": "code",
      "source": [
        "torch.dot(x,y)   # producto escalar"
      ],
      "metadata": {
        "id": "Nwqovoig2pHN"
      },
      "execution_count": null,
      "outputs": []
    },
    {
      "cell_type": "code",
      "source": [
        "torch.exp(x)"
      ],
      "metadata": {
        "id": "qpDyBvV821cn"
      },
      "execution_count": null,
      "outputs": []
    },
    {
      "cell_type": "markdown",
      "source": [
        "## Brocasting"
      ],
      "metadata": {
        "id": "h7Y1uhnM3R31"
      }
    },
    {
      "cell_type": "markdown",
      "source": [
        "Que pasa si queremos sumar cosas que no tengan las mismas dimensiones, en general esto no se podria, pero lo que hace el sistema es tomar el primer elemento de la fila y sumarlo a toda la columna.<br>\n",
        "Esto es lo que se denomina **Brocasting**"
      ],
      "metadata": {
        "id": "zQaDyVEH4FHg"
      }
    },
    {
      "cell_type": "code",
      "source": [
        "a = torch.arange(3).reshape((3,1))\n",
        "b = torch.arange(2).reshape((1,2))\n",
        "a, b"
      ],
      "metadata": {
        "id": "jW9f4zpQ3BIv"
      },
      "execution_count": null,
      "outputs": []
    },
    {
      "cell_type": "code",
      "source": [
        "a + b"
      ],
      "metadata": {
        "id": "a4d1eQBs4dSC"
      },
      "execution_count": null,
      "outputs": []
    },
    {
      "cell_type": "code",
      "source": [
        "a + 5"
      ],
      "metadata": {
        "id": "MAv0KP0y4vGY"
      },
      "execution_count": null,
      "outputs": []
    },
    {
      "cell_type": "markdown",
      "source": [
        "## Indices\n",
        "Podemos utizar pedazos de un tensor, por ejemplo `[-1]` si queremos el ultimo fila, o un rango `[1:3]`"
      ],
      "metadata": {
        "id": "pUJ-Znha5cLD"
      }
    },
    {
      "cell_type": "code",
      "source": [
        "X = torch.arange(12).reshape(4,3)"
      ],
      "metadata": {
        "id": "N8YM8iK35M8Y"
      },
      "execution_count": null,
      "outputs": []
    },
    {
      "cell_type": "code",
      "source": [
        "X[-1], X[1:3]"
      ],
      "metadata": {
        "id": "R4pD04iG6520"
      },
      "execution_count": null,
      "outputs": []
    },
    {
      "cell_type": "code",
      "source": [
        "X[1:3] = 9\n",
        "X"
      ],
      "metadata": {
        "id": "uOzn5WjR52oh"
      },
      "execution_count": null,
      "outputs": []
    },
    {
      "cell_type": "code",
      "source": [
        "X[0:2 ,1:]=12\n",
        "X"
      ],
      "metadata": {
        "id": "VUxbJpF66Oxy"
      },
      "execution_count": null,
      "outputs": []
    },
    {
      "cell_type": "markdown",
      "source": [
        "## Guardado en Memoria\n",
        "Pasa que el lugar asignado para guardad una variable no es eredado por la demas operaciones que se le realizan a esa variable entonces quedaran variables que no son utilizadas por el sistema ocupando memoria.\n",
        "En el ejemplo podemos ver que la variable y con la funcion `id()` vemos el lugar en memoria que ocupa y en este caso no es igual luego de sumar otro tensor."
      ],
      "metadata": {
        "id": "mGxpvYFTHKkN"
      }
    },
    {
      "cell_type": "code",
      "source": [
        "before = id(y)\n",
        "y = y + x\n",
        "id(y)==before"
      ],
      "metadata": {
        "id": "fQrlH1JW6cKW"
      },
      "execution_count": null,
      "outputs": []
    },
    {
      "cell_type": "code",
      "source": [
        "#Solucion\n",
        "Z = torch.zeros_like(y)\n",
        "print(\"id(Z):\", id(Z))\n",
        "Z[:] = x + y\n",
        "print(\"id(Z):\", id(Z))"
      ],
      "metadata": {
        "id": "Oe4KIwsTHiup"
      },
      "execution_count": null,
      "outputs": []
    },
    {
      "cell_type": "code",
      "source": [
        "# Solucion 2 utilizando +=\n",
        "before = id(x)\n",
        "x += y\n",
        "id(x) == before"
      ],
      "metadata": {
        "id": "RV0tpsEBIxzG"
      },
      "execution_count": null,
      "outputs": []
    },
    {
      "cell_type": "markdown",
      "source": [
        "## Conversion a otros objetos\n",
        "Para trabajar en otros modelos, puede que sea necesario tranformar a otros tipos de objetos."
      ],
      "metadata": {
        "id": "OSoIoeYcJj81"
      }
    },
    {
      "cell_type": "code",
      "source": [
        "A = X.numpy()\n",
        "B = torch.tensor(A)\n",
        "type(A), type(B)"
      ],
      "metadata": {
        "id": "meTzangNJS17"
      },
      "execution_count": null,
      "outputs": []
    },
    {
      "cell_type": "markdown",
      "source": [
        "podemos extraer los elementos de un tensor y que este siga siendo un objeto tensor o que pierda esa propiedad."
      ],
      "metadata": {
        "id": "1Jg_bCCDKU5s"
      }
    },
    {
      "cell_type": "code",
      "source": [
        "# elemtos de un tensor\n",
        "a = torch.tensor([3.5])\n",
        "a, a.item(), float(a), int(a)"
      ],
      "metadata": {
        "id": "noix0FqEJ13g"
      },
      "execution_count": null,
      "outputs": []
    },
    {
      "cell_type": "markdown",
      "source": [
        "## Diferenciacion Automatica\n",
        "![image.png](data:image/png;base64,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)"
      ],
      "metadata": {
        "id": "adX7ntCNKvtf"
      }
    },
    {
      "cell_type": "markdown",
      "source": [
        "La forma en que deriva **Pytorch** es utilizando grafos computacionales, cada nodo es una operacion, las variables van a ser tensores que van a ir moviendose a lo largo de grafo.\n",
        "Cuando se va a hacia adelante se llama **Forward**, donde se va a ir calculando los valores de las operaciones.\n",
        "Cuando se va a hacia atras se llama **Backward**, donde se va a hacer la derivada parcial respecto a las entradas que tenia el nodo.\n",
        "Los resultados de las derivadas parciales se guardan en un parametro especial que tiene los tensores que se llama **grad**, entonces dentro de los tensores se tiene un atributo **grad** donde se guardan las derivadas.\n"
      ],
      "metadata": {
        "id": "z9ykZRQO6nNv"
      }
    },
    {
      "cell_type": "code",
      "source": [
        "x = torch.arange(4.0)\n",
        "x"
      ],
      "metadata": {
        "id": "R-HTQWedKRX0"
      },
      "execution_count": null,
      "outputs": []
    },
    {
      "cell_type": "markdown",
      "source": [
        "activamos el atributo grad."
      ],
      "metadata": {
        "id": "bqztvOSJ9Wyc"
      }
    },
    {
      "cell_type": "code",
      "source": [
        "x.requires_grad_(True)\n",
        "x.grad"
      ],
      "metadata": {
        "id": "NuCWZhI9eV3y"
      },
      "execution_count": null,
      "outputs": []
    },
    {
      "cell_type": "code",
      "source": [
        "y = 2 * torch.dot(x, x)\n",
        "y "
      ],
      "metadata": {
        "id": "3H2N7VdKef_y"
      },
      "execution_count": null,
      "outputs": []
    },
    {
      "cell_type": "markdown",
      "source": [
        "El metodo para derivar en pytorch se llama `backward()`. Lo que hace `backward()` es derivar el nodo respecto a la variable y el atributo lo guarda en x que es la hoja del grad."
      ],
      "metadata": {
        "id": "EcjOoiAV4jj3"
      }
    },
    {
      "cell_type": "code",
      "source": [
        "y.backward()\n",
        "x.grad"
      ],
      "metadata": {
        "id": "D5bJUW4tevjh"
      },
      "execution_count": null,
      "outputs": []
    },
    {
      "cell_type": "code",
      "source": [
        "x.grad == 4 * x"
      ],
      "metadata": {
        "id": "ONJ6k-nhe6vR"
      },
      "execution_count": null,
      "outputs": []
    },
    {
      "cell_type": "code",
      "source": [
        "x.grad.zero_()\n",
        "y = x.sum()\n",
        "y.backward()\n",
        "x.grad"
      ],
      "metadata": {
        "id": "zPfyaD4kfYjM"
      },
      "execution_count": null,
      "outputs": []
    },
    {
      "cell_type": "markdown",
      "source": [
        "algo un poquito mas complicado"
      ],
      "metadata": {
        "id": "nJHqSRz7-hF4"
      }
    },
    {
      "cell_type": "code",
      "source": [
        "def f(a):\n",
        "    b = a * 2\n",
        "    while b.norm() < 1000:\n",
        "        b = b * 2\n",
        "    if b.sum() > 0:\n",
        "        c = b\n",
        "    else:\n",
        "        c = 100 * b\n",
        "    return c\n"
      ],
      "metadata": {
        "id": "tk0Oki8ffjpK"
      },
      "execution_count": null,
      "outputs": []
    },
    {
      "cell_type": "code",
      "source": [
        "a = torch.randn(size=(), requires_grad=True)\n",
        "d = f(a)\n",
        "d.backward()\n"
      ],
      "metadata": {
        "id": "d7O8Afm5-GT_"
      },
      "execution_count": null,
      "outputs": []
    },
    {
      "cell_type": "code",
      "source": [
        "a.grad == d/a"
      ],
      "metadata": {
        "id": "u-GxSZ4Q-Zhn"
      },
      "execution_count": null,
      "outputs": []
    },
    {
      "cell_type": "code",
      "source": [
        ""
      ],
      "metadata": {
        "id": "3adeQUca-d33"
      },
      "execution_count": null,
      "outputs": []
    }
  ]
}