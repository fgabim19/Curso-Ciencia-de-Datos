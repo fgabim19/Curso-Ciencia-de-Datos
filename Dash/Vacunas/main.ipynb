{
 "cells": [
  {
   "cell_type": "code",
   "execution_count": 1,
   "metadata": {},
   "outputs": [
    {
     "ename": "ImportError",
     "evalue": "cannot import name 'get_current_traceback' from 'werkzeug.debug.tbtools' (c:\\Users\\fgmol\\anaconda3\\envs\\DataScience\\lib\\site-packages\\werkzeug\\debug\\tbtools.py)",
     "output_type": "error",
     "traceback": [
      "\u001b[1;31m---------------------------------------------------------------------------\u001b[0m",
      "\u001b[1;31mImportError\u001b[0m                               Traceback (most recent call last)",
      "Cell \u001b[1;32mIn[1], line 4\u001b[0m\n\u001b[0;32m      2\u001b[0m \u001b[39mimport\u001b[39;00m \u001b[39mnumpy\u001b[39;00m \u001b[39mas\u001b[39;00m \u001b[39mnp\u001b[39;00m\n\u001b[0;32m      3\u001b[0m \u001b[39mimport\u001b[39;00m \u001b[39mplotly\u001b[39;00m\u001b[39m.\u001b[39;00m\u001b[39mexpress\u001b[39;00m \u001b[39mas\u001b[39;00m \u001b[39mpx\u001b[39;00m\n\u001b[1;32m----> 4\u001b[0m \u001b[39mimport\u001b[39;00m \u001b[39mdash\u001b[39;00m\n\u001b[0;32m      5\u001b[0m \u001b[39mimport\u001b[39;00m \u001b[39mdash_core_components\u001b[39;00m \u001b[39mas\u001b[39;00m \u001b[39mdcc\u001b[39;00m\n\u001b[0;32m      6\u001b[0m \u001b[39mimport\u001b[39;00m \u001b[39mdash_html_components\u001b[39;00m \u001b[39mas\u001b[39;00m \u001b[39mhtml\u001b[39;00m\n",
      "File \u001b[1;32mc:\\Users\\fgmol\\anaconda3\\envs\\DataScience\\lib\\site-packages\\dash\\__init__.py:5\u001b[0m\n\u001b[0;32m      1\u001b[0m \u001b[39m# pylint: disable=C0413\u001b[39;00m\n\u001b[0;32m      2\u001b[0m \u001b[39m# __plotly_dash is for the \"make sure you don't have a dash.py\" check\u001b[39;00m\n\u001b[0;32m      3\u001b[0m \u001b[39m# must come before any other imports.\u001b[39;00m\n\u001b[0;32m      4\u001b[0m __plotly_dash \u001b[39m=\u001b[39m \u001b[39mTrue\u001b[39;00m\n\u001b[1;32m----> 5\u001b[0m \u001b[39mfrom\u001b[39;00m \u001b[39m.\u001b[39;00m\u001b[39mdash\u001b[39;00m \u001b[39mimport\u001b[39;00m Dash, no_update  \u001b[39m# noqa: F401,E402\u001b[39;00m\n\u001b[0;32m      6\u001b[0m \u001b[39mfrom\u001b[39;00m \u001b[39m.\u001b[39;00m\u001b[39mdependencies\u001b[39;00m \u001b[39mimport\u001b[39;00m (  \u001b[39m# noqa: F401,E402\u001b[39;00m\n\u001b[0;32m      7\u001b[0m     Input,  \u001b[39m# noqa: F401,E402\u001b[39;00m\n\u001b[0;32m      8\u001b[0m     Output,  \u001b[39m# noqa: F401,E402\u001b[39;00m\n\u001b[1;32m   (...)\u001b[0m\n\u001b[0;32m     13\u001b[0m     ALLSMALLER,  \u001b[39m# noqa: F401,E402\u001b[39;00m\n\u001b[0;32m     14\u001b[0m )  \u001b[39m# noqa: F401,E402\u001b[39;00m\n\u001b[0;32m     15\u001b[0m \u001b[39mfrom\u001b[39;00m \u001b[39m.\u001b[39;00m \u001b[39mimport\u001b[39;00m development  \u001b[39m# noqa: F401,E402\u001b[39;00m\n",
      "File \u001b[1;32mc:\\Users\\fgmol\\anaconda3\\envs\\DataScience\\lib\\site-packages\\dash\\dash.py:18\u001b[0m\n\u001b[0;32m     16\u001b[0m \u001b[39mimport\u001b[39;00m \u001b[39mflask\u001b[39;00m\n\u001b[0;32m     17\u001b[0m \u001b[39mfrom\u001b[39;00m \u001b[39mflask_compress\u001b[39;00m \u001b[39mimport\u001b[39;00m Compress\n\u001b[1;32m---> 18\u001b[0m \u001b[39mfrom\u001b[39;00m \u001b[39mwerkzeug\u001b[39;00m\u001b[39m.\u001b[39;00m\u001b[39mdebug\u001b[39;00m\u001b[39m.\u001b[39;00m\u001b[39mtbtools\u001b[39;00m \u001b[39mimport\u001b[39;00m get_current_traceback\n\u001b[0;32m     19\u001b[0m \u001b[39mfrom\u001b[39;00m \u001b[39mpkg_resources\u001b[39;00m \u001b[39mimport\u001b[39;00m get_distribution, parse_version\n\u001b[0;32m     20\u001b[0m \u001b[39mfrom\u001b[39;00m \u001b[39mdash\u001b[39;00m \u001b[39mimport\u001b[39;00m dcc\n",
      "\u001b[1;31mImportError\u001b[0m: cannot import name 'get_current_traceback' from 'werkzeug.debug.tbtools' (c:\\Users\\fgmol\\anaconda3\\envs\\DataScience\\lib\\site-packages\\werkzeug\\debug\\tbtools.py)"
     ]
    }
   ],
   "source": [
    "import pandas as pd\n",
    "import numpy as np\n",
    "import plotly.express as px\n",
    "import dash\n",
    "import dash_core_components as dcc\n",
    "import dash_html_components as html\n",
    "from dash.dependencies import Input, Output, State"
   ]
  },
  {
   "cell_type": "code",
   "execution_count": 3,
   "metadata": {},
   "outputs": [
    {
     "data": {
      "text/html": [
       "<div>\n",
       "<style scoped>\n",
       "    .dataframe tbody tr th:only-of-type {\n",
       "        vertical-align: middle;\n",
       "    }\n",
       "\n",
       "    .dataframe tbody tr th {\n",
       "        vertical-align: top;\n",
       "    }\n",
       "\n",
       "    .dataframe thead th {\n",
       "        text-align: right;\n",
       "    }\n",
       "</style>\n",
       "<table border=\"1\" class=\"dataframe\">\n",
       "  <thead>\n",
       "    <tr style=\"text-align: right;\">\n",
       "      <th></th>\n",
       "      <th>jurisdiccion_codigo_indec</th>\n",
       "      <th>jurisdiccion_nombre</th>\n",
       "      <th>vacuna_nombre</th>\n",
       "      <th>dosis_unica_cantidad</th>\n",
       "      <th>primera_dosis_cantidad</th>\n",
       "      <th>segunda_dosis_cantidad</th>\n",
       "      <th>dosis_adicional_cantidad</th>\n",
       "      <th>dosis_refuerzo_cantidad</th>\n",
       "    </tr>\n",
       "  </thead>\n",
       "  <tbody>\n",
       "    <tr>\n",
       "      <th>0</th>\n",
       "      <td>6</td>\n",
       "      <td>Buenos Aires</td>\n",
       "      <td>AstraZeneca ChAdOx1 S recombinante</td>\n",
       "      <td>0</td>\n",
       "      <td>3648423</td>\n",
       "      <td>4022410</td>\n",
       "      <td>832867</td>\n",
       "      <td>1121164</td>\n",
       "    </tr>\n",
       "    <tr>\n",
       "      <th>1</th>\n",
       "      <td>6</td>\n",
       "      <td>Buenos Aires</td>\n",
       "      <td>COVISHIELD ChAdOx1nCoV COVID 19</td>\n",
       "      <td>0</td>\n",
       "      <td>251406</td>\n",
       "      <td>382</td>\n",
       "      <td>0</td>\n",
       "      <td>0</td>\n",
       "    </tr>\n",
       "    <tr>\n",
       "      <th>2</th>\n",
       "      <td>6</td>\n",
       "      <td>Buenos Aires</td>\n",
       "      <td>Cansino Ad5 nCoV</td>\n",
       "      <td>90304</td>\n",
       "      <td>0</td>\n",
       "      <td>7732</td>\n",
       "      <td>1530</td>\n",
       "      <td>110358</td>\n",
       "    </tr>\n",
       "    <tr>\n",
       "      <th>3</th>\n",
       "      <td>6</td>\n",
       "      <td>Buenos Aires</td>\n",
       "      <td>Moderna 010 mg mL</td>\n",
       "      <td>0</td>\n",
       "      <td>40762</td>\n",
       "      <td>16842</td>\n",
       "      <td>0</td>\n",
       "      <td>84527</td>\n",
       "    </tr>\n",
       "    <tr>\n",
       "      <th>4</th>\n",
       "      <td>6</td>\n",
       "      <td>Buenos Aires</td>\n",
       "      <td>Moderna ARNm 020 mg mL</td>\n",
       "      <td>0</td>\n",
       "      <td>425932</td>\n",
       "      <td>1262214</td>\n",
       "      <td>3185</td>\n",
       "      <td>4482287</td>\n",
       "    </tr>\n",
       "  </tbody>\n",
       "</table>\n",
       "</div>"
      ],
      "text/plain": [
       "   jurisdiccion_codigo_indec jurisdiccion_nombre  \\\n",
       "0                          6        Buenos Aires   \n",
       "1                          6        Buenos Aires   \n",
       "2                          6        Buenos Aires   \n",
       "3                          6        Buenos Aires   \n",
       "4                          6        Buenos Aires   \n",
       "\n",
       "                        vacuna_nombre  dosis_unica_cantidad  \\\n",
       "0  AstraZeneca ChAdOx1 S recombinante                     0   \n",
       "1     COVISHIELD ChAdOx1nCoV COVID 19                     0   \n",
       "2                    Cansino Ad5 nCoV                 90304   \n",
       "3                   Moderna 010 mg mL                     0   \n",
       "4              Moderna ARNm 020 mg mL                     0   \n",
       "\n",
       "   primera_dosis_cantidad  segunda_dosis_cantidad  dosis_adicional_cantidad  \\\n",
       "0                 3648423                 4022410                    832867   \n",
       "1                  251406                     382                         0   \n",
       "2                       0                    7732                      1530   \n",
       "3                   40762                   16842                         0   \n",
       "4                  425932                 1262214                      3185   \n",
       "\n",
       "   dosis_refuerzo_cantidad  \n",
       "0                  1121164  \n",
       "1                        0  \n",
       "2                   110358  \n",
       "3                    84527  \n",
       "4                  4482287  "
      ]
     },
     "execution_count": 3,
     "metadata": {},
     "output_type": "execute_result"
    }
   ],
   "source": [
    "df = pd.read_csv(r'DataSets/Covid19VacunasAgrupadas.csv')\n",
    "df.head()"
   ]
  },
  {
   "cell_type": "code",
   "execution_count": 16,
   "metadata": {},
   "outputs": [],
   "source": [
    "app = dash.Dash(__name__)\n",
    "app.layout = html.Div([\n",
    "    html.Div([\n",
    "        html.H1('Vacunados por Covid'),\n",
    "        html.Img(src='assets/vacunados.jpg')\n",
    "    ], className='banner')\n",
    "])"
   ]
  },
  {
   "cell_type": "code",
   "execution_count": 18,
   "metadata": {},
   "outputs": [
    {
     "name": "stdout",
     "output_type": "stream",
     "text": [
      "Dash is running on http://127.0.0.1:8050/\n",
      "\n",
      "Dash is running on http://127.0.0.1:8050/\n",
      "\n",
      " * Serving Flask app '__main__'\n",
      " * Debug mode: on\n"
     ]
    },
    {
     "ename": "SystemExit",
     "evalue": "1",
     "output_type": "error",
     "traceback": [
      "An exception has occurred, use %tb to see the full traceback.\n",
      "\u001b[1;31mSystemExit\u001b[0m\u001b[1;31m:\u001b[0m 1\n"
     ]
    },
    {
     "name": "stderr",
     "output_type": "stream",
     "text": [
      "c:\\Users\\fgmol\\anaconda3\\envs\\DataScience\\lib\\site-packages\\IPython\\core\\interactiveshell.py:3450: UserWarning: To exit: use 'exit', 'quit', or Ctrl-D.\n",
      "  warn(\"To exit: use 'exit', 'quit', or Ctrl-D.\", stacklevel=1)\n"
     ]
    }
   ],
   "source": [
    "if __name__ == '__main__':\n",
    "    app.run_server(debug=True)"
   ]
  },
  {
   "cell_type": "code",
   "execution_count": null,
   "metadata": {},
   "outputs": [],
   "source": []
  }
 ],
 "metadata": {
  "kernelspec": {
   "display_name": "Python 3.9.16 ('DataScience')",
   "language": "python",
   "name": "python3"
  },
  "language_info": {
   "codemirror_mode": {
    "name": "ipython",
    "version": 3
   },
   "file_extension": ".py",
   "mimetype": "text/x-python",
   "name": "python",
   "nbconvert_exporter": "python",
   "pygments_lexer": "ipython3",
   "version": "3.9.16"
  },
  "orig_nbformat": 4,
  "vscode": {
   "interpreter": {
    "hash": "216067649fe8e327546013e4492c6cd73cddb9a652bee649cff47328ad541d1d"
   }
  }
 },
 "nbformat": 4,
 "nbformat_minor": 2
}
